{
 "cells": [
  {
   "cell_type": "code",
   "execution_count": 2,
   "metadata": {},
   "outputs": [
    {
     "name": "stdout",
     "output_type": "stream",
     "text": [
      "Found 8887 images belonging to 10 classes.\n",
      "Found 2215 images belonging to 10 classes.\n"
     ]
    }
   ],
   "source": [
    "import numpy as np\n",
    "import tensorflow as tf\n",
    "from tensorflow.keras.preprocessing.image import ImageDataGenerator\n",
    "\n",
    "# Assume genomaps are in a folder: 'genomaps_data' with subfolders for each category\n",
    "data_dir = 'organized_genomaps'\n",
    "\n",
    "# Data generator for loading and preprocessing images\n",
    "datagen = ImageDataGenerator(rescale=1.0/255.0, validation_split=0.2)\n",
    "\n",
    "# Training and validation data\n",
    "train_data = datagen.flow_from_directory(data_dir, target_size=(224, 224),\n",
    "                                         batch_size=32, class_mode='categorical', subset='training')\n",
    "\n",
    "val_data = datagen.flow_from_directory(data_dir, target_size=(224, 224),\n",
    "                                       batch_size=32, class_mode='categorical', subset='validation')\n"
   ]
  },
  {
   "cell_type": "code",
   "execution_count": 3,
   "metadata": {},
   "outputs": [
    {
     "name": "stdout",
     "output_type": "stream",
     "text": [
      "Downloading data from https://storage.googleapis.com/tensorflow/keras-applications/resnet/resnet50_weights_tf_dim_ordering_tf_kernels_notop.h5\n",
      "\u001b[1m94765736/94765736\u001b[0m \u001b[32m━━━━━━━━━━━━━━━━━━━━\u001b[0m\u001b[37m\u001b[0m \u001b[1m4s\u001b[0m 0us/step\n"
     ]
    },
    {
     "name": "stderr",
     "output_type": "stream",
     "text": [
      "d:\\Fall 2024\\manaswini capstone\\myenv\\Lib\\site-packages\\keras\\src\\trainers\\data_adapters\\py_dataset_adapter.py:121: UserWarning: Your `PyDataset` class should call `super().__init__(**kwargs)` in its constructor. `**kwargs` can include `workers`, `use_multiprocessing`, `max_queue_size`. Do not pass these arguments to `fit()`, as they will be ignored.\n",
      "  self._warn_if_super_not_called()\n"
     ]
    },
    {
     "name": "stdout",
     "output_type": "stream",
     "text": [
      "\u001b[1m278/278\u001b[0m \u001b[32m━━━━━━━━━━━━━━━━━━━━\u001b[0m\u001b[37m\u001b[0m \u001b[1m429s\u001b[0m 2s/step\n",
      "\u001b[1m70/70\u001b[0m \u001b[32m━━━━━━━━━━━━━━━━━━━━\u001b[0m\u001b[37m\u001b[0m \u001b[1m97s\u001b[0m 1s/step\n"
     ]
    }
   ],
   "source": [
    "from tensorflow.keras.applications import ResNet50\n",
    "from tensorflow.keras.models import Model\n",
    "\n",
    "# Load pretrained ResNet50 model\n",
    "base_model = ResNet50(include_top=False, weights='imagenet', input_shape=(224, 224, 3))\n",
    "base_model.trainable = False  # Freeze the pretrained layers\n",
    "\n",
    "# Add pooling and flattening layers for feature extraction\n",
    "feature_extractor = tf.keras.Sequential([\n",
    "    base_model,\n",
    "    tf.keras.layers.GlobalAveragePooling2D(),\n",
    "    tf.keras.layers.Flatten()\n",
    "])\n",
    "\n",
    "# Extract features for training and validation data\n",
    "X_train_features = feature_extractor.predict(train_data, verbose=1)\n",
    "X_val_features = feature_extractor.predict(val_data, verbose=1)\n",
    "y_train = train_data.classes\n",
    "y_val = val_data.classes\n"
   ]
  },
  {
   "cell_type": "code",
   "execution_count": 4,
   "metadata": {},
   "outputs": [
    {
     "name": "stdout",
     "output_type": "stream",
     "text": [
      "Random Forest Validation Accuracy: 0.09255079006772009\n"
     ]
    }
   ],
   "source": [
    "from sklearn.ensemble import RandomForestClassifier\n",
    "from sklearn.metrics import accuracy_score\n",
    "\n",
    "# Initialize Random Forest Classifier\n",
    "rf = RandomForestClassifier(n_estimators=100, random_state=42)\n",
    "\n",
    "# Train the model on deep learning extracted features\n",
    "rf.fit(X_train_features, y_train)\n",
    "\n",
    "# Predict on validation features\n",
    "rf_predictions = rf.predict(X_val_features)\n",
    "\n",
    "# Accuracy of Random Forest\n",
    "rf_accuracy = accuracy_score(y_val, rf_predictions)\n",
    "print(f\"Random Forest Validation Accuracy: {rf_accuracy}\")\n"
   ]
  },
  {
   "cell_type": "code",
   "execution_count": 5,
   "metadata": {},
   "outputs": [
    {
     "name": "stdout",
     "output_type": "stream",
     "text": [
      "\u001b[1m70/70\u001b[0m \u001b[32m━━━━━━━━━━━━━━━━━━━━\u001b[0m\u001b[37m\u001b[0m \u001b[1m89s\u001b[0m 1s/step\n"
     ]
    }
   ],
   "source": [
    "# Predictions from Deep Learning model\n",
    "dl_predictions = feature_extractor.predict(val_data, verbose=1)\n",
    "\n",
    "# Convert Deep Learning predictions to class labels\n",
    "dl_pred_labels = np.argmax(dl_predictions, axis=1)\n",
    "\n",
    "# Combine predictions using a weighted ensemble\n",
    "ensemble_predictions = (0.6 * dl_pred_labels + 0.4 * rf_predictions).round().astype(int)\n"
   ]
  },
  {
   "cell_type": "code",
   "execution_count": 9,
   "metadata": {},
   "outputs": [
    {
     "name": "stdout",
     "output_type": "stream",
     "text": [
      "Unique predictions: [61 62 63 64]\n",
      "Available class indices: [0, 1, 2, 3, 4, 5, 6, 7, 8, 9]\n"
     ]
    }
   ],
   "source": [
    "import matplotlib.pyplot as plt\n",
    "import os\n",
    "import numpy as np\n",
    "\n",
    "output_dir = 'annotated_genomaps'\n",
    "os.makedirs(output_dir, exist_ok=True)\n",
    "\n",
    "# Reverse the mapping of class indices to get the class names\n",
    "class_indices_reverse = {v: k for k, v in train_data.class_indices.items()}\n",
    "\n",
    "# Validate and fix predictions\n",
    "print(\"Unique predictions:\", np.unique(ensemble_predictions))\n",
    "print(\"Available class indices:\", list(class_indices_reverse.keys()))\n",
    "\n",
    "# Clip predictions to valid range\n",
    "valid_classes = list(class_indices_reverse.keys())\n",
    "ensemble_predictions = np.clip(ensemble_predictions, min(valid_classes), max(valid_classes)).astype(int)\n",
    "\n",
    "# Annotate and save each genomap\n",
    "for idx, (image, label) in enumerate(zip(val_data.filepaths, ensemble_predictions)):\n",
    "    img = plt.imread(image)\n",
    "    plt.figure(figsize=(6, 6))\n",
    "    try:\n",
    "        # Use the reversed mapping to get the class name\n",
    "        class_name = class_indices_reverse[label]\n",
    "    except KeyError:\n",
    "        print(f\"Warning: Label {label} not found in class_indices_reverse. Skipping image {idx}.\")\n",
    "        continue\n",
    "    \n",
    "    plt.imshow(img)\n",
    "    plt.title(f'Annotation: {class_name}')\n",
    "    plt.axis('off')\n",
    "    plt.savefig(os.path.join(output_dir, f'genomap_{idx + 1}.png'))\n",
    "    plt.close()\n"
   ]
  }
 ],
 "metadata": {
  "kernelspec": {
   "display_name": "myenv",
   "language": "python",
   "name": "python3"
  },
  "language_info": {
   "codemirror_mode": {
    "name": "ipython",
    "version": 3
   },
   "file_extension": ".py",
   "mimetype": "text/x-python",
   "name": "python",
   "nbconvert_exporter": "python",
   "pygments_lexer": "ipython3",
   "version": "3.12.5"
  }
 },
 "nbformat": 4,
 "nbformat_minor": 2
}
