{
 "cells": [
  {
   "cell_type": "code",
   "execution_count": 1,
   "metadata": {},
   "outputs": [],
   "source": [
    "import pandas as pd\n",
    "import matplotlib.pyplot as plt\n",
    "import os"
   ]
  },
  {
   "cell_type": "code",
   "execution_count": 2,
   "metadata": {},
   "outputs": [],
   "source": [
    "# Define the directory containing your files\n",
    "input_directory = \"D:/Fall 2024/capstone/datasets/FinalReport\"\n",
    "output_directory = 'genomaps'"
   ]
  },
  {
   "cell_type": "code",
   "execution_count": 3,
   "metadata": {},
   "outputs": [],
   "source": [
    "# Ensure the output directory exists\n",
    "os.makedirs(output_directory, exist_ok=True)"
   ]
  },
  {
   "cell_type": "code",
   "execution_count": 4,
   "metadata": {},
   "outputs": [
    {
     "name": "stdout",
     "output_type": "stream",
     "text": [
      "Processing file: ADNI3_FinalReport1201.csv\n"
     ]
    },
    {
     "name": "stderr",
     "output_type": "stream",
     "text": [
      "C:\\Users\\mudiv\\AppData\\Local\\Temp\\ipykernel_11800\\1192419693.py:9: DtypeWarning: Columns (13) have mixed types. Specify dtype option on import or set low_memory=False.\n",
      "  data = pd.read_csv(file_path, skiprows=11)  # Adjust skiprows as needed\n"
     ]
    },
    {
     "name": "stdout",
     "output_type": "stream",
     "text": [
      "Genomap saved: genomaps\\ADNI3_FinalReport1201_genomap.png\n",
      "Processing file: ADNI3_FinalReport2187.csv\n"
     ]
    },
    {
     "name": "stderr",
     "output_type": "stream",
     "text": [
      "C:\\Users\\mudiv\\AppData\\Local\\Temp\\ipykernel_11800\\1192419693.py:9: DtypeWarning: Columns (13) have mixed types. Specify dtype option on import or set low_memory=False.\n",
      "  data = pd.read_csv(file_path, skiprows=11)  # Adjust skiprows as needed\n"
     ]
    },
    {
     "name": "stdout",
     "output_type": "stream",
     "text": [
      "Genomap saved: genomaps\\ADNI3_FinalReport2187_genomap.png\n",
      "Processing file: ADNI3_FinalReport4061.csv\n"
     ]
    },
    {
     "name": "stderr",
     "output_type": "stream",
     "text": [
      "C:\\Users\\mudiv\\AppData\\Local\\Temp\\ipykernel_11800\\1192419693.py:9: DtypeWarning: Columns (13) have mixed types. Specify dtype option on import or set low_memory=False.\n",
      "  data = pd.read_csv(file_path, skiprows=11)  # Adjust skiprows as needed\n"
     ]
    },
    {
     "name": "stdout",
     "output_type": "stream",
     "text": [
      "Genomap saved: genomaps\\ADNI3_FinalReport4061_genomap.png\n",
      "Processing file: ADNI3_FinalReport4067.csv\n"
     ]
    },
    {
     "name": "stderr",
     "output_type": "stream",
     "text": [
      "C:\\Users\\mudiv\\AppData\\Local\\Temp\\ipykernel_11800\\1192419693.py:9: DtypeWarning: Columns (13) have mixed types. Specify dtype option on import or set low_memory=False.\n",
      "  data = pd.read_csv(file_path, skiprows=11)  # Adjust skiprows as needed\n"
     ]
    },
    {
     "name": "stdout",
     "output_type": "stream",
     "text": [
      "Genomap saved: genomaps\\ADNI3_FinalReport4067_genomap.png\n",
      "Processing file: ADNI3_FinalReport4431.csv\n"
     ]
    },
    {
     "name": "stderr",
     "output_type": "stream",
     "text": [
      "C:\\Users\\mudiv\\AppData\\Local\\Temp\\ipykernel_11800\\1192419693.py:9: DtypeWarning: Columns (13) have mixed types. Specify dtype option on import or set low_memory=False.\n",
      "  data = pd.read_csv(file_path, skiprows=11)  # Adjust skiprows as needed\n"
     ]
    },
    {
     "name": "stdout",
     "output_type": "stream",
     "text": [
      "Genomap saved: genomaps\\ADNI3_FinalReport4431_genomap.png\n",
      "Processing file: ADNI3_FinalReport4968.csv\n"
     ]
    },
    {
     "name": "stderr",
     "output_type": "stream",
     "text": [
      "C:\\Users\\mudiv\\AppData\\Local\\Temp\\ipykernel_11800\\1192419693.py:9: DtypeWarning: Columns (13) have mixed types. Specify dtype option on import or set low_memory=False.\n",
      "  data = pd.read_csv(file_path, skiprows=11)  # Adjust skiprows as needed\n"
     ]
    },
    {
     "name": "stdout",
     "output_type": "stream",
     "text": [
      "Genomap saved: genomaps\\ADNI3_FinalReport4968_genomap.png\n",
      "Processing file: ADNI3_FinalReport6051.csv\n"
     ]
    },
    {
     "name": "stderr",
     "output_type": "stream",
     "text": [
      "C:\\Users\\mudiv\\AppData\\Local\\Temp\\ipykernel_11800\\1192419693.py:9: DtypeWarning: Columns (13) have mixed types. Specify dtype option on import or set low_memory=False.\n",
      "  data = pd.read_csv(file_path, skiprows=11)  # Adjust skiprows as needed\n"
     ]
    },
    {
     "name": "stdout",
     "output_type": "stream",
     "text": [
      "Genomap saved: genomaps\\ADNI3_FinalReport6051_genomap.png\n",
      "Processing file: ADNI3_FinalReport6218.csv\n"
     ]
    },
    {
     "name": "stderr",
     "output_type": "stream",
     "text": [
      "C:\\Users\\mudiv\\AppData\\Local\\Temp\\ipykernel_11800\\1192419693.py:9: DtypeWarning: Columns (13) have mixed types. Specify dtype option on import or set low_memory=False.\n",
      "  data = pd.read_csv(file_path, skiprows=11)  # Adjust skiprows as needed\n"
     ]
    },
    {
     "name": "stdout",
     "output_type": "stream",
     "text": [
      "Genomap saved: genomaps\\ADNI3_FinalReport6218_genomap.png\n",
      "Processing file: ADNI3_FinalReport6220.csv\n"
     ]
    },
    {
     "name": "stderr",
     "output_type": "stream",
     "text": [
      "C:\\Users\\mudiv\\AppData\\Local\\Temp\\ipykernel_11800\\1192419693.py:9: DtypeWarning: Columns (13) have mixed types. Specify dtype option on import or set low_memory=False.\n",
      "  data = pd.read_csv(file_path, skiprows=11)  # Adjust skiprows as needed\n"
     ]
    },
    {
     "name": "stdout",
     "output_type": "stream",
     "text": [
      "Genomap saved: genomaps\\ADNI3_FinalReport6220_genomap.png\n",
      "Processing file: ADNI3_FinalReport6221.csv\n"
     ]
    },
    {
     "name": "stderr",
     "output_type": "stream",
     "text": [
      "C:\\Users\\mudiv\\AppData\\Local\\Temp\\ipykernel_11800\\1192419693.py:9: DtypeWarning: Columns (13) have mixed types. Specify dtype option on import or set low_memory=False.\n",
      "  data = pd.read_csv(file_path, skiprows=11)  # Adjust skiprows as needed\n"
     ]
    },
    {
     "name": "stdout",
     "output_type": "stream",
     "text": [
      "Genomap saved: genomaps\\ADNI3_FinalReport6221_genomap.png\n",
      "Processing file: ADNI3_FinalReport6229.csv\n"
     ]
    },
    {
     "name": "stderr",
     "output_type": "stream",
     "text": [
      "C:\\Users\\mudiv\\AppData\\Local\\Temp\\ipykernel_11800\\1192419693.py:9: DtypeWarning: Columns (13) have mixed types. Specify dtype option on import or set low_memory=False.\n",
      "  data = pd.read_csv(file_path, skiprows=11)  # Adjust skiprows as needed\n"
     ]
    },
    {
     "name": "stdout",
     "output_type": "stream",
     "text": [
      "Genomap saved: genomaps\\ADNI3_FinalReport6229_genomap.png\n",
      "Processing file: ADNI3_FinalReport6254.csv\n"
     ]
    },
    {
     "name": "stderr",
     "output_type": "stream",
     "text": [
      "C:\\Users\\mudiv\\AppData\\Local\\Temp\\ipykernel_11800\\1192419693.py:9: DtypeWarning: Columns (13) have mixed types. Specify dtype option on import or set low_memory=False.\n",
      "  data = pd.read_csv(file_path, skiprows=11)  # Adjust skiprows as needed\n"
     ]
    },
    {
     "name": "stdout",
     "output_type": "stream",
     "text": [
      "Genomap saved: genomaps\\ADNI3_FinalReport6254_genomap.png\n",
      "Processing file: ADNI3_FinalReport6281.csv\n"
     ]
    },
    {
     "name": "stderr",
     "output_type": "stream",
     "text": [
      "C:\\Users\\mudiv\\AppData\\Local\\Temp\\ipykernel_11800\\1192419693.py:9: DtypeWarning: Columns (13) have mixed types. Specify dtype option on import or set low_memory=False.\n",
      "  data = pd.read_csv(file_path, skiprows=11)  # Adjust skiprows as needed\n"
     ]
    },
    {
     "name": "stdout",
     "output_type": "stream",
     "text": [
      "Genomap saved: genomaps\\ADNI3_FinalReport6281_genomap.png\n",
      "Processing file: ADNI3_FinalReport6300.csv\n"
     ]
    },
    {
     "name": "stderr",
     "output_type": "stream",
     "text": [
      "C:\\Users\\mudiv\\AppData\\Local\\Temp\\ipykernel_11800\\1192419693.py:9: DtypeWarning: Columns (13) have mixed types. Specify dtype option on import or set low_memory=False.\n",
      "  data = pd.read_csv(file_path, skiprows=11)  # Adjust skiprows as needed\n"
     ]
    },
    {
     "name": "stdout",
     "output_type": "stream",
     "text": [
      "Genomap saved: genomaps\\ADNI3_FinalReport6300_genomap.png\n",
      "Processing file: ADNI3_FinalReport6328.csv\n"
     ]
    },
    {
     "name": "stderr",
     "output_type": "stream",
     "text": [
      "C:\\Users\\mudiv\\AppData\\Local\\Temp\\ipykernel_11800\\1192419693.py:9: DtypeWarning: Columns (13) have mixed types. Specify dtype option on import or set low_memory=False.\n",
      "  data = pd.read_csv(file_path, skiprows=11)  # Adjust skiprows as needed\n"
     ]
    },
    {
     "name": "stdout",
     "output_type": "stream",
     "text": [
      "Genomap saved: genomaps\\ADNI3_FinalReport6328_genomap.png\n",
      "Processing file: ADNI3_FinalReport6364.csv\n"
     ]
    },
    {
     "name": "stderr",
     "output_type": "stream",
     "text": [
      "C:\\Users\\mudiv\\AppData\\Local\\Temp\\ipykernel_11800\\1192419693.py:9: DtypeWarning: Columns (13) have mixed types. Specify dtype option on import or set low_memory=False.\n",
      "  data = pd.read_csv(file_path, skiprows=11)  # Adjust skiprows as needed\n"
     ]
    },
    {
     "name": "stdout",
     "output_type": "stream",
     "text": [
      "Genomap saved: genomaps\\ADNI3_FinalReport6364_genomap.png\n",
      "Processing file: ADNI3_FinalReport6373.csv\n"
     ]
    },
    {
     "name": "stderr",
     "output_type": "stream",
     "text": [
      "C:\\Users\\mudiv\\AppData\\Local\\Temp\\ipykernel_11800\\1192419693.py:9: DtypeWarning: Columns (13) have mixed types. Specify dtype option on import or set low_memory=False.\n",
      "  data = pd.read_csv(file_path, skiprows=11)  # Adjust skiprows as needed\n"
     ]
    },
    {
     "name": "stdout",
     "output_type": "stream",
     "text": [
      "Genomap saved: genomaps\\ADNI3_FinalReport6373_genomap.png\n",
      "Processing file: ADNI3_FinalReport6376.csv\n"
     ]
    },
    {
     "name": "stderr",
     "output_type": "stream",
     "text": [
      "C:\\Users\\mudiv\\AppData\\Local\\Temp\\ipykernel_11800\\1192419693.py:9: DtypeWarning: Columns (13) have mixed types. Specify dtype option on import or set low_memory=False.\n",
      "  data = pd.read_csv(file_path, skiprows=11)  # Adjust skiprows as needed\n"
     ]
    },
    {
     "name": "stdout",
     "output_type": "stream",
     "text": [
      "Genomap saved: genomaps\\ADNI3_FinalReport6376_genomap.png\n",
      "Processing file: ADNI3_FinalReport6405.csv\n"
     ]
    },
    {
     "name": "stderr",
     "output_type": "stream",
     "text": [
      "C:\\Users\\mudiv\\AppData\\Local\\Temp\\ipykernel_11800\\1192419693.py:9: DtypeWarning: Columns (13) have mixed types. Specify dtype option on import or set low_memory=False.\n",
      "  data = pd.read_csv(file_path, skiprows=11)  # Adjust skiprows as needed\n"
     ]
    },
    {
     "name": "stdout",
     "output_type": "stream",
     "text": [
      "Genomap saved: genomaps\\ADNI3_FinalReport6405_genomap.png\n",
      "Processing file: ADNI3_FinalReport6406.csv\n"
     ]
    },
    {
     "name": "stderr",
     "output_type": "stream",
     "text": [
      "C:\\Users\\mudiv\\AppData\\Local\\Temp\\ipykernel_11800\\1192419693.py:9: DtypeWarning: Columns (13) have mixed types. Specify dtype option on import or set low_memory=False.\n",
      "  data = pd.read_csv(file_path, skiprows=11)  # Adjust skiprows as needed\n"
     ]
    },
    {
     "name": "stdout",
     "output_type": "stream",
     "text": [
      "Genomap saved: genomaps\\ADNI3_FinalReport6406_genomap.png\n",
      "Processing file: ADNI3_FinalReport6412.csv\n"
     ]
    },
    {
     "name": "stderr",
     "output_type": "stream",
     "text": [
      "C:\\Users\\mudiv\\AppData\\Local\\Temp\\ipykernel_11800\\1192419693.py:9: DtypeWarning: Columns (13) have mixed types. Specify dtype option on import or set low_memory=False.\n",
      "  data = pd.read_csv(file_path, skiprows=11)  # Adjust skiprows as needed\n"
     ]
    },
    {
     "name": "stdout",
     "output_type": "stream",
     "text": [
      "Genomap saved: genomaps\\ADNI3_FinalReport6412_genomap.png\n",
      "Processing file: ADNI3_FinalReport6443.csv\n"
     ]
    },
    {
     "name": "stderr",
     "output_type": "stream",
     "text": [
      "C:\\Users\\mudiv\\AppData\\Local\\Temp\\ipykernel_11800\\1192419693.py:9: DtypeWarning: Columns (13) have mixed types. Specify dtype option on import or set low_memory=False.\n",
      "  data = pd.read_csv(file_path, skiprows=11)  # Adjust skiprows as needed\n"
     ]
    },
    {
     "name": "stdout",
     "output_type": "stream",
     "text": [
      "Genomap saved: genomaps\\ADNI3_FinalReport6443_genomap.png\n",
      "Processing file: ADNI3_FinalReport6447.csv\n"
     ]
    },
    {
     "name": "stderr",
     "output_type": "stream",
     "text": [
      "C:\\Users\\mudiv\\AppData\\Local\\Temp\\ipykernel_11800\\1192419693.py:9: DtypeWarning: Columns (13) have mixed types. Specify dtype option on import or set low_memory=False.\n",
      "  data = pd.read_csv(file_path, skiprows=11)  # Adjust skiprows as needed\n"
     ]
    },
    {
     "name": "stdout",
     "output_type": "stream",
     "text": [
      "Genomap saved: genomaps\\ADNI3_FinalReport6447_genomap.png\n",
      "Processing file: ADNI3_FinalReport6449.csv\n"
     ]
    },
    {
     "name": "stderr",
     "output_type": "stream",
     "text": [
      "C:\\Users\\mudiv\\AppData\\Local\\Temp\\ipykernel_11800\\1192419693.py:9: DtypeWarning: Columns (13) have mixed types. Specify dtype option on import or set low_memory=False.\n",
      "  data = pd.read_csv(file_path, skiprows=11)  # Adjust skiprows as needed\n"
     ]
    },
    {
     "name": "stdout",
     "output_type": "stream",
     "text": [
      "Genomap saved: genomaps\\ADNI3_FinalReport6449_genomap.png\n",
      "Processing file: ADNI3_FinalReport6462.csv\n"
     ]
    },
    {
     "name": "stderr",
     "output_type": "stream",
     "text": [
      "C:\\Users\\mudiv\\AppData\\Local\\Temp\\ipykernel_11800\\1192419693.py:9: DtypeWarning: Columns (13) have mixed types. Specify dtype option on import or set low_memory=False.\n",
      "  data = pd.read_csv(file_path, skiprows=11)  # Adjust skiprows as needed\n"
     ]
    },
    {
     "name": "stdout",
     "output_type": "stream",
     "text": [
      "Genomap saved: genomaps\\ADNI3_FinalReport6462_genomap.png\n",
      "Processing file: ADNI3_FinalReport6487.csv\n"
     ]
    },
    {
     "name": "stderr",
     "output_type": "stream",
     "text": [
      "C:\\Users\\mudiv\\AppData\\Local\\Temp\\ipykernel_11800\\1192419693.py:9: DtypeWarning: Columns (13) have mixed types. Specify dtype option on import or set low_memory=False.\n",
      "  data = pd.read_csv(file_path, skiprows=11)  # Adjust skiprows as needed\n"
     ]
    },
    {
     "name": "stdout",
     "output_type": "stream",
     "text": [
      "Genomap saved: genomaps\\ADNI3_FinalReport6487_genomap.png\n",
      "Processing file: ADNI3_FinalReport6509.csv\n"
     ]
    },
    {
     "name": "stderr",
     "output_type": "stream",
     "text": [
      "C:\\Users\\mudiv\\AppData\\Local\\Temp\\ipykernel_11800\\1192419693.py:9: DtypeWarning: Columns (13) have mixed types. Specify dtype option on import or set low_memory=False.\n",
      "  data = pd.read_csv(file_path, skiprows=11)  # Adjust skiprows as needed\n"
     ]
    },
    {
     "name": "stdout",
     "output_type": "stream",
     "text": [
      "Genomap saved: genomaps\\ADNI3_FinalReport6509_genomap.png\n",
      "Processing file: ADNI3_FinalReport6518.csv\n"
     ]
    },
    {
     "name": "stderr",
     "output_type": "stream",
     "text": [
      "C:\\Users\\mudiv\\AppData\\Local\\Temp\\ipykernel_11800\\1192419693.py:9: DtypeWarning: Columns (13) have mixed types. Specify dtype option on import or set low_memory=False.\n",
      "  data = pd.read_csv(file_path, skiprows=11)  # Adjust skiprows as needed\n"
     ]
    },
    {
     "name": "stdout",
     "output_type": "stream",
     "text": [
      "Genomap saved: genomaps\\ADNI3_FinalReport6518_genomap.png\n",
      "Processing file: ADNI3_FinalReport6521.csv\n"
     ]
    },
    {
     "name": "stderr",
     "output_type": "stream",
     "text": [
      "C:\\Users\\mudiv\\AppData\\Local\\Temp\\ipykernel_11800\\1192419693.py:9: DtypeWarning: Columns (13) have mixed types. Specify dtype option on import or set low_memory=False.\n",
      "  data = pd.read_csv(file_path, skiprows=11)  # Adjust skiprows as needed\n"
     ]
    },
    {
     "name": "stdout",
     "output_type": "stream",
     "text": [
      "Genomap saved: genomaps\\ADNI3_FinalReport6521_genomap.png\n",
      "Processing file: ADNI3_FinalReport6524.csv\n"
     ]
    },
    {
     "name": "stderr",
     "output_type": "stream",
     "text": [
      "C:\\Users\\mudiv\\AppData\\Local\\Temp\\ipykernel_11800\\1192419693.py:9: DtypeWarning: Columns (13) have mixed types. Specify dtype option on import or set low_memory=False.\n",
      "  data = pd.read_csv(file_path, skiprows=11)  # Adjust skiprows as needed\n"
     ]
    },
    {
     "name": "stdout",
     "output_type": "stream",
     "text": [
      "Error processing ADNI3_FinalReport6524.csv: '0.8136'\n",
      "Processing file: ADNI3_FinalReport6525.csv\n"
     ]
    },
    {
     "name": "stderr",
     "output_type": "stream",
     "text": [
      "C:\\Users\\mudiv\\AppData\\Local\\Temp\\ipykernel_11800\\1192419693.py:9: DtypeWarning: Columns (13) have mixed types. Specify dtype option on import or set low_memory=False.\n",
      "  data = pd.read_csv(file_path, skiprows=11)  # Adjust skiprows as needed\n"
     ]
    },
    {
     "name": "stdout",
     "output_type": "stream",
     "text": [
      "Genomap saved: genomaps\\ADNI3_FinalReport6525_genomap.png\n",
      "Processing file: ADNI3_FinalReport6528.csv\n"
     ]
    },
    {
     "name": "stderr",
     "output_type": "stream",
     "text": [
      "C:\\Users\\mudiv\\AppData\\Local\\Temp\\ipykernel_11800\\1192419693.py:9: DtypeWarning: Columns (13) have mixed types. Specify dtype option on import or set low_memory=False.\n",
      "  data = pd.read_csv(file_path, skiprows=11)  # Adjust skiprows as needed\n"
     ]
    },
    {
     "name": "stdout",
     "output_type": "stream",
     "text": [
      "Genomap saved: genomaps\\ADNI3_FinalReport6528_genomap.png\n",
      "Processing file: ADNI3_FinalReport6541.csv\n"
     ]
    },
    {
     "name": "stderr",
     "output_type": "stream",
     "text": [
      "C:\\Users\\mudiv\\AppData\\Local\\Temp\\ipykernel_11800\\1192419693.py:9: DtypeWarning: Columns (13) have mixed types. Specify dtype option on import or set low_memory=False.\n",
      "  data = pd.read_csv(file_path, skiprows=11)  # Adjust skiprows as needed\n"
     ]
    },
    {
     "name": "stdout",
     "output_type": "stream",
     "text": [
      "Genomap saved: genomaps\\ADNI3_FinalReport6541_genomap.png\n",
      "Processing file: ADNI3_FinalReport6551.csv\n"
     ]
    },
    {
     "name": "stderr",
     "output_type": "stream",
     "text": [
      "C:\\Users\\mudiv\\AppData\\Local\\Temp\\ipykernel_11800\\1192419693.py:9: DtypeWarning: Columns (13) have mixed types. Specify dtype option on import or set low_memory=False.\n",
      "  data = pd.read_csv(file_path, skiprows=11)  # Adjust skiprows as needed\n"
     ]
    },
    {
     "name": "stdout",
     "output_type": "stream",
     "text": [
      "Genomap saved: genomaps\\ADNI3_FinalReport6551_genomap.png\n",
      "Processing file: ADNI3_FinalReport6570.csv\n"
     ]
    },
    {
     "name": "stderr",
     "output_type": "stream",
     "text": [
      "C:\\Users\\mudiv\\AppData\\Local\\Temp\\ipykernel_11800\\1192419693.py:9: DtypeWarning: Columns (13) have mixed types. Specify dtype option on import or set low_memory=False.\n",
      "  data = pd.read_csv(file_path, skiprows=11)  # Adjust skiprows as needed\n"
     ]
    },
    {
     "name": "stdout",
     "output_type": "stream",
     "text": [
      "Genomap saved: genomaps\\ADNI3_FinalReport6570_genomap.png\n",
      "Processing file: ADNI3_FinalReport6574.csv\n"
     ]
    },
    {
     "name": "stderr",
     "output_type": "stream",
     "text": [
      "C:\\Users\\mudiv\\AppData\\Local\\Temp\\ipykernel_11800\\1192419693.py:9: DtypeWarning: Columns (13) have mixed types. Specify dtype option on import or set low_memory=False.\n",
      "  data = pd.read_csv(file_path, skiprows=11)  # Adjust skiprows as needed\n"
     ]
    },
    {
     "name": "stdout",
     "output_type": "stream",
     "text": [
      "Genomap saved: genomaps\\ADNI3_FinalReport6574_genomap.png\n",
      "Processing file: ADNI3_FinalReport6589.csv\n"
     ]
    },
    {
     "name": "stderr",
     "output_type": "stream",
     "text": [
      "C:\\Users\\mudiv\\AppData\\Local\\Temp\\ipykernel_11800\\1192419693.py:9: DtypeWarning: Columns (13) have mixed types. Specify dtype option on import or set low_memory=False.\n",
      "  data = pd.read_csv(file_path, skiprows=11)  # Adjust skiprows as needed\n"
     ]
    },
    {
     "name": "stdout",
     "output_type": "stream",
     "text": [
      "Genomap saved: genomaps\\ADNI3_FinalReport6589_genomap.png\n",
      "Processing file: ADNI3_FinalReport6591.csv\n"
     ]
    },
    {
     "name": "stderr",
     "output_type": "stream",
     "text": [
      "C:\\Users\\mudiv\\AppData\\Local\\Temp\\ipykernel_11800\\1192419693.py:9: DtypeWarning: Columns (13) have mixed types. Specify dtype option on import or set low_memory=False.\n",
      "  data = pd.read_csv(file_path, skiprows=11)  # Adjust skiprows as needed\n"
     ]
    },
    {
     "name": "stdout",
     "output_type": "stream",
     "text": [
      "Genomap saved: genomaps\\ADNI3_FinalReport6591_genomap.png\n",
      "Processing file: ADNI3_FinalReport6592.csv\n"
     ]
    },
    {
     "name": "stderr",
     "output_type": "stream",
     "text": [
      "C:\\Users\\mudiv\\AppData\\Local\\Temp\\ipykernel_11800\\1192419693.py:9: DtypeWarning: Columns (13) have mixed types. Specify dtype option on import or set low_memory=False.\n",
      "  data = pd.read_csv(file_path, skiprows=11)  # Adjust skiprows as needed\n"
     ]
    },
    {
     "name": "stdout",
     "output_type": "stream",
     "text": [
      "Genomap saved: genomaps\\ADNI3_FinalReport6592_genomap.png\n",
      "Processing file: ADNI3_FinalReport6593.csv\n"
     ]
    },
    {
     "name": "stderr",
     "output_type": "stream",
     "text": [
      "C:\\Users\\mudiv\\AppData\\Local\\Temp\\ipykernel_11800\\1192419693.py:9: DtypeWarning: Columns (13) have mixed types. Specify dtype option on import or set low_memory=False.\n",
      "  data = pd.read_csv(file_path, skiprows=11)  # Adjust skiprows as needed\n"
     ]
    },
    {
     "name": "stdout",
     "output_type": "stream",
     "text": [
      "Genomap saved: genomaps\\ADNI3_FinalReport6593_genomap.png\n",
      "Processing file: ADNI3_FinalReport6595.csv\n"
     ]
    },
    {
     "name": "stderr",
     "output_type": "stream",
     "text": [
      "C:\\Users\\mudiv\\AppData\\Local\\Temp\\ipykernel_11800\\1192419693.py:9: DtypeWarning: Columns (13) have mixed types. Specify dtype option on import or set low_memory=False.\n",
      "  data = pd.read_csv(file_path, skiprows=11)  # Adjust skiprows as needed\n"
     ]
    },
    {
     "name": "stdout",
     "output_type": "stream",
     "text": [
      "Genomap saved: genomaps\\ADNI3_FinalReport6595_genomap.png\n",
      "Processing file: ADNI3_FinalReport6597.csv\n"
     ]
    },
    {
     "name": "stderr",
     "output_type": "stream",
     "text": [
      "C:\\Users\\mudiv\\AppData\\Local\\Temp\\ipykernel_11800\\1192419693.py:9: DtypeWarning: Columns (13) have mixed types. Specify dtype option on import or set low_memory=False.\n",
      "  data = pd.read_csv(file_path, skiprows=11)  # Adjust skiprows as needed\n"
     ]
    },
    {
     "name": "stdout",
     "output_type": "stream",
     "text": [
      "Genomap saved: genomaps\\ADNI3_FinalReport6597_genomap.png\n",
      "Processing file: ADNI3_FinalReport6600.csv\n"
     ]
    },
    {
     "name": "stderr",
     "output_type": "stream",
     "text": [
      "C:\\Users\\mudiv\\AppData\\Local\\Temp\\ipykernel_11800\\1192419693.py:9: DtypeWarning: Columns (13) have mixed types. Specify dtype option on import or set low_memory=False.\n",
      "  data = pd.read_csv(file_path, skiprows=11)  # Adjust skiprows as needed\n"
     ]
    },
    {
     "name": "stdout",
     "output_type": "stream",
     "text": [
      "Genomap saved: genomaps\\ADNI3_FinalReport6600_genomap.png\n",
      "Processing file: ADNI3_FinalReport6601.csv\n"
     ]
    },
    {
     "name": "stderr",
     "output_type": "stream",
     "text": [
      "C:\\Users\\mudiv\\AppData\\Local\\Temp\\ipykernel_11800\\1192419693.py:9: DtypeWarning: Columns (13) have mixed types. Specify dtype option on import or set low_memory=False.\n",
      "  data = pd.read_csv(file_path, skiprows=11)  # Adjust skiprows as needed\n"
     ]
    },
    {
     "name": "stdout",
     "output_type": "stream",
     "text": [
      "Genomap saved: genomaps\\ADNI3_FinalReport6601_genomap.png\n",
      "Processing file: ADNI3_FinalReport6602.csv\n"
     ]
    },
    {
     "name": "stderr",
     "output_type": "stream",
     "text": [
      "C:\\Users\\mudiv\\AppData\\Local\\Temp\\ipykernel_11800\\1192419693.py:9: DtypeWarning: Columns (13) have mixed types. Specify dtype option on import or set low_memory=False.\n",
      "  data = pd.read_csv(file_path, skiprows=11)  # Adjust skiprows as needed\n"
     ]
    },
    {
     "name": "stdout",
     "output_type": "stream",
     "text": [
      "Genomap saved: genomaps\\ADNI3_FinalReport6602_genomap.png\n",
      "Processing file: ADNI3_FinalReport6604.csv\n"
     ]
    },
    {
     "name": "stderr",
     "output_type": "stream",
     "text": [
      "C:\\Users\\mudiv\\AppData\\Local\\Temp\\ipykernel_11800\\1192419693.py:9: DtypeWarning: Columns (13) have mixed types. Specify dtype option on import or set low_memory=False.\n",
      "  data = pd.read_csv(file_path, skiprows=11)  # Adjust skiprows as needed\n"
     ]
    },
    {
     "name": "stdout",
     "output_type": "stream",
     "text": [
      "Genomap saved: genomaps\\ADNI3_FinalReport6604_genomap.png\n",
      "Processing file: ADNI3_FinalReport6605.csv\n"
     ]
    },
    {
     "name": "stderr",
     "output_type": "stream",
     "text": [
      "C:\\Users\\mudiv\\AppData\\Local\\Temp\\ipykernel_11800\\1192419693.py:9: DtypeWarning: Columns (13) have mixed types. Specify dtype option on import or set low_memory=False.\n",
      "  data = pd.read_csv(file_path, skiprows=11)  # Adjust skiprows as needed\n"
     ]
    },
    {
     "name": "stdout",
     "output_type": "stream",
     "text": [
      "Genomap saved: genomaps\\ADNI3_FinalReport6605_genomap.png\n",
      "Processing file: ADNI3_FinalReport6606.csv\n"
     ]
    },
    {
     "name": "stderr",
     "output_type": "stream",
     "text": [
      "C:\\Users\\mudiv\\AppData\\Local\\Temp\\ipykernel_11800\\1192419693.py:9: DtypeWarning: Columns (13) have mixed types. Specify dtype option on import or set low_memory=False.\n",
      "  data = pd.read_csv(file_path, skiprows=11)  # Adjust skiprows as needed\n"
     ]
    },
    {
     "name": "stdout",
     "output_type": "stream",
     "text": [
      "Genomap saved: genomaps\\ADNI3_FinalReport6606_genomap.png\n",
      "Processing file: ADNI3_FinalReport6610.csv\n"
     ]
    },
    {
     "name": "stderr",
     "output_type": "stream",
     "text": [
      "C:\\Users\\mudiv\\AppData\\Local\\Temp\\ipykernel_11800\\1192419693.py:9: DtypeWarning: Columns (13) have mixed types. Specify dtype option on import or set low_memory=False.\n",
      "  data = pd.read_csv(file_path, skiprows=11)  # Adjust skiprows as needed\n"
     ]
    },
    {
     "name": "stdout",
     "output_type": "stream",
     "text": [
      "Genomap saved: genomaps\\ADNI3_FinalReport6610_genomap.png\n",
      "Processing file: ADNI3_FinalReport6611.csv\n"
     ]
    },
    {
     "name": "stderr",
     "output_type": "stream",
     "text": [
      "C:\\Users\\mudiv\\AppData\\Local\\Temp\\ipykernel_11800\\1192419693.py:9: DtypeWarning: Columns (13) have mixed types. Specify dtype option on import or set low_memory=False.\n",
      "  data = pd.read_csv(file_path, skiprows=11)  # Adjust skiprows as needed\n"
     ]
    },
    {
     "name": "stdout",
     "output_type": "stream",
     "text": [
      "Genomap saved: genomaps\\ADNI3_FinalReport6611_genomap.png\n",
      "Processing file: ADNI3_FinalReport6612.csv\n"
     ]
    },
    {
     "name": "stderr",
     "output_type": "stream",
     "text": [
      "C:\\Users\\mudiv\\AppData\\Local\\Temp\\ipykernel_11800\\1192419693.py:9: DtypeWarning: Columns (13) have mixed types. Specify dtype option on import or set low_memory=False.\n",
      "  data = pd.read_csv(file_path, skiprows=11)  # Adjust skiprows as needed\n"
     ]
    },
    {
     "name": "stdout",
     "output_type": "stream",
     "text": [
      "Genomap saved: genomaps\\ADNI3_FinalReport6612_genomap.png\n",
      "Processing file: ADNI3_FinalReport6615.csv\n"
     ]
    },
    {
     "name": "stderr",
     "output_type": "stream",
     "text": [
      "C:\\Users\\mudiv\\AppData\\Local\\Temp\\ipykernel_11800\\1192419693.py:9: DtypeWarning: Columns (13) have mixed types. Specify dtype option on import or set low_memory=False.\n",
      "  data = pd.read_csv(file_path, skiprows=11)  # Adjust skiprows as needed\n"
     ]
    },
    {
     "name": "stdout",
     "output_type": "stream",
     "text": [
      "Genomap saved: genomaps\\ADNI3_FinalReport6615_genomap.png\n",
      "Processing file: ADNI3_FinalReport6616.csv\n"
     ]
    },
    {
     "name": "stderr",
     "output_type": "stream",
     "text": [
      "C:\\Users\\mudiv\\AppData\\Local\\Temp\\ipykernel_11800\\1192419693.py:9: DtypeWarning: Columns (13) have mixed types. Specify dtype option on import or set low_memory=False.\n",
      "  data = pd.read_csv(file_path, skiprows=11)  # Adjust skiprows as needed\n"
     ]
    },
    {
     "name": "stdout",
     "output_type": "stream",
     "text": [
      "Genomap saved: genomaps\\ADNI3_FinalReport6616_genomap.png\n",
      "Processing file: ADNI3_FinalReport6618.csv\n"
     ]
    },
    {
     "name": "stderr",
     "output_type": "stream",
     "text": [
      "C:\\Users\\mudiv\\AppData\\Local\\Temp\\ipykernel_11800\\1192419693.py:9: DtypeWarning: Columns (13) have mixed types. Specify dtype option on import or set low_memory=False.\n",
      "  data = pd.read_csv(file_path, skiprows=11)  # Adjust skiprows as needed\n"
     ]
    },
    {
     "name": "stdout",
     "output_type": "stream",
     "text": [
      "Genomap saved: genomaps\\ADNI3_FinalReport6618_genomap.png\n",
      "Processing file: ADNI3_FinalReport6619.csv\n"
     ]
    },
    {
     "name": "stderr",
     "output_type": "stream",
     "text": [
      "C:\\Users\\mudiv\\AppData\\Local\\Temp\\ipykernel_11800\\1192419693.py:9: DtypeWarning: Columns (13) have mixed types. Specify dtype option on import or set low_memory=False.\n",
      "  data = pd.read_csv(file_path, skiprows=11)  # Adjust skiprows as needed\n"
     ]
    },
    {
     "name": "stdout",
     "output_type": "stream",
     "text": [
      "Genomap saved: genomaps\\ADNI3_FinalReport6619_genomap.png\n",
      "Processing file: ADNI3_FinalReport6621.csv\n"
     ]
    },
    {
     "name": "stderr",
     "output_type": "stream",
     "text": [
      "C:\\Users\\mudiv\\AppData\\Local\\Temp\\ipykernel_11800\\1192419693.py:9: DtypeWarning: Columns (13) have mixed types. Specify dtype option on import or set low_memory=False.\n",
      "  data = pd.read_csv(file_path, skiprows=11)  # Adjust skiprows as needed\n"
     ]
    },
    {
     "name": "stdout",
     "output_type": "stream",
     "text": [
      "Genomap saved: genomaps\\ADNI3_FinalReport6621_genomap.png\n",
      "Processing file: ADNI3_FinalReport6622.csv\n"
     ]
    },
    {
     "name": "stderr",
     "output_type": "stream",
     "text": [
      "C:\\Users\\mudiv\\AppData\\Local\\Temp\\ipykernel_11800\\1192419693.py:9: DtypeWarning: Columns (13) have mixed types. Specify dtype option on import or set low_memory=False.\n",
      "  data = pd.read_csv(file_path, skiprows=11)  # Adjust skiprows as needed\n"
     ]
    },
    {
     "name": "stdout",
     "output_type": "stream",
     "text": [
      "Genomap saved: genomaps\\ADNI3_FinalReport6622_genomap.png\n",
      "Processing file: ADNI3_FinalReport6624.csv\n"
     ]
    },
    {
     "name": "stderr",
     "output_type": "stream",
     "text": [
      "C:\\Users\\mudiv\\AppData\\Local\\Temp\\ipykernel_11800\\1192419693.py:9: DtypeWarning: Columns (13) have mixed types. Specify dtype option on import or set low_memory=False.\n",
      "  data = pd.read_csv(file_path, skiprows=11)  # Adjust skiprows as needed\n"
     ]
    },
    {
     "name": "stdout",
     "output_type": "stream",
     "text": [
      "Genomap saved: genomaps\\ADNI3_FinalReport6624_genomap.png\n",
      "Processing file: ADNI3_FinalReport6627.csv\n"
     ]
    },
    {
     "name": "stderr",
     "output_type": "stream",
     "text": [
      "C:\\Users\\mudiv\\AppData\\Local\\Temp\\ipykernel_11800\\1192419693.py:9: DtypeWarning: Columns (13) have mixed types. Specify dtype option on import or set low_memory=False.\n",
      "  data = pd.read_csv(file_path, skiprows=11)  # Adjust skiprows as needed\n"
     ]
    },
    {
     "name": "stdout",
     "output_type": "stream",
     "text": [
      "Genomap saved: genomaps\\ADNI3_FinalReport6627_genomap.png\n",
      "Processing file: ADNI3_FinalReport6629.csv\n"
     ]
    },
    {
     "name": "stderr",
     "output_type": "stream",
     "text": [
      "C:\\Users\\mudiv\\AppData\\Local\\Temp\\ipykernel_11800\\1192419693.py:9: DtypeWarning: Columns (13) have mixed types. Specify dtype option on import or set low_memory=False.\n",
      "  data = pd.read_csv(file_path, skiprows=11)  # Adjust skiprows as needed\n"
     ]
    },
    {
     "name": "stdout",
     "output_type": "stream",
     "text": [
      "Genomap saved: genomaps\\ADNI3_FinalReport6629_genomap.png\n",
      "Processing file: ADNI3_FinalReport6632.csv\n"
     ]
    },
    {
     "name": "stderr",
     "output_type": "stream",
     "text": [
      "C:\\Users\\mudiv\\AppData\\Local\\Temp\\ipykernel_11800\\1192419693.py:9: DtypeWarning: Columns (13) have mixed types. Specify dtype option on import or set low_memory=False.\n",
      "  data = pd.read_csv(file_path, skiprows=11)  # Adjust skiprows as needed\n"
     ]
    },
    {
     "name": "stdout",
     "output_type": "stream",
     "text": [
      "Genomap saved: genomaps\\ADNI3_FinalReport6632_genomap.png\n",
      "Processing file: ADNI3_FinalReport6633.csv\n"
     ]
    },
    {
     "name": "stderr",
     "output_type": "stream",
     "text": [
      "C:\\Users\\mudiv\\AppData\\Local\\Temp\\ipykernel_11800\\1192419693.py:9: DtypeWarning: Columns (13) have mixed types. Specify dtype option on import or set low_memory=False.\n",
      "  data = pd.read_csv(file_path, skiprows=11)  # Adjust skiprows as needed\n"
     ]
    },
    {
     "name": "stdout",
     "output_type": "stream",
     "text": [
      "Genomap saved: genomaps\\ADNI3_FinalReport6633_genomap.png\n",
      "Processing file: ADNI3_FinalReport6634.csv\n"
     ]
    },
    {
     "name": "stderr",
     "output_type": "stream",
     "text": [
      "C:\\Users\\mudiv\\AppData\\Local\\Temp\\ipykernel_11800\\1192419693.py:9: DtypeWarning: Columns (13) have mixed types. Specify dtype option on import or set low_memory=False.\n",
      "  data = pd.read_csv(file_path, skiprows=11)  # Adjust skiprows as needed\n"
     ]
    },
    {
     "name": "stdout",
     "output_type": "stream",
     "text": [
      "Genomap saved: genomaps\\ADNI3_FinalReport6634_genomap.png\n",
      "Processing file: ADNI3_FinalReport6635.csv\n"
     ]
    },
    {
     "name": "stderr",
     "output_type": "stream",
     "text": [
      "C:\\Users\\mudiv\\AppData\\Local\\Temp\\ipykernel_11800\\1192419693.py:9: DtypeWarning: Columns (13) have mixed types. Specify dtype option on import or set low_memory=False.\n",
      "  data = pd.read_csv(file_path, skiprows=11)  # Adjust skiprows as needed\n"
     ]
    },
    {
     "name": "stdout",
     "output_type": "stream",
     "text": [
      "Genomap saved: genomaps\\ADNI3_FinalReport6635_genomap.png\n",
      "Processing file: ADNI3_FinalReport6640.csv\n"
     ]
    },
    {
     "name": "stderr",
     "output_type": "stream",
     "text": [
      "C:\\Users\\mudiv\\AppData\\Local\\Temp\\ipykernel_11800\\1192419693.py:9: DtypeWarning: Columns (13) have mixed types. Specify dtype option on import or set low_memory=False.\n",
      "  data = pd.read_csv(file_path, skiprows=11)  # Adjust skiprows as needed\n"
     ]
    },
    {
     "name": "stdout",
     "output_type": "stream",
     "text": [
      "Genomap saved: genomaps\\ADNI3_FinalReport6640_genomap.png\n",
      "Processing file: ADNI3_FinalReport6641.csv\n"
     ]
    },
    {
     "name": "stderr",
     "output_type": "stream",
     "text": [
      "C:\\Users\\mudiv\\AppData\\Local\\Temp\\ipykernel_11800\\1192419693.py:9: DtypeWarning: Columns (13) have mixed types. Specify dtype option on import or set low_memory=False.\n",
      "  data = pd.read_csv(file_path, skiprows=11)  # Adjust skiprows as needed\n"
     ]
    },
    {
     "name": "stdout",
     "output_type": "stream",
     "text": [
      "Genomap saved: genomaps\\ADNI3_FinalReport6641_genomap.png\n",
      "Processing file: ADNI3_FinalReport6643.csv\n"
     ]
    },
    {
     "name": "stderr",
     "output_type": "stream",
     "text": [
      "C:\\Users\\mudiv\\AppData\\Local\\Temp\\ipykernel_11800\\1192419693.py:9: DtypeWarning: Columns (13) have mixed types. Specify dtype option on import or set low_memory=False.\n",
      "  data = pd.read_csv(file_path, skiprows=11)  # Adjust skiprows as needed\n"
     ]
    },
    {
     "name": "stdout",
     "output_type": "stream",
     "text": [
      "Genomap saved: genomaps\\ADNI3_FinalReport6643_genomap.png\n",
      "Processing file: ADNI3_FinalReport6644.csv\n"
     ]
    },
    {
     "name": "stderr",
     "output_type": "stream",
     "text": [
      "C:\\Users\\mudiv\\AppData\\Local\\Temp\\ipykernel_11800\\1192419693.py:9: DtypeWarning: Columns (13) have mixed types. Specify dtype option on import or set low_memory=False.\n",
      "  data = pd.read_csv(file_path, skiprows=11)  # Adjust skiprows as needed\n"
     ]
    },
    {
     "name": "stdout",
     "output_type": "stream",
     "text": [
      "Genomap saved: genomaps\\ADNI3_FinalReport6644_genomap.png\n",
      "Processing file: ADNI3_FinalReport6648.csv\n"
     ]
    },
    {
     "name": "stderr",
     "output_type": "stream",
     "text": [
      "C:\\Users\\mudiv\\AppData\\Local\\Temp\\ipykernel_11800\\1192419693.py:9: DtypeWarning: Columns (13) have mixed types. Specify dtype option on import or set low_memory=False.\n",
      "  data = pd.read_csv(file_path, skiprows=11)  # Adjust skiprows as needed\n"
     ]
    },
    {
     "name": "stdout",
     "output_type": "stream",
     "text": [
      "Genomap saved: genomaps\\ADNI3_FinalReport6648_genomap.png\n",
      "Processing file: ADNI3_FinalReport6651.csv\n"
     ]
    },
    {
     "name": "stderr",
     "output_type": "stream",
     "text": [
      "C:\\Users\\mudiv\\AppData\\Local\\Temp\\ipykernel_11800\\1192419693.py:9: DtypeWarning: Columns (13) have mixed types. Specify dtype option on import or set low_memory=False.\n",
      "  data = pd.read_csv(file_path, skiprows=11)  # Adjust skiprows as needed\n"
     ]
    },
    {
     "name": "stdout",
     "output_type": "stream",
     "text": [
      "Genomap saved: genomaps\\ADNI3_FinalReport6651_genomap.png\n",
      "Processing file: ADNI3_FinalReport6652.csv\n"
     ]
    },
    {
     "name": "stderr",
     "output_type": "stream",
     "text": [
      "C:\\Users\\mudiv\\AppData\\Local\\Temp\\ipykernel_11800\\1192419693.py:9: DtypeWarning: Columns (13) have mixed types. Specify dtype option on import or set low_memory=False.\n",
      "  data = pd.read_csv(file_path, skiprows=11)  # Adjust skiprows as needed\n"
     ]
    },
    {
     "name": "stdout",
     "output_type": "stream",
     "text": [
      "Genomap saved: genomaps\\ADNI3_FinalReport6652_genomap.png\n",
      "Processing file: ADNI3_FinalReport6653.csv\n"
     ]
    },
    {
     "name": "stderr",
     "output_type": "stream",
     "text": [
      "C:\\Users\\mudiv\\AppData\\Local\\Temp\\ipykernel_11800\\1192419693.py:9: DtypeWarning: Columns (13) have mixed types. Specify dtype option on import or set low_memory=False.\n",
      "  data = pd.read_csv(file_path, skiprows=11)  # Adjust skiprows as needed\n"
     ]
    },
    {
     "name": "stdout",
     "output_type": "stream",
     "text": [
      "Genomap saved: genomaps\\ADNI3_FinalReport6653_genomap.png\n",
      "Processing file: ADNI3_FinalReport6654.csv\n"
     ]
    },
    {
     "name": "stderr",
     "output_type": "stream",
     "text": [
      "C:\\Users\\mudiv\\AppData\\Local\\Temp\\ipykernel_11800\\1192419693.py:9: DtypeWarning: Columns (13) have mixed types. Specify dtype option on import or set low_memory=False.\n",
      "  data = pd.read_csv(file_path, skiprows=11)  # Adjust skiprows as needed\n"
     ]
    },
    {
     "name": "stdout",
     "output_type": "stream",
     "text": [
      "Genomap saved: genomaps\\ADNI3_FinalReport6654_genomap.png\n",
      "Processing file: ADNI3_FinalReport6655.csv\n"
     ]
    },
    {
     "name": "stderr",
     "output_type": "stream",
     "text": [
      "C:\\Users\\mudiv\\AppData\\Local\\Temp\\ipykernel_11800\\1192419693.py:9: DtypeWarning: Columns (13) have mixed types. Specify dtype option on import or set low_memory=False.\n",
      "  data = pd.read_csv(file_path, skiprows=11)  # Adjust skiprows as needed\n"
     ]
    },
    {
     "name": "stdout",
     "output_type": "stream",
     "text": [
      "Genomap saved: genomaps\\ADNI3_FinalReport6655_genomap.png\n",
      "Processing file: ADNI3_FinalReport6657.csv\n"
     ]
    },
    {
     "name": "stderr",
     "output_type": "stream",
     "text": [
      "C:\\Users\\mudiv\\AppData\\Local\\Temp\\ipykernel_11800\\1192419693.py:9: DtypeWarning: Columns (13) have mixed types. Specify dtype option on import or set low_memory=False.\n",
      "  data = pd.read_csv(file_path, skiprows=11)  # Adjust skiprows as needed\n"
     ]
    },
    {
     "name": "stdout",
     "output_type": "stream",
     "text": [
      "Genomap saved: genomaps\\ADNI3_FinalReport6657_genomap.png\n",
      "Processing file: ADNI3_FinalReport6658.csv\n"
     ]
    },
    {
     "name": "stderr",
     "output_type": "stream",
     "text": [
      "C:\\Users\\mudiv\\AppData\\Local\\Temp\\ipykernel_11800\\1192419693.py:9: DtypeWarning: Columns (13) have mixed types. Specify dtype option on import or set low_memory=False.\n",
      "  data = pd.read_csv(file_path, skiprows=11)  # Adjust skiprows as needed\n"
     ]
    },
    {
     "name": "stdout",
     "output_type": "stream",
     "text": [
      "Genomap saved: genomaps\\ADNI3_FinalReport6658_genomap.png\n",
      "Processing file: ADNI3_FinalReport6660.csv\n"
     ]
    },
    {
     "name": "stderr",
     "output_type": "stream",
     "text": [
      "C:\\Users\\mudiv\\AppData\\Local\\Temp\\ipykernel_11800\\1192419693.py:9: DtypeWarning: Columns (13) have mixed types. Specify dtype option on import or set low_memory=False.\n",
      "  data = pd.read_csv(file_path, skiprows=11)  # Adjust skiprows as needed\n"
     ]
    },
    {
     "name": "stdout",
     "output_type": "stream",
     "text": [
      "Genomap saved: genomaps\\ADNI3_FinalReport6660_genomap.png\n",
      "Processing file: ADNI3_FinalReport6661.csv\n"
     ]
    },
    {
     "name": "stderr",
     "output_type": "stream",
     "text": [
      "C:\\Users\\mudiv\\AppData\\Local\\Temp\\ipykernel_11800\\1192419693.py:9: DtypeWarning: Columns (13) have mixed types. Specify dtype option on import or set low_memory=False.\n",
      "  data = pd.read_csv(file_path, skiprows=11)  # Adjust skiprows as needed\n"
     ]
    },
    {
     "name": "stdout",
     "output_type": "stream",
     "text": [
      "Genomap saved: genomaps\\ADNI3_FinalReport6661_genomap.png\n",
      "Processing file: ADNI3_FinalReport6668.csv\n"
     ]
    },
    {
     "name": "stderr",
     "output_type": "stream",
     "text": [
      "C:\\Users\\mudiv\\AppData\\Local\\Temp\\ipykernel_11800\\1192419693.py:9: DtypeWarning: Columns (13) have mixed types. Specify dtype option on import or set low_memory=False.\n",
      "  data = pd.read_csv(file_path, skiprows=11)  # Adjust skiprows as needed\n"
     ]
    },
    {
     "name": "stdout",
     "output_type": "stream",
     "text": [
      "Genomap saved: genomaps\\ADNI3_FinalReport6668_genomap.png\n",
      "Processing file: ADNI3_FinalReport6669.csv\n"
     ]
    },
    {
     "name": "stderr",
     "output_type": "stream",
     "text": [
      "C:\\Users\\mudiv\\AppData\\Local\\Temp\\ipykernel_11800\\1192419693.py:9: DtypeWarning: Columns (13) have mixed types. Specify dtype option on import or set low_memory=False.\n",
      "  data = pd.read_csv(file_path, skiprows=11)  # Adjust skiprows as needed\n"
     ]
    },
    {
     "name": "stdout",
     "output_type": "stream",
     "text": [
      "Genomap saved: genomaps\\ADNI3_FinalReport6669_genomap.png\n",
      "Processing file: ADNI3_FinalReport6670.csv\n"
     ]
    },
    {
     "name": "stderr",
     "output_type": "stream",
     "text": [
      "C:\\Users\\mudiv\\AppData\\Local\\Temp\\ipykernel_11800\\1192419693.py:9: DtypeWarning: Columns (13) have mixed types. Specify dtype option on import or set low_memory=False.\n",
      "  data = pd.read_csv(file_path, skiprows=11)  # Adjust skiprows as needed\n"
     ]
    },
    {
     "name": "stdout",
     "output_type": "stream",
     "text": [
      "Genomap saved: genomaps\\ADNI3_FinalReport6670_genomap.png\n",
      "Processing file: ADNI3_FinalReport6672.csv\n"
     ]
    },
    {
     "name": "stderr",
     "output_type": "stream",
     "text": [
      "C:\\Users\\mudiv\\AppData\\Local\\Temp\\ipykernel_11800\\1192419693.py:9: DtypeWarning: Columns (13) have mixed types. Specify dtype option on import or set low_memory=False.\n",
      "  data = pd.read_csv(file_path, skiprows=11)  # Adjust skiprows as needed\n"
     ]
    },
    {
     "name": "stdout",
     "output_type": "stream",
     "text": [
      "Genomap saved: genomaps\\ADNI3_FinalReport6672_genomap.png\n",
      "Processing file: ADNI3_FinalReport6673.csv\n"
     ]
    },
    {
     "name": "stderr",
     "output_type": "stream",
     "text": [
      "C:\\Users\\mudiv\\AppData\\Local\\Temp\\ipykernel_11800\\1192419693.py:9: DtypeWarning: Columns (13) have mixed types. Specify dtype option on import or set low_memory=False.\n",
      "  data = pd.read_csv(file_path, skiprows=11)  # Adjust skiprows as needed\n"
     ]
    },
    {
     "name": "stdout",
     "output_type": "stream",
     "text": [
      "Genomap saved: genomaps\\ADNI3_FinalReport6673_genomap.png\n",
      "Processing file: ADNI3_FinalReport6674.csv\n"
     ]
    },
    {
     "name": "stderr",
     "output_type": "stream",
     "text": [
      "C:\\Users\\mudiv\\AppData\\Local\\Temp\\ipykernel_11800\\1192419693.py:9: DtypeWarning: Columns (13) have mixed types. Specify dtype option on import or set low_memory=False.\n",
      "  data = pd.read_csv(file_path, skiprows=11)  # Adjust skiprows as needed\n"
     ]
    },
    {
     "name": "stdout",
     "output_type": "stream",
     "text": [
      "Genomap saved: genomaps\\ADNI3_FinalReport6674_genomap.png\n",
      "Processing file: ADNI3_FinalReport6677.csv\n"
     ]
    },
    {
     "name": "stderr",
     "output_type": "stream",
     "text": [
      "C:\\Users\\mudiv\\AppData\\Local\\Temp\\ipykernel_11800\\1192419693.py:9: DtypeWarning: Columns (13) have mixed types. Specify dtype option on import or set low_memory=False.\n",
      "  data = pd.read_csv(file_path, skiprows=11)  # Adjust skiprows as needed\n"
     ]
    },
    {
     "name": "stdout",
     "output_type": "stream",
     "text": [
      "Genomap saved: genomaps\\ADNI3_FinalReport6677_genomap.png\n",
      "Processing file: ADNI3_FinalReport6679.csv\n"
     ]
    },
    {
     "name": "stderr",
     "output_type": "stream",
     "text": [
      "C:\\Users\\mudiv\\AppData\\Local\\Temp\\ipykernel_11800\\1192419693.py:9: DtypeWarning: Columns (13) have mixed types. Specify dtype option on import or set low_memory=False.\n",
      "  data = pd.read_csv(file_path, skiprows=11)  # Adjust skiprows as needed\n"
     ]
    },
    {
     "name": "stdout",
     "output_type": "stream",
     "text": [
      "Genomap saved: genomaps\\ADNI3_FinalReport6679_genomap.png\n",
      "Processing file: ADNI3_FinalReport6681.csv\n"
     ]
    },
    {
     "name": "stderr",
     "output_type": "stream",
     "text": [
      "C:\\Users\\mudiv\\AppData\\Local\\Temp\\ipykernel_11800\\1192419693.py:9: DtypeWarning: Columns (13) have mixed types. Specify dtype option on import or set low_memory=False.\n",
      "  data = pd.read_csv(file_path, skiprows=11)  # Adjust skiprows as needed\n"
     ]
    },
    {
     "name": "stdout",
     "output_type": "stream",
     "text": [
      "Genomap saved: genomaps\\ADNI3_FinalReport6681_genomap.png\n",
      "Processing file: ADNI3_FinalReport6682.csv\n"
     ]
    },
    {
     "name": "stderr",
     "output_type": "stream",
     "text": [
      "C:\\Users\\mudiv\\AppData\\Local\\Temp\\ipykernel_11800\\1192419693.py:9: DtypeWarning: Columns (13) have mixed types. Specify dtype option on import or set low_memory=False.\n",
      "  data = pd.read_csv(file_path, skiprows=11)  # Adjust skiprows as needed\n"
     ]
    },
    {
     "name": "stdout",
     "output_type": "stream",
     "text": [
      "Genomap saved: genomaps\\ADNI3_FinalReport6682_genomap.png\n",
      "Processing file: ADNI3_FinalReport6683.csv\n"
     ]
    },
    {
     "name": "stderr",
     "output_type": "stream",
     "text": [
      "C:\\Users\\mudiv\\AppData\\Local\\Temp\\ipykernel_11800\\1192419693.py:9: DtypeWarning: Columns (13) have mixed types. Specify dtype option on import or set low_memory=False.\n",
      "  data = pd.read_csv(file_path, skiprows=11)  # Adjust skiprows as needed\n"
     ]
    },
    {
     "name": "stdout",
     "output_type": "stream",
     "text": [
      "Genomap saved: genomaps\\ADNI3_FinalReport6683_genomap.png\n",
      "Processing file: ADNI3_FinalReport6686.csv\n"
     ]
    },
    {
     "name": "stderr",
     "output_type": "stream",
     "text": [
      "C:\\Users\\mudiv\\AppData\\Local\\Temp\\ipykernel_11800\\1192419693.py:9: DtypeWarning: Columns (13) have mixed types. Specify dtype option on import or set low_memory=False.\n",
      "  data = pd.read_csv(file_path, skiprows=11)  # Adjust skiprows as needed\n"
     ]
    },
    {
     "name": "stdout",
     "output_type": "stream",
     "text": [
      "Genomap saved: genomaps\\ADNI3_FinalReport6686_genomap.png\n",
      "Processing file: ADNI3_FinalReport6687.csv\n"
     ]
    },
    {
     "name": "stderr",
     "output_type": "stream",
     "text": [
      "C:\\Users\\mudiv\\AppData\\Local\\Temp\\ipykernel_11800\\1192419693.py:9: DtypeWarning: Columns (13) have mixed types. Specify dtype option on import or set low_memory=False.\n",
      "  data = pd.read_csv(file_path, skiprows=11)  # Adjust skiprows as needed\n"
     ]
    },
    {
     "name": "stdout",
     "output_type": "stream",
     "text": [
      "Genomap saved: genomaps\\ADNI3_FinalReport6687_genomap.png\n",
      "Processing file: ADNI3_FinalReport6688.csv\n"
     ]
    },
    {
     "name": "stderr",
     "output_type": "stream",
     "text": [
      "C:\\Users\\mudiv\\AppData\\Local\\Temp\\ipykernel_11800\\1192419693.py:9: DtypeWarning: Columns (13) have mixed types. Specify dtype option on import or set low_memory=False.\n",
      "  data = pd.read_csv(file_path, skiprows=11)  # Adjust skiprows as needed\n"
     ]
    },
    {
     "name": "stdout",
     "output_type": "stream",
     "text": [
      "Genomap saved: genomaps\\ADNI3_FinalReport6688_genomap.png\n",
      "Processing file: ADNI3_FinalReport6689.csv\n"
     ]
    },
    {
     "name": "stderr",
     "output_type": "stream",
     "text": [
      "C:\\Users\\mudiv\\AppData\\Local\\Temp\\ipykernel_11800\\1192419693.py:9: DtypeWarning: Columns (13) have mixed types. Specify dtype option on import or set low_memory=False.\n",
      "  data = pd.read_csv(file_path, skiprows=11)  # Adjust skiprows as needed\n"
     ]
    },
    {
     "name": "stdout",
     "output_type": "stream",
     "text": [
      "Genomap saved: genomaps\\ADNI3_FinalReport6689_genomap.png\n",
      "Processing file: ADNI3_FinalReport6690.csv\n"
     ]
    },
    {
     "name": "stderr",
     "output_type": "stream",
     "text": [
      "C:\\Users\\mudiv\\AppData\\Local\\Temp\\ipykernel_11800\\1192419693.py:9: DtypeWarning: Columns (13) have mixed types. Specify dtype option on import or set low_memory=False.\n",
      "  data = pd.read_csv(file_path, skiprows=11)  # Adjust skiprows as needed\n"
     ]
    },
    {
     "name": "stdout",
     "output_type": "stream",
     "text": [
      "Genomap saved: genomaps\\ADNI3_FinalReport6690_genomap.png\n",
      "Processing file: ADNI3_FinalReport6691.csv\n"
     ]
    },
    {
     "name": "stderr",
     "output_type": "stream",
     "text": [
      "C:\\Users\\mudiv\\AppData\\Local\\Temp\\ipykernel_11800\\1192419693.py:9: DtypeWarning: Columns (13) have mixed types. Specify dtype option on import or set low_memory=False.\n",
      "  data = pd.read_csv(file_path, skiprows=11)  # Adjust skiprows as needed\n"
     ]
    },
    {
     "name": "stdout",
     "output_type": "stream",
     "text": [
      "Genomap saved: genomaps\\ADNI3_FinalReport6691_genomap.png\n",
      "Processing file: ADNI3_FinalReport6693.csv\n"
     ]
    },
    {
     "name": "stderr",
     "output_type": "stream",
     "text": [
      "C:\\Users\\mudiv\\AppData\\Local\\Temp\\ipykernel_11800\\1192419693.py:9: DtypeWarning: Columns (13) have mixed types. Specify dtype option on import or set low_memory=False.\n",
      "  data = pd.read_csv(file_path, skiprows=11)  # Adjust skiprows as needed\n"
     ]
    },
    {
     "name": "stdout",
     "output_type": "stream",
     "text": [
      "Genomap saved: genomaps\\ADNI3_FinalReport6693_genomap.png\n",
      "Processing file: ADNI3_FinalReport6695.csv\n"
     ]
    },
    {
     "name": "stderr",
     "output_type": "stream",
     "text": [
      "C:\\Users\\mudiv\\AppData\\Local\\Temp\\ipykernel_11800\\1192419693.py:9: DtypeWarning: Columns (13) have mixed types. Specify dtype option on import or set low_memory=False.\n",
      "  data = pd.read_csv(file_path, skiprows=11)  # Adjust skiprows as needed\n"
     ]
    },
    {
     "name": "stdout",
     "output_type": "stream",
     "text": [
      "Genomap saved: genomaps\\ADNI3_FinalReport6695_genomap.png\n",
      "Processing file: ADNI3_FinalReport6696.csv\n"
     ]
    },
    {
     "name": "stderr",
     "output_type": "stream",
     "text": [
      "C:\\Users\\mudiv\\AppData\\Local\\Temp\\ipykernel_11800\\1192419693.py:9: DtypeWarning: Columns (13) have mixed types. Specify dtype option on import or set low_memory=False.\n",
      "  data = pd.read_csv(file_path, skiprows=11)  # Adjust skiprows as needed\n"
     ]
    },
    {
     "name": "stdout",
     "output_type": "stream",
     "text": [
      "Genomap saved: genomaps\\ADNI3_FinalReport6696_genomap.png\n",
      "Processing file: ADNI3_FinalReport6697.csv\n"
     ]
    },
    {
     "name": "stderr",
     "output_type": "stream",
     "text": [
      "C:\\Users\\mudiv\\AppData\\Local\\Temp\\ipykernel_11800\\1192419693.py:9: DtypeWarning: Columns (13) have mixed types. Specify dtype option on import or set low_memory=False.\n",
      "  data = pd.read_csv(file_path, skiprows=11)  # Adjust skiprows as needed\n"
     ]
    },
    {
     "name": "stdout",
     "output_type": "stream",
     "text": [
      "Genomap saved: genomaps\\ADNI3_FinalReport6697_genomap.png\n",
      "Processing file: ADNI3_FinalReport6699.csv\n"
     ]
    },
    {
     "name": "stderr",
     "output_type": "stream",
     "text": [
      "C:\\Users\\mudiv\\AppData\\Local\\Temp\\ipykernel_11800\\1192419693.py:9: DtypeWarning: Columns (13) have mixed types. Specify dtype option on import or set low_memory=False.\n",
      "  data = pd.read_csv(file_path, skiprows=11)  # Adjust skiprows as needed\n"
     ]
    },
    {
     "name": "stdout",
     "output_type": "stream",
     "text": [
      "Genomap saved: genomaps\\ADNI3_FinalReport6699_genomap.png\n",
      "Processing file: ADNI3_FinalReport6700.csv\n"
     ]
    },
    {
     "name": "stderr",
     "output_type": "stream",
     "text": [
      "C:\\Users\\mudiv\\AppData\\Local\\Temp\\ipykernel_11800\\1192419693.py:9: DtypeWarning: Columns (13) have mixed types. Specify dtype option on import or set low_memory=False.\n",
      "  data = pd.read_csv(file_path, skiprows=11)  # Adjust skiprows as needed\n"
     ]
    },
    {
     "name": "stdout",
     "output_type": "stream",
     "text": [
      "Genomap saved: genomaps\\ADNI3_FinalReport6700_genomap.png\n",
      "Processing file: ADNI3_FinalReport6702.csv\n"
     ]
    },
    {
     "name": "stderr",
     "output_type": "stream",
     "text": [
      "C:\\Users\\mudiv\\AppData\\Local\\Temp\\ipykernel_11800\\1192419693.py:9: DtypeWarning: Columns (13) have mixed types. Specify dtype option on import or set low_memory=False.\n",
      "  data = pd.read_csv(file_path, skiprows=11)  # Adjust skiprows as needed\n"
     ]
    },
    {
     "name": "stdout",
     "output_type": "stream",
     "text": [
      "Genomap saved: genomaps\\ADNI3_FinalReport6702_genomap.png\n",
      "Processing file: ADNI3_FinalReport6703.csv\n"
     ]
    },
    {
     "name": "stderr",
     "output_type": "stream",
     "text": [
      "C:\\Users\\mudiv\\AppData\\Local\\Temp\\ipykernel_11800\\1192419693.py:9: DtypeWarning: Columns (13) have mixed types. Specify dtype option on import or set low_memory=False.\n",
      "  data = pd.read_csv(file_path, skiprows=11)  # Adjust skiprows as needed\n"
     ]
    },
    {
     "name": "stdout",
     "output_type": "stream",
     "text": [
      "Genomap saved: genomaps\\ADNI3_FinalReport6703_genomap.png\n",
      "Processing file: ADNI3_FinalReport6704.csv\n"
     ]
    },
    {
     "name": "stderr",
     "output_type": "stream",
     "text": [
      "C:\\Users\\mudiv\\AppData\\Local\\Temp\\ipykernel_11800\\1192419693.py:9: DtypeWarning: Columns (13) have mixed types. Specify dtype option on import or set low_memory=False.\n",
      "  data = pd.read_csv(file_path, skiprows=11)  # Adjust skiprows as needed\n"
     ]
    },
    {
     "name": "stdout",
     "output_type": "stream",
     "text": [
      "Genomap saved: genomaps\\ADNI3_FinalReport6704_genomap.png\n",
      "Processing file: ADNI3_FinalReport6705.csv\n"
     ]
    },
    {
     "name": "stderr",
     "output_type": "stream",
     "text": [
      "C:\\Users\\mudiv\\AppData\\Local\\Temp\\ipykernel_11800\\1192419693.py:9: DtypeWarning: Columns (13) have mixed types. Specify dtype option on import or set low_memory=False.\n",
      "  data = pd.read_csv(file_path, skiprows=11)  # Adjust skiprows as needed\n"
     ]
    },
    {
     "name": "stdout",
     "output_type": "stream",
     "text": [
      "Genomap saved: genomaps\\ADNI3_FinalReport6705_genomap.png\n",
      "Processing file: ADNI3_FinalReport6707.csv\n"
     ]
    },
    {
     "name": "stderr",
     "output_type": "stream",
     "text": [
      "C:\\Users\\mudiv\\AppData\\Local\\Temp\\ipykernel_11800\\1192419693.py:9: DtypeWarning: Columns (13) have mixed types. Specify dtype option on import or set low_memory=False.\n",
      "  data = pd.read_csv(file_path, skiprows=11)  # Adjust skiprows as needed\n"
     ]
    },
    {
     "name": "stdout",
     "output_type": "stream",
     "text": [
      "Genomap saved: genomaps\\ADNI3_FinalReport6707_genomap.png\n",
      "Processing file: ADNI3_FinalReport6708.csv\n"
     ]
    },
    {
     "name": "stderr",
     "output_type": "stream",
     "text": [
      "C:\\Users\\mudiv\\AppData\\Local\\Temp\\ipykernel_11800\\1192419693.py:9: DtypeWarning: Columns (13) have mixed types. Specify dtype option on import or set low_memory=False.\n",
      "  data = pd.read_csv(file_path, skiprows=11)  # Adjust skiprows as needed\n"
     ]
    },
    {
     "name": "stdout",
     "output_type": "stream",
     "text": [
      "Genomap saved: genomaps\\ADNI3_FinalReport6708_genomap.png\n",
      "Processing file: ADNI3_FinalReport6709.csv\n"
     ]
    },
    {
     "name": "stderr",
     "output_type": "stream",
     "text": [
      "C:\\Users\\mudiv\\AppData\\Local\\Temp\\ipykernel_11800\\1192419693.py:9: DtypeWarning: Columns (13) have mixed types. Specify dtype option on import or set low_memory=False.\n",
      "  data = pd.read_csv(file_path, skiprows=11)  # Adjust skiprows as needed\n"
     ]
    },
    {
     "name": "stdout",
     "output_type": "stream",
     "text": [
      "Genomap saved: genomaps\\ADNI3_FinalReport6709_genomap.png\n",
      "Processing file: ADNI3_FinalReport6713.csv\n"
     ]
    },
    {
     "name": "stderr",
     "output_type": "stream",
     "text": [
      "C:\\Users\\mudiv\\AppData\\Local\\Temp\\ipykernel_11800\\1192419693.py:9: DtypeWarning: Columns (13) have mixed types. Specify dtype option on import or set low_memory=False.\n",
      "  data = pd.read_csv(file_path, skiprows=11)  # Adjust skiprows as needed\n"
     ]
    },
    {
     "name": "stdout",
     "output_type": "stream",
     "text": [
      "Error processing ADNI3_FinalReport6713.csv: '0.8136'\n",
      "Processing file: ADNI3_FinalReport6714.csv\n"
     ]
    },
    {
     "name": "stderr",
     "output_type": "stream",
     "text": [
      "C:\\Users\\mudiv\\AppData\\Local\\Temp\\ipykernel_11800\\1192419693.py:9: DtypeWarning: Columns (13) have mixed types. Specify dtype option on import or set low_memory=False.\n",
      "  data = pd.read_csv(file_path, skiprows=11)  # Adjust skiprows as needed\n"
     ]
    },
    {
     "name": "stdout",
     "output_type": "stream",
     "text": [
      "Genomap saved: genomaps\\ADNI3_FinalReport6714_genomap.png\n",
      "Processing file: ADNI3_FinalReport6716.csv\n"
     ]
    },
    {
     "name": "stderr",
     "output_type": "stream",
     "text": [
      "C:\\Users\\mudiv\\AppData\\Local\\Temp\\ipykernel_11800\\1192419693.py:9: DtypeWarning: Columns (13) have mixed types. Specify dtype option on import or set low_memory=False.\n",
      "  data = pd.read_csv(file_path, skiprows=11)  # Adjust skiprows as needed\n"
     ]
    },
    {
     "name": "stdout",
     "output_type": "stream",
     "text": [
      "Genomap saved: genomaps\\ADNI3_FinalReport6716_genomap.png\n",
      "Processing file: ADNI3_FinalReport6717.csv\n"
     ]
    },
    {
     "name": "stderr",
     "output_type": "stream",
     "text": [
      "C:\\Users\\mudiv\\AppData\\Local\\Temp\\ipykernel_11800\\1192419693.py:9: DtypeWarning: Columns (13) have mixed types. Specify dtype option on import or set low_memory=False.\n",
      "  data = pd.read_csv(file_path, skiprows=11)  # Adjust skiprows as needed\n"
     ]
    },
    {
     "name": "stdout",
     "output_type": "stream",
     "text": [
      "Genomap saved: genomaps\\ADNI3_FinalReport6717_genomap.png\n",
      "Processing file: ADNI3_FinalReport6719.csv\n"
     ]
    },
    {
     "name": "stderr",
     "output_type": "stream",
     "text": [
      "C:\\Users\\mudiv\\AppData\\Local\\Temp\\ipykernel_11800\\1192419693.py:9: DtypeWarning: Columns (13) have mixed types. Specify dtype option on import or set low_memory=False.\n",
      "  data = pd.read_csv(file_path, skiprows=11)  # Adjust skiprows as needed\n"
     ]
    },
    {
     "name": "stdout",
     "output_type": "stream",
     "text": [
      "Genomap saved: genomaps\\ADNI3_FinalReport6719_genomap.png\n",
      "Processing file: ADNI3_FinalReport6721.csv\n"
     ]
    },
    {
     "name": "stderr",
     "output_type": "stream",
     "text": [
      "C:\\Users\\mudiv\\AppData\\Local\\Temp\\ipykernel_11800\\1192419693.py:9: DtypeWarning: Columns (13) have mixed types. Specify dtype option on import or set low_memory=False.\n",
      "  data = pd.read_csv(file_path, skiprows=11)  # Adjust skiprows as needed\n"
     ]
    },
    {
     "name": "stdout",
     "output_type": "stream",
     "text": [
      "Genomap saved: genomaps\\ADNI3_FinalReport6721_genomap.png\n",
      "Processing file: ADNI3_FinalReport6722.csv\n"
     ]
    },
    {
     "name": "stderr",
     "output_type": "stream",
     "text": [
      "C:\\Users\\mudiv\\AppData\\Local\\Temp\\ipykernel_11800\\1192419693.py:9: DtypeWarning: Columns (13) have mixed types. Specify dtype option on import or set low_memory=False.\n",
      "  data = pd.read_csv(file_path, skiprows=11)  # Adjust skiprows as needed\n"
     ]
    },
    {
     "name": "stdout",
     "output_type": "stream",
     "text": [
      "Genomap saved: genomaps\\ADNI3_FinalReport6722_genomap.png\n",
      "Processing file: ADNI3_FinalReport6723.csv\n"
     ]
    },
    {
     "name": "stderr",
     "output_type": "stream",
     "text": [
      "C:\\Users\\mudiv\\AppData\\Local\\Temp\\ipykernel_11800\\1192419693.py:9: DtypeWarning: Columns (13) have mixed types. Specify dtype option on import or set low_memory=False.\n",
      "  data = pd.read_csv(file_path, skiprows=11)  # Adjust skiprows as needed\n"
     ]
    },
    {
     "name": "stdout",
     "output_type": "stream",
     "text": [
      "Genomap saved: genomaps\\ADNI3_FinalReport6723_genomap.png\n",
      "Processing file: ADNI3_FinalReport6724.csv\n"
     ]
    },
    {
     "name": "stderr",
     "output_type": "stream",
     "text": [
      "C:\\Users\\mudiv\\AppData\\Local\\Temp\\ipykernel_11800\\1192419693.py:9: DtypeWarning: Columns (13) have mixed types. Specify dtype option on import or set low_memory=False.\n",
      "  data = pd.read_csv(file_path, skiprows=11)  # Adjust skiprows as needed\n"
     ]
    },
    {
     "name": "stdout",
     "output_type": "stream",
     "text": [
      "Genomap saved: genomaps\\ADNI3_FinalReport6724_genomap.png\n",
      "Processing file: ADNI3_FinalReport6726.csv\n"
     ]
    },
    {
     "name": "stderr",
     "output_type": "stream",
     "text": [
      "C:\\Users\\mudiv\\AppData\\Local\\Temp\\ipykernel_11800\\1192419693.py:9: DtypeWarning: Columns (13) have mixed types. Specify dtype option on import or set low_memory=False.\n",
      "  data = pd.read_csv(file_path, skiprows=11)  # Adjust skiprows as needed\n"
     ]
    },
    {
     "name": "stdout",
     "output_type": "stream",
     "text": [
      "Genomap saved: genomaps\\ADNI3_FinalReport6726_genomap.png\n",
      "Processing file: ADNI3_FinalReport6727.csv\n"
     ]
    },
    {
     "name": "stderr",
     "output_type": "stream",
     "text": [
      "C:\\Users\\mudiv\\AppData\\Local\\Temp\\ipykernel_11800\\1192419693.py:9: DtypeWarning: Columns (13) have mixed types. Specify dtype option on import or set low_memory=False.\n",
      "  data = pd.read_csv(file_path, skiprows=11)  # Adjust skiprows as needed\n"
     ]
    },
    {
     "name": "stdout",
     "output_type": "stream",
     "text": [
      "Genomap saved: genomaps\\ADNI3_FinalReport6727_genomap.png\n",
      "Processing file: ADNI3_FinalReport6730.csv\n"
     ]
    },
    {
     "name": "stderr",
     "output_type": "stream",
     "text": [
      "C:\\Users\\mudiv\\AppData\\Local\\Temp\\ipykernel_11800\\1192419693.py:9: DtypeWarning: Columns (13) have mixed types. Specify dtype option on import or set low_memory=False.\n",
      "  data = pd.read_csv(file_path, skiprows=11)  # Adjust skiprows as needed\n"
     ]
    },
    {
     "name": "stdout",
     "output_type": "stream",
     "text": [
      "Genomap saved: genomaps\\ADNI3_FinalReport6730_genomap.png\n",
      "Processing file: ADNI3_FinalReport6731.csv\n"
     ]
    },
    {
     "name": "stderr",
     "output_type": "stream",
     "text": [
      "C:\\Users\\mudiv\\AppData\\Local\\Temp\\ipykernel_11800\\1192419693.py:9: DtypeWarning: Columns (13) have mixed types. Specify dtype option on import or set low_memory=False.\n",
      "  data = pd.read_csv(file_path, skiprows=11)  # Adjust skiprows as needed\n"
     ]
    },
    {
     "name": "stdout",
     "output_type": "stream",
     "text": [
      "Genomap saved: genomaps\\ADNI3_FinalReport6731_genomap.png\n",
      "Processing file: ADNI3_FinalReport6733.csv\n"
     ]
    },
    {
     "name": "stderr",
     "output_type": "stream",
     "text": [
      "C:\\Users\\mudiv\\AppData\\Local\\Temp\\ipykernel_11800\\1192419693.py:9: DtypeWarning: Columns (13) have mixed types. Specify dtype option on import or set low_memory=False.\n",
      "  data = pd.read_csv(file_path, skiprows=11)  # Adjust skiprows as needed\n"
     ]
    },
    {
     "name": "stdout",
     "output_type": "stream",
     "text": [
      "Genomap saved: genomaps\\ADNI3_FinalReport6733_genomap.png\n",
      "Processing file: ADNI3_FinalReport6734.csv\n"
     ]
    },
    {
     "name": "stderr",
     "output_type": "stream",
     "text": [
      "C:\\Users\\mudiv\\AppData\\Local\\Temp\\ipykernel_11800\\1192419693.py:9: DtypeWarning: Columns (13) have mixed types. Specify dtype option on import or set low_memory=False.\n",
      "  data = pd.read_csv(file_path, skiprows=11)  # Adjust skiprows as needed\n"
     ]
    },
    {
     "name": "stdout",
     "output_type": "stream",
     "text": [
      "Genomap saved: genomaps\\ADNI3_FinalReport6734_genomap.png\n",
      "Processing file: ADNI3_FinalReport6735.csv\n"
     ]
    },
    {
     "name": "stderr",
     "output_type": "stream",
     "text": [
      "C:\\Users\\mudiv\\AppData\\Local\\Temp\\ipykernel_11800\\1192419693.py:9: DtypeWarning: Columns (13) have mixed types. Specify dtype option on import or set low_memory=False.\n",
      "  data = pd.read_csv(file_path, skiprows=11)  # Adjust skiprows as needed\n"
     ]
    },
    {
     "name": "stdout",
     "output_type": "stream",
     "text": [
      "Genomap saved: genomaps\\ADNI3_FinalReport6735_genomap.png\n",
      "Processing file: ADNI3_FinalReport6736.csv\n"
     ]
    },
    {
     "name": "stderr",
     "output_type": "stream",
     "text": [
      "C:\\Users\\mudiv\\AppData\\Local\\Temp\\ipykernel_11800\\1192419693.py:9: DtypeWarning: Columns (13) have mixed types. Specify dtype option on import or set low_memory=False.\n",
      "  data = pd.read_csv(file_path, skiprows=11)  # Adjust skiprows as needed\n"
     ]
    },
    {
     "name": "stdout",
     "output_type": "stream",
     "text": [
      "Genomap saved: genomaps\\ADNI3_FinalReport6736_genomap.png\n",
      "Processing file: ADNI3_FinalReport6739.csv\n"
     ]
    },
    {
     "name": "stderr",
     "output_type": "stream",
     "text": [
      "C:\\Users\\mudiv\\AppData\\Local\\Temp\\ipykernel_11800\\1192419693.py:9: DtypeWarning: Columns (13) have mixed types. Specify dtype option on import or set low_memory=False.\n",
      "  data = pd.read_csv(file_path, skiprows=11)  # Adjust skiprows as needed\n"
     ]
    },
    {
     "name": "stdout",
     "output_type": "stream",
     "text": [
      "Genomap saved: genomaps\\ADNI3_FinalReport6739_genomap.png\n",
      "Processing file: ADNI3_FinalReport6742.csv\n"
     ]
    },
    {
     "name": "stderr",
     "output_type": "stream",
     "text": [
      "C:\\Users\\mudiv\\AppData\\Local\\Temp\\ipykernel_11800\\1192419693.py:9: DtypeWarning: Columns (13) have mixed types. Specify dtype option on import or set low_memory=False.\n",
      "  data = pd.read_csv(file_path, skiprows=11)  # Adjust skiprows as needed\n"
     ]
    },
    {
     "name": "stdout",
     "output_type": "stream",
     "text": [
      "Genomap saved: genomaps\\ADNI3_FinalReport6742_genomap.png\n",
      "Processing file: ADNI3_FinalReport6744.csv\n"
     ]
    },
    {
     "name": "stderr",
     "output_type": "stream",
     "text": [
      "C:\\Users\\mudiv\\AppData\\Local\\Temp\\ipykernel_11800\\1192419693.py:9: DtypeWarning: Columns (13) have mixed types. Specify dtype option on import or set low_memory=False.\n",
      "  data = pd.read_csv(file_path, skiprows=11)  # Adjust skiprows as needed\n"
     ]
    },
    {
     "name": "stdout",
     "output_type": "stream",
     "text": [
      "Genomap saved: genomaps\\ADNI3_FinalReport6744_genomap.png\n",
      "Processing file: ADNI3_FinalReport6746.csv\n"
     ]
    },
    {
     "name": "stderr",
     "output_type": "stream",
     "text": [
      "C:\\Users\\mudiv\\AppData\\Local\\Temp\\ipykernel_11800\\1192419693.py:9: DtypeWarning: Columns (13) have mixed types. Specify dtype option on import or set low_memory=False.\n",
      "  data = pd.read_csv(file_path, skiprows=11)  # Adjust skiprows as needed\n"
     ]
    },
    {
     "name": "stdout",
     "output_type": "stream",
     "text": [
      "Genomap saved: genomaps\\ADNI3_FinalReport6746_genomap.png\n",
      "Processing file: ADNI3_FinalReport6748.csv\n"
     ]
    },
    {
     "name": "stderr",
     "output_type": "stream",
     "text": [
      "C:\\Users\\mudiv\\AppData\\Local\\Temp\\ipykernel_11800\\1192419693.py:9: DtypeWarning: Columns (13) have mixed types. Specify dtype option on import or set low_memory=False.\n",
      "  data = pd.read_csv(file_path, skiprows=11)  # Adjust skiprows as needed\n"
     ]
    },
    {
     "name": "stdout",
     "output_type": "stream",
     "text": [
      "Genomap saved: genomaps\\ADNI3_FinalReport6748_genomap.png\n",
      "Processing file: ADNI3_FinalReport6750.csv\n"
     ]
    },
    {
     "name": "stderr",
     "output_type": "stream",
     "text": [
      "C:\\Users\\mudiv\\AppData\\Local\\Temp\\ipykernel_11800\\1192419693.py:9: DtypeWarning: Columns (13) have mixed types. Specify dtype option on import or set low_memory=False.\n",
      "  data = pd.read_csv(file_path, skiprows=11)  # Adjust skiprows as needed\n"
     ]
    },
    {
     "name": "stdout",
     "output_type": "stream",
     "text": [
      "Genomap saved: genomaps\\ADNI3_FinalReport6750_genomap.png\n",
      "Processing file: ADNI3_FinalReport6751.csv\n"
     ]
    },
    {
     "name": "stderr",
     "output_type": "stream",
     "text": [
      "C:\\Users\\mudiv\\AppData\\Local\\Temp\\ipykernel_11800\\1192419693.py:9: DtypeWarning: Columns (13) have mixed types. Specify dtype option on import or set low_memory=False.\n",
      "  data = pd.read_csv(file_path, skiprows=11)  # Adjust skiprows as needed\n"
     ]
    },
    {
     "name": "stdout",
     "output_type": "stream",
     "text": [
      "Genomap saved: genomaps\\ADNI3_FinalReport6751_genomap.png\n",
      "Processing file: ADNI3_FinalReport6754.csv\n"
     ]
    },
    {
     "name": "stderr",
     "output_type": "stream",
     "text": [
      "C:\\Users\\mudiv\\AppData\\Local\\Temp\\ipykernel_11800\\1192419693.py:9: DtypeWarning: Columns (13) have mixed types. Specify dtype option on import or set low_memory=False.\n",
      "  data = pd.read_csv(file_path, skiprows=11)  # Adjust skiprows as needed\n"
     ]
    },
    {
     "name": "stdout",
     "output_type": "stream",
     "text": [
      "Genomap saved: genomaps\\ADNI3_FinalReport6754_genomap.png\n",
      "Processing file: ADNI3_FinalReport6755.csv\n"
     ]
    },
    {
     "name": "stderr",
     "output_type": "stream",
     "text": [
      "C:\\Users\\mudiv\\AppData\\Local\\Temp\\ipykernel_11800\\1192419693.py:9: DtypeWarning: Columns (13) have mixed types. Specify dtype option on import or set low_memory=False.\n",
      "  data = pd.read_csv(file_path, skiprows=11)  # Adjust skiprows as needed\n"
     ]
    },
    {
     "name": "stdout",
     "output_type": "stream",
     "text": [
      "Error processing ADNI3_FinalReport6755.csv: '0.8136'\n",
      "Processing file: ADNI3_FinalReport6757.csv\n"
     ]
    },
    {
     "name": "stderr",
     "output_type": "stream",
     "text": [
      "C:\\Users\\mudiv\\AppData\\Local\\Temp\\ipykernel_11800\\1192419693.py:9: DtypeWarning: Columns (13) have mixed types. Specify dtype option on import or set low_memory=False.\n",
      "  data = pd.read_csv(file_path, skiprows=11)  # Adjust skiprows as needed\n"
     ]
    },
    {
     "name": "stdout",
     "output_type": "stream",
     "text": [
      "Genomap saved: genomaps\\ADNI3_FinalReport6757_genomap.png\n",
      "Processing file: ADNI3_FinalReport6758.csv\n"
     ]
    },
    {
     "name": "stderr",
     "output_type": "stream",
     "text": [
      "C:\\Users\\mudiv\\AppData\\Local\\Temp\\ipykernel_11800\\1192419693.py:9: DtypeWarning: Columns (13) have mixed types. Specify dtype option on import or set low_memory=False.\n",
      "  data = pd.read_csv(file_path, skiprows=11)  # Adjust skiprows as needed\n"
     ]
    },
    {
     "name": "stdout",
     "output_type": "stream",
     "text": [
      "Genomap saved: genomaps\\ADNI3_FinalReport6758_genomap.png\n",
      "Processing file: ADNI3_FinalReport6760.csv\n"
     ]
    },
    {
     "name": "stderr",
     "output_type": "stream",
     "text": [
      "C:\\Users\\mudiv\\AppData\\Local\\Temp\\ipykernel_11800\\1192419693.py:9: DtypeWarning: Columns (13) have mixed types. Specify dtype option on import or set low_memory=False.\n",
      "  data = pd.read_csv(file_path, skiprows=11)  # Adjust skiprows as needed\n"
     ]
    },
    {
     "name": "stdout",
     "output_type": "stream",
     "text": [
      "Genomap saved: genomaps\\ADNI3_FinalReport6760_genomap.png\n",
      "Processing file: ADNI3_FinalReport6761.csv\n"
     ]
    },
    {
     "name": "stderr",
     "output_type": "stream",
     "text": [
      "C:\\Users\\mudiv\\AppData\\Local\\Temp\\ipykernel_11800\\1192419693.py:9: DtypeWarning: Columns (13) have mixed types. Specify dtype option on import or set low_memory=False.\n",
      "  data = pd.read_csv(file_path, skiprows=11)  # Adjust skiprows as needed\n"
     ]
    },
    {
     "name": "stdout",
     "output_type": "stream",
     "text": [
      "Genomap saved: genomaps\\ADNI3_FinalReport6761_genomap.png\n",
      "Processing file: ADNI3_FinalReport6763.csv\n"
     ]
    },
    {
     "name": "stderr",
     "output_type": "stream",
     "text": [
      "C:\\Users\\mudiv\\AppData\\Local\\Temp\\ipykernel_11800\\1192419693.py:9: DtypeWarning: Columns (13) have mixed types. Specify dtype option on import or set low_memory=False.\n",
      "  data = pd.read_csv(file_path, skiprows=11)  # Adjust skiprows as needed\n"
     ]
    },
    {
     "name": "stdout",
     "output_type": "stream",
     "text": [
      "Genomap saved: genomaps\\ADNI3_FinalReport6763_genomap.png\n",
      "Processing file: ADNI3_FinalReport6764.csv\n"
     ]
    },
    {
     "name": "stderr",
     "output_type": "stream",
     "text": [
      "C:\\Users\\mudiv\\AppData\\Local\\Temp\\ipykernel_11800\\1192419693.py:9: DtypeWarning: Columns (13) have mixed types. Specify dtype option on import or set low_memory=False.\n",
      "  data = pd.read_csv(file_path, skiprows=11)  # Adjust skiprows as needed\n"
     ]
    },
    {
     "name": "stdout",
     "output_type": "stream",
     "text": [
      "Genomap saved: genomaps\\ADNI3_FinalReport6764_genomap.png\n",
      "Processing file: ADNI3_FinalReport6765.csv\n"
     ]
    },
    {
     "name": "stderr",
     "output_type": "stream",
     "text": [
      "C:\\Users\\mudiv\\AppData\\Local\\Temp\\ipykernel_11800\\1192419693.py:9: DtypeWarning: Columns (13) have mixed types. Specify dtype option on import or set low_memory=False.\n",
      "  data = pd.read_csv(file_path, skiprows=11)  # Adjust skiprows as needed\n"
     ]
    },
    {
     "name": "stdout",
     "output_type": "stream",
     "text": [
      "Genomap saved: genomaps\\ADNI3_FinalReport6765_genomap.png\n",
      "Processing file: ADNI3_FinalReport6768.csv\n"
     ]
    },
    {
     "name": "stderr",
     "output_type": "stream",
     "text": [
      "C:\\Users\\mudiv\\AppData\\Local\\Temp\\ipykernel_11800\\1192419693.py:9: DtypeWarning: Columns (13) have mixed types. Specify dtype option on import or set low_memory=False.\n",
      "  data = pd.read_csv(file_path, skiprows=11)  # Adjust skiprows as needed\n"
     ]
    },
    {
     "name": "stdout",
     "output_type": "stream",
     "text": [
      "Genomap saved: genomaps\\ADNI3_FinalReport6768_genomap.png\n",
      "Processing file: ADNI3_FinalReport6770.csv\n"
     ]
    },
    {
     "name": "stderr",
     "output_type": "stream",
     "text": [
      "C:\\Users\\mudiv\\AppData\\Local\\Temp\\ipykernel_11800\\1192419693.py:9: DtypeWarning: Columns (13) have mixed types. Specify dtype option on import or set low_memory=False.\n",
      "  data = pd.read_csv(file_path, skiprows=11)  # Adjust skiprows as needed\n"
     ]
    },
    {
     "name": "stdout",
     "output_type": "stream",
     "text": [
      "Genomap saved: genomaps\\ADNI3_FinalReport6770_genomap.png\n",
      "Processing file: ADNI3_FinalReport6771.csv\n"
     ]
    },
    {
     "name": "stderr",
     "output_type": "stream",
     "text": [
      "C:\\Users\\mudiv\\AppData\\Local\\Temp\\ipykernel_11800\\1192419693.py:9: DtypeWarning: Columns (13) have mixed types. Specify dtype option on import or set low_memory=False.\n",
      "  data = pd.read_csv(file_path, skiprows=11)  # Adjust skiprows as needed\n"
     ]
    },
    {
     "name": "stdout",
     "output_type": "stream",
     "text": [
      "Genomap saved: genomaps\\ADNI3_FinalReport6771_genomap.png\n",
      "Processing file: ADNI3_FinalReport6773.csv\n"
     ]
    },
    {
     "name": "stderr",
     "output_type": "stream",
     "text": [
      "C:\\Users\\mudiv\\AppData\\Local\\Temp\\ipykernel_11800\\1192419693.py:9: DtypeWarning: Columns (13) have mixed types. Specify dtype option on import or set low_memory=False.\n",
      "  data = pd.read_csv(file_path, skiprows=11)  # Adjust skiprows as needed\n"
     ]
    },
    {
     "name": "stdout",
     "output_type": "stream",
     "text": [
      "Genomap saved: genomaps\\ADNI3_FinalReport6773_genomap.png\n",
      "Processing file: ADNI3_FinalReport6775.csv\n"
     ]
    },
    {
     "name": "stderr",
     "output_type": "stream",
     "text": [
      "C:\\Users\\mudiv\\AppData\\Local\\Temp\\ipykernel_11800\\1192419693.py:9: DtypeWarning: Columns (13) have mixed types. Specify dtype option on import or set low_memory=False.\n",
      "  data = pd.read_csv(file_path, skiprows=11)  # Adjust skiprows as needed\n"
     ]
    },
    {
     "name": "stdout",
     "output_type": "stream",
     "text": [
      "Genomap saved: genomaps\\ADNI3_FinalReport6775_genomap.png\n",
      "Processing file: ADNI3_FinalReport6777.csv\n"
     ]
    },
    {
     "name": "stderr",
     "output_type": "stream",
     "text": [
      "C:\\Users\\mudiv\\AppData\\Local\\Temp\\ipykernel_11800\\1192419693.py:9: DtypeWarning: Columns (13) have mixed types. Specify dtype option on import or set low_memory=False.\n",
      "  data = pd.read_csv(file_path, skiprows=11)  # Adjust skiprows as needed\n"
     ]
    },
    {
     "name": "stdout",
     "output_type": "stream",
     "text": [
      "Genomap saved: genomaps\\ADNI3_FinalReport6777_genomap.png\n",
      "Processing file: ADNI3_FinalReport6779.csv\n"
     ]
    },
    {
     "name": "stderr",
     "output_type": "stream",
     "text": [
      "C:\\Users\\mudiv\\AppData\\Local\\Temp\\ipykernel_11800\\1192419693.py:9: DtypeWarning: Columns (13) have mixed types. Specify dtype option on import or set low_memory=False.\n",
      "  data = pd.read_csv(file_path, skiprows=11)  # Adjust skiprows as needed\n"
     ]
    },
    {
     "name": "stdout",
     "output_type": "stream",
     "text": [
      "Genomap saved: genomaps\\ADNI3_FinalReport6779_genomap.png\n",
      "Processing file: ADNI3_FinalReport6784.csv\n"
     ]
    },
    {
     "name": "stderr",
     "output_type": "stream",
     "text": [
      "C:\\Users\\mudiv\\AppData\\Local\\Temp\\ipykernel_11800\\1192419693.py:9: DtypeWarning: Columns (13) have mixed types. Specify dtype option on import or set low_memory=False.\n",
      "  data = pd.read_csv(file_path, skiprows=11)  # Adjust skiprows as needed\n"
     ]
    },
    {
     "name": "stdout",
     "output_type": "stream",
     "text": [
      "Genomap saved: genomaps\\ADNI3_FinalReport6784_genomap.png\n",
      "Processing file: ADNI3_FinalReport6785.csv\n"
     ]
    },
    {
     "name": "stderr",
     "output_type": "stream",
     "text": [
      "C:\\Users\\mudiv\\AppData\\Local\\Temp\\ipykernel_11800\\1192419693.py:9: DtypeWarning: Columns (13) have mixed types. Specify dtype option on import or set low_memory=False.\n",
      "  data = pd.read_csv(file_path, skiprows=11)  # Adjust skiprows as needed\n"
     ]
    },
    {
     "name": "stdout",
     "output_type": "stream",
     "text": [
      "Genomap saved: genomaps\\ADNI3_FinalReport6785_genomap.png\n",
      "Processing file: ADNI3_FinalReport6786.csv\n"
     ]
    },
    {
     "name": "stderr",
     "output_type": "stream",
     "text": [
      "C:\\Users\\mudiv\\AppData\\Local\\Temp\\ipykernel_11800\\1192419693.py:9: DtypeWarning: Columns (13) have mixed types. Specify dtype option on import or set low_memory=False.\n",
      "  data = pd.read_csv(file_path, skiprows=11)  # Adjust skiprows as needed\n"
     ]
    },
    {
     "name": "stdout",
     "output_type": "stream",
     "text": [
      "Genomap saved: genomaps\\ADNI3_FinalReport6786_genomap.png\n",
      "Processing file: ADNI3_FinalReport6788.csv\n"
     ]
    },
    {
     "name": "stderr",
     "output_type": "stream",
     "text": [
      "C:\\Users\\mudiv\\AppData\\Local\\Temp\\ipykernel_11800\\1192419693.py:9: DtypeWarning: Columns (13) have mixed types. Specify dtype option on import or set low_memory=False.\n",
      "  data = pd.read_csv(file_path, skiprows=11)  # Adjust skiprows as needed\n"
     ]
    },
    {
     "name": "stdout",
     "output_type": "stream",
     "text": [
      "Genomap saved: genomaps\\ADNI3_FinalReport6788_genomap.png\n",
      "Processing file: ADNI3_FinalReport6789.csv\n"
     ]
    },
    {
     "name": "stderr",
     "output_type": "stream",
     "text": [
      "C:\\Users\\mudiv\\AppData\\Local\\Temp\\ipykernel_11800\\1192419693.py:9: DtypeWarning: Columns (13) have mixed types. Specify dtype option on import or set low_memory=False.\n",
      "  data = pd.read_csv(file_path, skiprows=11)  # Adjust skiprows as needed\n"
     ]
    },
    {
     "name": "stdout",
     "output_type": "stream",
     "text": [
      "Genomap saved: genomaps\\ADNI3_FinalReport6789_genomap.png\n",
      "Processing file: ADNI3_FinalReport6790.csv\n"
     ]
    },
    {
     "name": "stderr",
     "output_type": "stream",
     "text": [
      "C:\\Users\\mudiv\\AppData\\Local\\Temp\\ipykernel_11800\\1192419693.py:9: DtypeWarning: Columns (13) have mixed types. Specify dtype option on import or set low_memory=False.\n",
      "  data = pd.read_csv(file_path, skiprows=11)  # Adjust skiprows as needed\n"
     ]
    },
    {
     "name": "stdout",
     "output_type": "stream",
     "text": [
      "Genomap saved: genomaps\\ADNI3_FinalReport6790_genomap.png\n",
      "Processing file: ADNI3_FinalReport6796.csv\n"
     ]
    },
    {
     "name": "stderr",
     "output_type": "stream",
     "text": [
      "C:\\Users\\mudiv\\AppData\\Local\\Temp\\ipykernel_11800\\1192419693.py:9: DtypeWarning: Columns (13) have mixed types. Specify dtype option on import or set low_memory=False.\n",
      "  data = pd.read_csv(file_path, skiprows=11)  # Adjust skiprows as needed\n"
     ]
    },
    {
     "name": "stdout",
     "output_type": "stream",
     "text": [
      "Genomap saved: genomaps\\ADNI3_FinalReport6796_genomap.png\n",
      "Processing file: ADNI3_FinalReport6797.csv\n"
     ]
    },
    {
     "name": "stderr",
     "output_type": "stream",
     "text": [
      "C:\\Users\\mudiv\\AppData\\Local\\Temp\\ipykernel_11800\\1192419693.py:9: DtypeWarning: Columns (13) have mixed types. Specify dtype option on import or set low_memory=False.\n",
      "  data = pd.read_csv(file_path, skiprows=11)  # Adjust skiprows as needed\n"
     ]
    },
    {
     "name": "stdout",
     "output_type": "stream",
     "text": [
      "Genomap saved: genomaps\\ADNI3_FinalReport6797_genomap.png\n",
      "Processing file: ADNI3_FinalReport6798.csv\n"
     ]
    },
    {
     "name": "stderr",
     "output_type": "stream",
     "text": [
      "C:\\Users\\mudiv\\AppData\\Local\\Temp\\ipykernel_11800\\1192419693.py:9: DtypeWarning: Columns (13) have mixed types. Specify dtype option on import or set low_memory=False.\n",
      "  data = pd.read_csv(file_path, skiprows=11)  # Adjust skiprows as needed\n"
     ]
    },
    {
     "name": "stdout",
     "output_type": "stream",
     "text": [
      "Genomap saved: genomaps\\ADNI3_FinalReport6798_genomap.png\n",
      "Processing file: ADNI3_FinalReport6799.csv\n"
     ]
    },
    {
     "name": "stderr",
     "output_type": "stream",
     "text": [
      "C:\\Users\\mudiv\\AppData\\Local\\Temp\\ipykernel_11800\\1192419693.py:9: DtypeWarning: Columns (13) have mixed types. Specify dtype option on import or set low_memory=False.\n",
      "  data = pd.read_csv(file_path, skiprows=11)  # Adjust skiprows as needed\n"
     ]
    },
    {
     "name": "stdout",
     "output_type": "stream",
     "text": [
      "Error processing ADNI3_FinalReport6799.csv: '0.8136'\n",
      "Processing file: ADNI3_FinalReport6800.csv\n"
     ]
    },
    {
     "name": "stderr",
     "output_type": "stream",
     "text": [
      "C:\\Users\\mudiv\\AppData\\Local\\Temp\\ipykernel_11800\\1192419693.py:9: DtypeWarning: Columns (13) have mixed types. Specify dtype option on import or set low_memory=False.\n",
      "  data = pd.read_csv(file_path, skiprows=11)  # Adjust skiprows as needed\n"
     ]
    },
    {
     "name": "stdout",
     "output_type": "stream",
     "text": [
      "Genomap saved: genomaps\\ADNI3_FinalReport6800_genomap.png\n",
      "Processing file: ADNI3_FinalReport6801.csv\n"
     ]
    },
    {
     "name": "stderr",
     "output_type": "stream",
     "text": [
      "C:\\Users\\mudiv\\AppData\\Local\\Temp\\ipykernel_11800\\1192419693.py:9: DtypeWarning: Columns (13) have mixed types. Specify dtype option on import or set low_memory=False.\n",
      "  data = pd.read_csv(file_path, skiprows=11)  # Adjust skiprows as needed\n"
     ]
    },
    {
     "name": "stdout",
     "output_type": "stream",
     "text": [
      "Genomap saved: genomaps\\ADNI3_FinalReport6801_genomap.png\n",
      "Processing file: ADNI3_FinalReport6802.csv\n"
     ]
    },
    {
     "name": "stderr",
     "output_type": "stream",
     "text": [
      "C:\\Users\\mudiv\\AppData\\Local\\Temp\\ipykernel_11800\\1192419693.py:9: DtypeWarning: Columns (13) have mixed types. Specify dtype option on import or set low_memory=False.\n",
      "  data = pd.read_csv(file_path, skiprows=11)  # Adjust skiprows as needed\n"
     ]
    },
    {
     "name": "stdout",
     "output_type": "stream",
     "text": [
      "Genomap saved: genomaps\\ADNI3_FinalReport6802_genomap.png\n",
      "Processing file: ADNI3_FinalReport6803.csv\n"
     ]
    },
    {
     "name": "stderr",
     "output_type": "stream",
     "text": [
      "C:\\Users\\mudiv\\AppData\\Local\\Temp\\ipykernel_11800\\1192419693.py:9: DtypeWarning: Columns (13) have mixed types. Specify dtype option on import or set low_memory=False.\n",
      "  data = pd.read_csv(file_path, skiprows=11)  # Adjust skiprows as needed\n"
     ]
    },
    {
     "name": "stdout",
     "output_type": "stream",
     "text": [
      "Genomap saved: genomaps\\ADNI3_FinalReport6803_genomap.png\n",
      "Processing file: ADNI3_FinalReport6804.csv\n"
     ]
    },
    {
     "name": "stderr",
     "output_type": "stream",
     "text": [
      "C:\\Users\\mudiv\\AppData\\Local\\Temp\\ipykernel_11800\\1192419693.py:9: DtypeWarning: Columns (13) have mixed types. Specify dtype option on import or set low_memory=False.\n",
      "  data = pd.read_csv(file_path, skiprows=11)  # Adjust skiprows as needed\n"
     ]
    },
    {
     "name": "stdout",
     "output_type": "stream",
     "text": [
      "Genomap saved: genomaps\\ADNI3_FinalReport6804_genomap.png\n",
      "Processing file: ADNI3_FinalReport6805.csv\n"
     ]
    },
    {
     "name": "stderr",
     "output_type": "stream",
     "text": [
      "C:\\Users\\mudiv\\AppData\\Local\\Temp\\ipykernel_11800\\1192419693.py:9: DtypeWarning: Columns (13) have mixed types. Specify dtype option on import or set low_memory=False.\n",
      "  data = pd.read_csv(file_path, skiprows=11)  # Adjust skiprows as needed\n"
     ]
    },
    {
     "name": "stdout",
     "output_type": "stream",
     "text": [
      "Genomap saved: genomaps\\ADNI3_FinalReport6805_genomap.png\n",
      "Processing file: ADNI3_FinalReport6809.csv\n"
     ]
    },
    {
     "name": "stderr",
     "output_type": "stream",
     "text": [
      "C:\\Users\\mudiv\\AppData\\Local\\Temp\\ipykernel_11800\\1192419693.py:9: DtypeWarning: Columns (13) have mixed types. Specify dtype option on import or set low_memory=False.\n",
      "  data = pd.read_csv(file_path, skiprows=11)  # Adjust skiprows as needed\n"
     ]
    },
    {
     "name": "stdout",
     "output_type": "stream",
     "text": [
      "Genomap saved: genomaps\\ADNI3_FinalReport6809_genomap.png\n",
      "Processing file: ADNI3_FinalReport6810.csv\n"
     ]
    },
    {
     "name": "stderr",
     "output_type": "stream",
     "text": [
      "C:\\Users\\mudiv\\AppData\\Local\\Temp\\ipykernel_11800\\1192419693.py:9: DtypeWarning: Columns (13) have mixed types. Specify dtype option on import or set low_memory=False.\n",
      "  data = pd.read_csv(file_path, skiprows=11)  # Adjust skiprows as needed\n"
     ]
    },
    {
     "name": "stdout",
     "output_type": "stream",
     "text": [
      "Genomap saved: genomaps\\ADNI3_FinalReport6810_genomap.png\n",
      "Processing file: ADNI3_FinalReport6811.csv\n"
     ]
    },
    {
     "name": "stderr",
     "output_type": "stream",
     "text": [
      "C:\\Users\\mudiv\\AppData\\Local\\Temp\\ipykernel_11800\\1192419693.py:9: DtypeWarning: Columns (13) have mixed types. Specify dtype option on import or set low_memory=False.\n",
      "  data = pd.read_csv(file_path, skiprows=11)  # Adjust skiprows as needed\n"
     ]
    },
    {
     "name": "stdout",
     "output_type": "stream",
     "text": [
      "Genomap saved: genomaps\\ADNI3_FinalReport6811_genomap.png\n",
      "Processing file: ADNI3_FinalReport6813.csv\n"
     ]
    },
    {
     "name": "stderr",
     "output_type": "stream",
     "text": [
      "C:\\Users\\mudiv\\AppData\\Local\\Temp\\ipykernel_11800\\1192419693.py:9: DtypeWarning: Columns (13) have mixed types. Specify dtype option on import or set low_memory=False.\n",
      "  data = pd.read_csv(file_path, skiprows=11)  # Adjust skiprows as needed\n"
     ]
    },
    {
     "name": "stdout",
     "output_type": "stream",
     "text": [
      "Genomap saved: genomaps\\ADNI3_FinalReport6813_genomap.png\n",
      "Processing file: ADNI3_FinalReport6816.csv\n"
     ]
    },
    {
     "name": "stderr",
     "output_type": "stream",
     "text": [
      "C:\\Users\\mudiv\\AppData\\Local\\Temp\\ipykernel_11800\\1192419693.py:9: DtypeWarning: Columns (13) have mixed types. Specify dtype option on import or set low_memory=False.\n",
      "  data = pd.read_csv(file_path, skiprows=11)  # Adjust skiprows as needed\n"
     ]
    },
    {
     "name": "stdout",
     "output_type": "stream",
     "text": [
      "Genomap saved: genomaps\\ADNI3_FinalReport6816_genomap.png\n",
      "Processing file: ADNI3_FinalReport6817.csv\n"
     ]
    },
    {
     "name": "stderr",
     "output_type": "stream",
     "text": [
      "C:\\Users\\mudiv\\AppData\\Local\\Temp\\ipykernel_11800\\1192419693.py:9: DtypeWarning: Columns (13) have mixed types. Specify dtype option on import or set low_memory=False.\n",
      "  data = pd.read_csv(file_path, skiprows=11)  # Adjust skiprows as needed\n"
     ]
    },
    {
     "name": "stdout",
     "output_type": "stream",
     "text": [
      "Genomap saved: genomaps\\ADNI3_FinalReport6817_genomap.png\n",
      "Processing file: ADNI3_FinalReport6820.csv\n"
     ]
    },
    {
     "name": "stderr",
     "output_type": "stream",
     "text": [
      "C:\\Users\\mudiv\\AppData\\Local\\Temp\\ipykernel_11800\\1192419693.py:9: DtypeWarning: Columns (13) have mixed types. Specify dtype option on import or set low_memory=False.\n",
      "  data = pd.read_csv(file_path, skiprows=11)  # Adjust skiprows as needed\n"
     ]
    },
    {
     "name": "stdout",
     "output_type": "stream",
     "text": [
      "Genomap saved: genomaps\\ADNI3_FinalReport6820_genomap.png\n",
      "Processing file: ADNI3_FinalReport6821.csv\n"
     ]
    },
    {
     "name": "stderr",
     "output_type": "stream",
     "text": [
      "C:\\Users\\mudiv\\AppData\\Local\\Temp\\ipykernel_11800\\1192419693.py:9: DtypeWarning: Columns (13) have mixed types. Specify dtype option on import or set low_memory=False.\n",
      "  data = pd.read_csv(file_path, skiprows=11)  # Adjust skiprows as needed\n"
     ]
    },
    {
     "name": "stdout",
     "output_type": "stream",
     "text": [
      "Genomap saved: genomaps\\ADNI3_FinalReport6821_genomap.png\n",
      "Processing file: ADNI3_FinalReport6822.csv\n"
     ]
    },
    {
     "name": "stderr",
     "output_type": "stream",
     "text": [
      "C:\\Users\\mudiv\\AppData\\Local\\Temp\\ipykernel_11800\\1192419693.py:9: DtypeWarning: Columns (13) have mixed types. Specify dtype option on import or set low_memory=False.\n",
      "  data = pd.read_csv(file_path, skiprows=11)  # Adjust skiprows as needed\n"
     ]
    },
    {
     "name": "stdout",
     "output_type": "stream",
     "text": [
      "Genomap saved: genomaps\\ADNI3_FinalReport6822_genomap.png\n",
      "Processing file: ADNI3_FinalReport6823.csv\n"
     ]
    },
    {
     "name": "stderr",
     "output_type": "stream",
     "text": [
      "C:\\Users\\mudiv\\AppData\\Local\\Temp\\ipykernel_11800\\1192419693.py:9: DtypeWarning: Columns (13) have mixed types. Specify dtype option on import or set low_memory=False.\n",
      "  data = pd.read_csv(file_path, skiprows=11)  # Adjust skiprows as needed\n"
     ]
    },
    {
     "name": "stdout",
     "output_type": "stream",
     "text": [
      "Genomap saved: genomaps\\ADNI3_FinalReport6823_genomap.png\n",
      "Processing file: ADNI3_FinalReport6825.csv\n"
     ]
    },
    {
     "name": "stderr",
     "output_type": "stream",
     "text": [
      "C:\\Users\\mudiv\\AppData\\Local\\Temp\\ipykernel_11800\\1192419693.py:9: DtypeWarning: Columns (13) have mixed types. Specify dtype option on import or set low_memory=False.\n",
      "  data = pd.read_csv(file_path, skiprows=11)  # Adjust skiprows as needed\n"
     ]
    },
    {
     "name": "stdout",
     "output_type": "stream",
     "text": [
      "Genomap saved: genomaps\\ADNI3_FinalReport6825_genomap.png\n",
      "Processing file: ADNI3_FinalReport6828.csv\n"
     ]
    },
    {
     "name": "stderr",
     "output_type": "stream",
     "text": [
      "C:\\Users\\mudiv\\AppData\\Local\\Temp\\ipykernel_11800\\1192419693.py:9: DtypeWarning: Columns (13) have mixed types. Specify dtype option on import or set low_memory=False.\n",
      "  data = pd.read_csv(file_path, skiprows=11)  # Adjust skiprows as needed\n"
     ]
    },
    {
     "name": "stdout",
     "output_type": "stream",
     "text": [
      "Genomap saved: genomaps\\ADNI3_FinalReport6828_genomap.png\n",
      "Processing file: ADNI3_FinalReport6830.csv\n"
     ]
    },
    {
     "name": "stderr",
     "output_type": "stream",
     "text": [
      "C:\\Users\\mudiv\\AppData\\Local\\Temp\\ipykernel_11800\\1192419693.py:9: DtypeWarning: Columns (13) have mixed types. Specify dtype option on import or set low_memory=False.\n",
      "  data = pd.read_csv(file_path, skiprows=11)  # Adjust skiprows as needed\n"
     ]
    },
    {
     "name": "stdout",
     "output_type": "stream",
     "text": [
      "Genomap saved: genomaps\\ADNI3_FinalReport6830_genomap.png\n",
      "Processing file: ADNI3_FinalReport6831.csv\n"
     ]
    },
    {
     "name": "stderr",
     "output_type": "stream",
     "text": [
      "C:\\Users\\mudiv\\AppData\\Local\\Temp\\ipykernel_11800\\1192419693.py:9: DtypeWarning: Columns (13) have mixed types. Specify dtype option on import or set low_memory=False.\n",
      "  data = pd.read_csv(file_path, skiprows=11)  # Adjust skiprows as needed\n"
     ]
    },
    {
     "name": "stdout",
     "output_type": "stream",
     "text": [
      "Genomap saved: genomaps\\ADNI3_FinalReport6831_genomap.png\n",
      "Processing file: ADNI3_FinalReport6832.csv\n"
     ]
    },
    {
     "name": "stderr",
     "output_type": "stream",
     "text": [
      "C:\\Users\\mudiv\\AppData\\Local\\Temp\\ipykernel_11800\\1192419693.py:9: DtypeWarning: Columns (13) have mixed types. Specify dtype option on import or set low_memory=False.\n",
      "  data = pd.read_csv(file_path, skiprows=11)  # Adjust skiprows as needed\n"
     ]
    },
    {
     "name": "stdout",
     "output_type": "stream",
     "text": [
      "Genomap saved: genomaps\\ADNI3_FinalReport6832_genomap.png\n",
      "Processing file: ADNI3_FinalReport6833.csv\n"
     ]
    },
    {
     "name": "stderr",
     "output_type": "stream",
     "text": [
      "C:\\Users\\mudiv\\AppData\\Local\\Temp\\ipykernel_11800\\1192419693.py:9: DtypeWarning: Columns (13) have mixed types. Specify dtype option on import or set low_memory=False.\n",
      "  data = pd.read_csv(file_path, skiprows=11)  # Adjust skiprows as needed\n"
     ]
    },
    {
     "name": "stdout",
     "output_type": "stream",
     "text": [
      "Genomap saved: genomaps\\ADNI3_FinalReport6833_genomap.png\n",
      "Processing file: ADNI3_FinalReport6834.csv\n"
     ]
    },
    {
     "name": "stderr",
     "output_type": "stream",
     "text": [
      "C:\\Users\\mudiv\\AppData\\Local\\Temp\\ipykernel_11800\\1192419693.py:9: DtypeWarning: Columns (13) have mixed types. Specify dtype option on import or set low_memory=False.\n",
      "  data = pd.read_csv(file_path, skiprows=11)  # Adjust skiprows as needed\n"
     ]
    },
    {
     "name": "stdout",
     "output_type": "stream",
     "text": [
      "Genomap saved: genomaps\\ADNI3_FinalReport6834_genomap.png\n",
      "Processing file: ADNI3_FinalReport6837.csv\n"
     ]
    },
    {
     "name": "stderr",
     "output_type": "stream",
     "text": [
      "C:\\Users\\mudiv\\AppData\\Local\\Temp\\ipykernel_11800\\1192419693.py:9: DtypeWarning: Columns (13) have mixed types. Specify dtype option on import or set low_memory=False.\n",
      "  data = pd.read_csv(file_path, skiprows=11)  # Adjust skiprows as needed\n"
     ]
    },
    {
     "name": "stdout",
     "output_type": "stream",
     "text": [
      "Genomap saved: genomaps\\ADNI3_FinalReport6837_genomap.png\n",
      "Processing file: ADNI3_FinalReport6839.csv\n"
     ]
    },
    {
     "name": "stderr",
     "output_type": "stream",
     "text": [
      "C:\\Users\\mudiv\\AppData\\Local\\Temp\\ipykernel_11800\\1192419693.py:9: DtypeWarning: Columns (13) have mixed types. Specify dtype option on import or set low_memory=False.\n",
      "  data = pd.read_csv(file_path, skiprows=11)  # Adjust skiprows as needed\n"
     ]
    },
    {
     "name": "stdout",
     "output_type": "stream",
     "text": [
      "Genomap saved: genomaps\\ADNI3_FinalReport6839_genomap.png\n",
      "Processing file: ADNI3_FinalReport6840.csv\n"
     ]
    },
    {
     "name": "stderr",
     "output_type": "stream",
     "text": [
      "C:\\Users\\mudiv\\AppData\\Local\\Temp\\ipykernel_11800\\1192419693.py:9: DtypeWarning: Columns (13) have mixed types. Specify dtype option on import or set low_memory=False.\n",
      "  data = pd.read_csv(file_path, skiprows=11)  # Adjust skiprows as needed\n"
     ]
    },
    {
     "name": "stdout",
     "output_type": "stream",
     "text": [
      "Genomap saved: genomaps\\ADNI3_FinalReport6840_genomap.png\n",
      "Processing file: ADNI3_FinalReport6842.csv\n"
     ]
    },
    {
     "name": "stderr",
     "output_type": "stream",
     "text": [
      "C:\\Users\\mudiv\\AppData\\Local\\Temp\\ipykernel_11800\\1192419693.py:9: DtypeWarning: Columns (13) have mixed types. Specify dtype option on import or set low_memory=False.\n",
      "  data = pd.read_csv(file_path, skiprows=11)  # Adjust skiprows as needed\n"
     ]
    },
    {
     "name": "stdout",
     "output_type": "stream",
     "text": [
      "Genomap saved: genomaps\\ADNI3_FinalReport6842_genomap.png\n",
      "Processing file: ADNI3_FinalReport6843.csv\n"
     ]
    },
    {
     "name": "stderr",
     "output_type": "stream",
     "text": [
      "C:\\Users\\mudiv\\AppData\\Local\\Temp\\ipykernel_11800\\1192419693.py:9: DtypeWarning: Columns (13) have mixed types. Specify dtype option on import or set low_memory=False.\n",
      "  data = pd.read_csv(file_path, skiprows=11)  # Adjust skiprows as needed\n"
     ]
    },
    {
     "name": "stdout",
     "output_type": "stream",
     "text": [
      "Genomap saved: genomaps\\ADNI3_FinalReport6843_genomap.png\n",
      "Processing file: ADNI3_FinalReport6844.csv\n"
     ]
    },
    {
     "name": "stderr",
     "output_type": "stream",
     "text": [
      "C:\\Users\\mudiv\\AppData\\Local\\Temp\\ipykernel_11800\\1192419693.py:9: DtypeWarning: Columns (13) have mixed types. Specify dtype option on import or set low_memory=False.\n",
      "  data = pd.read_csv(file_path, skiprows=11)  # Adjust skiprows as needed\n"
     ]
    },
    {
     "name": "stdout",
     "output_type": "stream",
     "text": [
      "Genomap saved: genomaps\\ADNI3_FinalReport6844_genomap.png\n",
      "Processing file: ADNI3_FinalReport6845.csv\n"
     ]
    },
    {
     "name": "stderr",
     "output_type": "stream",
     "text": [
      "C:\\Users\\mudiv\\AppData\\Local\\Temp\\ipykernel_11800\\1192419693.py:9: DtypeWarning: Columns (13) have mixed types. Specify dtype option on import or set low_memory=False.\n",
      "  data = pd.read_csv(file_path, skiprows=11)  # Adjust skiprows as needed\n"
     ]
    },
    {
     "name": "stdout",
     "output_type": "stream",
     "text": [
      "Genomap saved: genomaps\\ADNI3_FinalReport6845_genomap.png\n",
      "Processing file: ADNI3_FinalReport6846.csv\n"
     ]
    },
    {
     "name": "stderr",
     "output_type": "stream",
     "text": [
      "C:\\Users\\mudiv\\AppData\\Local\\Temp\\ipykernel_11800\\1192419693.py:9: DtypeWarning: Columns (13) have mixed types. Specify dtype option on import or set low_memory=False.\n",
      "  data = pd.read_csv(file_path, skiprows=11)  # Adjust skiprows as needed\n"
     ]
    },
    {
     "name": "stdout",
     "output_type": "stream",
     "text": [
      "Genomap saved: genomaps\\ADNI3_FinalReport6846_genomap.png\n",
      "Processing file: ADNI3_FinalReport6847.csv\n"
     ]
    },
    {
     "name": "stderr",
     "output_type": "stream",
     "text": [
      "C:\\Users\\mudiv\\AppData\\Local\\Temp\\ipykernel_11800\\1192419693.py:9: DtypeWarning: Columns (13) have mixed types. Specify dtype option on import or set low_memory=False.\n",
      "  data = pd.read_csv(file_path, skiprows=11)  # Adjust skiprows as needed\n"
     ]
    },
    {
     "name": "stdout",
     "output_type": "stream",
     "text": [
      "Genomap saved: genomaps\\ADNI3_FinalReport6847_genomap.png\n",
      "Processing file: ADNI3_FinalReport6848.csv\n"
     ]
    },
    {
     "name": "stderr",
     "output_type": "stream",
     "text": [
      "C:\\Users\\mudiv\\AppData\\Local\\Temp\\ipykernel_11800\\1192419693.py:9: DtypeWarning: Columns (13) have mixed types. Specify dtype option on import or set low_memory=False.\n",
      "  data = pd.read_csv(file_path, skiprows=11)  # Adjust skiprows as needed\n"
     ]
    },
    {
     "name": "stdout",
     "output_type": "stream",
     "text": [
      "Genomap saved: genomaps\\ADNI3_FinalReport6848_genomap.png\n",
      "Processing file: ADNI3_FinalReport6849.csv\n"
     ]
    },
    {
     "name": "stderr",
     "output_type": "stream",
     "text": [
      "C:\\Users\\mudiv\\AppData\\Local\\Temp\\ipykernel_11800\\1192419693.py:9: DtypeWarning: Columns (13) have mixed types. Specify dtype option on import or set low_memory=False.\n",
      "  data = pd.read_csv(file_path, skiprows=11)  # Adjust skiprows as needed\n"
     ]
    },
    {
     "name": "stdout",
     "output_type": "stream",
     "text": [
      "Genomap saved: genomaps\\ADNI3_FinalReport6849_genomap.png\n",
      "Processing file: ADNI3_FinalReport6850.csv\n"
     ]
    },
    {
     "name": "stderr",
     "output_type": "stream",
     "text": [
      "C:\\Users\\mudiv\\AppData\\Local\\Temp\\ipykernel_11800\\1192419693.py:9: DtypeWarning: Columns (13) have mixed types. Specify dtype option on import or set low_memory=False.\n",
      "  data = pd.read_csv(file_path, skiprows=11)  # Adjust skiprows as needed\n"
     ]
    },
    {
     "name": "stdout",
     "output_type": "stream",
     "text": [
      "Genomap saved: genomaps\\ADNI3_FinalReport6850_genomap.png\n",
      "Processing file: ADNI3_FinalReport6852.csv\n"
     ]
    },
    {
     "name": "stderr",
     "output_type": "stream",
     "text": [
      "C:\\Users\\mudiv\\AppData\\Local\\Temp\\ipykernel_11800\\1192419693.py:9: DtypeWarning: Columns (13) have mixed types. Specify dtype option on import or set low_memory=False.\n",
      "  data = pd.read_csv(file_path, skiprows=11)  # Adjust skiprows as needed\n"
     ]
    },
    {
     "name": "stdout",
     "output_type": "stream",
     "text": [
      "Genomap saved: genomaps\\ADNI3_FinalReport6852_genomap.png\n",
      "Processing file: ADNI3_FinalReport6853.csv\n"
     ]
    },
    {
     "name": "stderr",
     "output_type": "stream",
     "text": [
      "C:\\Users\\mudiv\\AppData\\Local\\Temp\\ipykernel_11800\\1192419693.py:9: DtypeWarning: Columns (13) have mixed types. Specify dtype option on import or set low_memory=False.\n",
      "  data = pd.read_csv(file_path, skiprows=11)  # Adjust skiprows as needed\n"
     ]
    },
    {
     "name": "stdout",
     "output_type": "stream",
     "text": [
      "Genomap saved: genomaps\\ADNI3_FinalReport6853_genomap.png\n",
      "Processing file: ADNI3_FinalReport6854.csv\n"
     ]
    },
    {
     "name": "stderr",
     "output_type": "stream",
     "text": [
      "C:\\Users\\mudiv\\AppData\\Local\\Temp\\ipykernel_11800\\1192419693.py:9: DtypeWarning: Columns (13) have mixed types. Specify dtype option on import or set low_memory=False.\n",
      "  data = pd.read_csv(file_path, skiprows=11)  # Adjust skiprows as needed\n"
     ]
    },
    {
     "name": "stdout",
     "output_type": "stream",
     "text": [
      "Genomap saved: genomaps\\ADNI3_FinalReport6854_genomap.png\n",
      "Processing file: ADNI3_FinalReport6857.csv\n"
     ]
    },
    {
     "name": "stderr",
     "output_type": "stream",
     "text": [
      "C:\\Users\\mudiv\\AppData\\Local\\Temp\\ipykernel_11800\\1192419693.py:9: DtypeWarning: Columns (13) have mixed types. Specify dtype option on import or set low_memory=False.\n",
      "  data = pd.read_csv(file_path, skiprows=11)  # Adjust skiprows as needed\n"
     ]
    },
    {
     "name": "stdout",
     "output_type": "stream",
     "text": [
      "Genomap saved: genomaps\\ADNI3_FinalReport6857_genomap.png\n",
      "Processing file: ADNI3_FinalReport6860.csv\n"
     ]
    },
    {
     "name": "stderr",
     "output_type": "stream",
     "text": [
      "C:\\Users\\mudiv\\AppData\\Local\\Temp\\ipykernel_11800\\1192419693.py:9: DtypeWarning: Columns (13) have mixed types. Specify dtype option on import or set low_memory=False.\n",
      "  data = pd.read_csv(file_path, skiprows=11)  # Adjust skiprows as needed\n"
     ]
    },
    {
     "name": "stdout",
     "output_type": "stream",
     "text": [
      "Genomap saved: genomaps\\ADNI3_FinalReport6860_genomap.png\n",
      "Processing file: ADNI3_FinalReport6861.csv\n"
     ]
    },
    {
     "name": "stderr",
     "output_type": "stream",
     "text": [
      "C:\\Users\\mudiv\\AppData\\Local\\Temp\\ipykernel_11800\\1192419693.py:9: DtypeWarning: Columns (13) have mixed types. Specify dtype option on import or set low_memory=False.\n",
      "  data = pd.read_csv(file_path, skiprows=11)  # Adjust skiprows as needed\n"
     ]
    },
    {
     "name": "stdout",
     "output_type": "stream",
     "text": [
      "Genomap saved: genomaps\\ADNI3_FinalReport6861_genomap.png\n",
      "Processing file: ADNI3_FinalReport6863.csv\n"
     ]
    },
    {
     "name": "stderr",
     "output_type": "stream",
     "text": [
      "C:\\Users\\mudiv\\AppData\\Local\\Temp\\ipykernel_11800\\1192419693.py:9: DtypeWarning: Columns (13) have mixed types. Specify dtype option on import or set low_memory=False.\n",
      "  data = pd.read_csv(file_path, skiprows=11)  # Adjust skiprows as needed\n"
     ]
    },
    {
     "name": "stdout",
     "output_type": "stream",
     "text": [
      "Genomap saved: genomaps\\ADNI3_FinalReport6863_genomap.png\n",
      "Processing file: ADNI3_FinalReport6869.csv\n"
     ]
    },
    {
     "name": "stderr",
     "output_type": "stream",
     "text": [
      "C:\\Users\\mudiv\\AppData\\Local\\Temp\\ipykernel_11800\\1192419693.py:9: DtypeWarning: Columns (13) have mixed types. Specify dtype option on import or set low_memory=False.\n",
      "  data = pd.read_csv(file_path, skiprows=11)  # Adjust skiprows as needed\n"
     ]
    },
    {
     "name": "stdout",
     "output_type": "stream",
     "text": [
      "Error processing ADNI3_FinalReport6869.csv: '0.8136'\n",
      "Processing file: ADNI3_FinalReport6871.csv\n"
     ]
    },
    {
     "name": "stderr",
     "output_type": "stream",
     "text": [
      "C:\\Users\\mudiv\\AppData\\Local\\Temp\\ipykernel_11800\\1192419693.py:9: DtypeWarning: Columns (13) have mixed types. Specify dtype option on import or set low_memory=False.\n",
      "  data = pd.read_csv(file_path, skiprows=11)  # Adjust skiprows as needed\n"
     ]
    },
    {
     "name": "stdout",
     "output_type": "stream",
     "text": [
      "Genomap saved: genomaps\\ADNI3_FinalReport6871_genomap.png\n",
      "Processing file: ADNI3_FinalReport6872.csv\n"
     ]
    },
    {
     "name": "stderr",
     "output_type": "stream",
     "text": [
      "C:\\Users\\mudiv\\AppData\\Local\\Temp\\ipykernel_11800\\1192419693.py:9: DtypeWarning: Columns (13) have mixed types. Specify dtype option on import or set low_memory=False.\n",
      "  data = pd.read_csv(file_path, skiprows=11)  # Adjust skiprows as needed\n"
     ]
    },
    {
     "name": "stdout",
     "output_type": "stream",
     "text": [
      "Genomap saved: genomaps\\ADNI3_FinalReport6872_genomap.png\n",
      "Processing file: ADNI3_FinalReport6874.csv\n"
     ]
    },
    {
     "name": "stderr",
     "output_type": "stream",
     "text": [
      "C:\\Users\\mudiv\\AppData\\Local\\Temp\\ipykernel_11800\\1192419693.py:9: DtypeWarning: Columns (13) have mixed types. Specify dtype option on import or set low_memory=False.\n",
      "  data = pd.read_csv(file_path, skiprows=11)  # Adjust skiprows as needed\n"
     ]
    },
    {
     "name": "stdout",
     "output_type": "stream",
     "text": [
      "Genomap saved: genomaps\\ADNI3_FinalReport6874_genomap.png\n",
      "Processing file: ADNI3_FinalReport6875.csv\n"
     ]
    },
    {
     "name": "stderr",
     "output_type": "stream",
     "text": [
      "C:\\Users\\mudiv\\AppData\\Local\\Temp\\ipykernel_11800\\1192419693.py:9: DtypeWarning: Columns (13) have mixed types. Specify dtype option on import or set low_memory=False.\n",
      "  data = pd.read_csv(file_path, skiprows=11)  # Adjust skiprows as needed\n"
     ]
    },
    {
     "name": "stdout",
     "output_type": "stream",
     "text": [
      "Genomap saved: genomaps\\ADNI3_FinalReport6875_genomap.png\n",
      "Processing file: ADNI3_FinalReport6877.csv\n"
     ]
    },
    {
     "name": "stderr",
     "output_type": "stream",
     "text": [
      "C:\\Users\\mudiv\\AppData\\Local\\Temp\\ipykernel_11800\\1192419693.py:9: DtypeWarning: Columns (13) have mixed types. Specify dtype option on import or set low_memory=False.\n",
      "  data = pd.read_csv(file_path, skiprows=11)  # Adjust skiprows as needed\n"
     ]
    },
    {
     "name": "stdout",
     "output_type": "stream",
     "text": [
      "Genomap saved: genomaps\\ADNI3_FinalReport6877_genomap.png\n",
      "Processing file: ADNI3_FinalReport6878.csv\n"
     ]
    },
    {
     "name": "stderr",
     "output_type": "stream",
     "text": [
      "C:\\Users\\mudiv\\AppData\\Local\\Temp\\ipykernel_11800\\1192419693.py:9: DtypeWarning: Columns (13) have mixed types. Specify dtype option on import or set low_memory=False.\n",
      "  data = pd.read_csv(file_path, skiprows=11)  # Adjust skiprows as needed\n"
     ]
    },
    {
     "name": "stdout",
     "output_type": "stream",
     "text": [
      "Genomap saved: genomaps\\ADNI3_FinalReport6878_genomap.png\n",
      "Processing file: ADNI3_FinalReport6880.csv\n"
     ]
    },
    {
     "name": "stderr",
     "output_type": "stream",
     "text": [
      "C:\\Users\\mudiv\\AppData\\Local\\Temp\\ipykernel_11800\\1192419693.py:9: DtypeWarning: Columns (13) have mixed types. Specify dtype option on import or set low_memory=False.\n",
      "  data = pd.read_csv(file_path, skiprows=11)  # Adjust skiprows as needed\n"
     ]
    },
    {
     "name": "stdout",
     "output_type": "stream",
     "text": [
      "Genomap saved: genomaps\\ADNI3_FinalReport6880_genomap.png\n",
      "Processing file: ADNI3_FinalReport6883.csv\n"
     ]
    },
    {
     "name": "stderr",
     "output_type": "stream",
     "text": [
      "C:\\Users\\mudiv\\AppData\\Local\\Temp\\ipykernel_11800\\1192419693.py:9: DtypeWarning: Columns (13) have mixed types. Specify dtype option on import or set low_memory=False.\n",
      "  data = pd.read_csv(file_path, skiprows=11)  # Adjust skiprows as needed\n"
     ]
    },
    {
     "name": "stdout",
     "output_type": "stream",
     "text": [
      "Genomap saved: genomaps\\ADNI3_FinalReport6883_genomap.png\n",
      "Processing file: ADNI3_FinalReport6884.csv\n"
     ]
    },
    {
     "name": "stderr",
     "output_type": "stream",
     "text": [
      "C:\\Users\\mudiv\\AppData\\Local\\Temp\\ipykernel_11800\\1192419693.py:9: DtypeWarning: Columns (13) have mixed types. Specify dtype option on import or set low_memory=False.\n",
      "  data = pd.read_csv(file_path, skiprows=11)  # Adjust skiprows as needed\n"
     ]
    },
    {
     "name": "stdout",
     "output_type": "stream",
     "text": [
      "Genomap saved: genomaps\\ADNI3_FinalReport6884_genomap.png\n",
      "Processing file: ADNI3_FinalReport6885.csv\n"
     ]
    },
    {
     "name": "stderr",
     "output_type": "stream",
     "text": [
      "C:\\Users\\mudiv\\AppData\\Local\\Temp\\ipykernel_11800\\1192419693.py:9: DtypeWarning: Columns (13) have mixed types. Specify dtype option on import or set low_memory=False.\n",
      "  data = pd.read_csv(file_path, skiprows=11)  # Adjust skiprows as needed\n"
     ]
    },
    {
     "name": "stdout",
     "output_type": "stream",
     "text": [
      "Genomap saved: genomaps\\ADNI3_FinalReport6885_genomap.png\n",
      "Processing file: ADNI3_FinalReport6886.csv\n"
     ]
    },
    {
     "name": "stderr",
     "output_type": "stream",
     "text": [
      "C:\\Users\\mudiv\\AppData\\Local\\Temp\\ipykernel_11800\\1192419693.py:9: DtypeWarning: Columns (13) have mixed types. Specify dtype option on import or set low_memory=False.\n",
      "  data = pd.read_csv(file_path, skiprows=11)  # Adjust skiprows as needed\n"
     ]
    },
    {
     "name": "stdout",
     "output_type": "stream",
     "text": [
      "Genomap saved: genomaps\\ADNI3_FinalReport6886_genomap.png\n",
      "Processing file: ADNI3_FinalReport6887.csv\n"
     ]
    },
    {
     "name": "stderr",
     "output_type": "stream",
     "text": [
      "C:\\Users\\mudiv\\AppData\\Local\\Temp\\ipykernel_11800\\1192419693.py:9: DtypeWarning: Columns (13) have mixed types. Specify dtype option on import or set low_memory=False.\n",
      "  data = pd.read_csv(file_path, skiprows=11)  # Adjust skiprows as needed\n"
     ]
    },
    {
     "name": "stdout",
     "output_type": "stream",
     "text": [
      "Genomap saved: genomaps\\ADNI3_FinalReport6887_genomap.png\n",
      "Processing file: ADNI3_FinalReport6888.csv\n"
     ]
    },
    {
     "name": "stderr",
     "output_type": "stream",
     "text": [
      "C:\\Users\\mudiv\\AppData\\Local\\Temp\\ipykernel_11800\\1192419693.py:9: DtypeWarning: Columns (13) have mixed types. Specify dtype option on import or set low_memory=False.\n",
      "  data = pd.read_csv(file_path, skiprows=11)  # Adjust skiprows as needed\n"
     ]
    },
    {
     "name": "stdout",
     "output_type": "stream",
     "text": [
      "Genomap saved: genomaps\\ADNI3_FinalReport6888_genomap.png\n",
      "Processing file: ADNI3_FinalReport6889.csv\n"
     ]
    },
    {
     "name": "stderr",
     "output_type": "stream",
     "text": [
      "C:\\Users\\mudiv\\AppData\\Local\\Temp\\ipykernel_11800\\1192419693.py:9: DtypeWarning: Columns (13) have mixed types. Specify dtype option on import or set low_memory=False.\n",
      "  data = pd.read_csv(file_path, skiprows=11)  # Adjust skiprows as needed\n"
     ]
    },
    {
     "name": "stdout",
     "output_type": "stream",
     "text": [
      "Genomap saved: genomaps\\ADNI3_FinalReport6889_genomap.png\n",
      "Processing file: ADNI3_FinalReport6890.csv\n"
     ]
    },
    {
     "name": "stderr",
     "output_type": "stream",
     "text": [
      "C:\\Users\\mudiv\\AppData\\Local\\Temp\\ipykernel_11800\\1192419693.py:9: DtypeWarning: Columns (13) have mixed types. Specify dtype option on import or set low_memory=False.\n",
      "  data = pd.read_csv(file_path, skiprows=11)  # Adjust skiprows as needed\n"
     ]
    },
    {
     "name": "stdout",
     "output_type": "stream",
     "text": [
      "Genomap saved: genomaps\\ADNI3_FinalReport6890_genomap.png\n",
      "Processing file: ADNI3_FinalReport6891.csv\n"
     ]
    },
    {
     "name": "stderr",
     "output_type": "stream",
     "text": [
      "C:\\Users\\mudiv\\AppData\\Local\\Temp\\ipykernel_11800\\1192419693.py:9: DtypeWarning: Columns (13) have mixed types. Specify dtype option on import or set low_memory=False.\n",
      "  data = pd.read_csv(file_path, skiprows=11)  # Adjust skiprows as needed\n"
     ]
    },
    {
     "name": "stdout",
     "output_type": "stream",
     "text": [
      "Genomap saved: genomaps\\ADNI3_FinalReport6891_genomap.png\n",
      "Processing file: ADNI3_FinalReport6894.csv\n"
     ]
    },
    {
     "name": "stderr",
     "output_type": "stream",
     "text": [
      "C:\\Users\\mudiv\\AppData\\Local\\Temp\\ipykernel_11800\\1192419693.py:9: DtypeWarning: Columns (13) have mixed types. Specify dtype option on import or set low_memory=False.\n",
      "  data = pd.read_csv(file_path, skiprows=11)  # Adjust skiprows as needed\n"
     ]
    },
    {
     "name": "stdout",
     "output_type": "stream",
     "text": [
      "Genomap saved: genomaps\\ADNI3_FinalReport6894_genomap.png\n",
      "Processing file: ADNI3_FinalReport6896.csv\n"
     ]
    },
    {
     "name": "stderr",
     "output_type": "stream",
     "text": [
      "C:\\Users\\mudiv\\AppData\\Local\\Temp\\ipykernel_11800\\1192419693.py:9: DtypeWarning: Columns (13) have mixed types. Specify dtype option on import or set low_memory=False.\n",
      "  data = pd.read_csv(file_path, skiprows=11)  # Adjust skiprows as needed\n"
     ]
    },
    {
     "name": "stdout",
     "output_type": "stream",
     "text": [
      "Genomap saved: genomaps\\ADNI3_FinalReport6896_genomap.png\n",
      "Processing file: ADNI3_FinalReport6897.csv\n"
     ]
    },
    {
     "name": "stderr",
     "output_type": "stream",
     "text": [
      "C:\\Users\\mudiv\\AppData\\Local\\Temp\\ipykernel_11800\\1192419693.py:9: DtypeWarning: Columns (13) have mixed types. Specify dtype option on import or set low_memory=False.\n",
      "  data = pd.read_csv(file_path, skiprows=11)  # Adjust skiprows as needed\n"
     ]
    },
    {
     "name": "stdout",
     "output_type": "stream",
     "text": [
      "Genomap saved: genomaps\\ADNI3_FinalReport6897_genomap.png\n",
      "Processing file: ADNI3_FinalReport6899.csv\n"
     ]
    },
    {
     "name": "stderr",
     "output_type": "stream",
     "text": [
      "C:\\Users\\mudiv\\AppData\\Local\\Temp\\ipykernel_11800\\1192419693.py:9: DtypeWarning: Columns (13) have mixed types. Specify dtype option on import or set low_memory=False.\n",
      "  data = pd.read_csv(file_path, skiprows=11)  # Adjust skiprows as needed\n"
     ]
    },
    {
     "name": "stdout",
     "output_type": "stream",
     "text": [
      "Genomap saved: genomaps\\ADNI3_FinalReport6899_genomap.png\n",
      "Processing file: ADNI3_FinalReport6901.csv\n"
     ]
    },
    {
     "name": "stderr",
     "output_type": "stream",
     "text": [
      "C:\\Users\\mudiv\\AppData\\Local\\Temp\\ipykernel_11800\\1192419693.py:9: DtypeWarning: Columns (13) have mixed types. Specify dtype option on import or set low_memory=False.\n",
      "  data = pd.read_csv(file_path, skiprows=11)  # Adjust skiprows as needed\n"
     ]
    },
    {
     "name": "stdout",
     "output_type": "stream",
     "text": [
      "Genomap saved: genomaps\\ADNI3_FinalReport6901_genomap.png\n",
      "Processing file: ADNI3_FinalReport6903.csv\n"
     ]
    },
    {
     "name": "stderr",
     "output_type": "stream",
     "text": [
      "C:\\Users\\mudiv\\AppData\\Local\\Temp\\ipykernel_11800\\1192419693.py:9: DtypeWarning: Columns (13) have mixed types. Specify dtype option on import or set low_memory=False.\n",
      "  data = pd.read_csv(file_path, skiprows=11)  # Adjust skiprows as needed\n"
     ]
    },
    {
     "name": "stdout",
     "output_type": "stream",
     "text": [
      "Genomap saved: genomaps\\ADNI3_FinalReport6903_genomap.png\n",
      "Processing file: ADNI3_FinalReport6906.csv\n"
     ]
    },
    {
     "name": "stderr",
     "output_type": "stream",
     "text": [
      "C:\\Users\\mudiv\\AppData\\Local\\Temp\\ipykernel_11800\\1192419693.py:9: DtypeWarning: Columns (13) have mixed types. Specify dtype option on import or set low_memory=False.\n",
      "  data = pd.read_csv(file_path, skiprows=11)  # Adjust skiprows as needed\n"
     ]
    },
    {
     "name": "stdout",
     "output_type": "stream",
     "text": [
      "Genomap saved: genomaps\\ADNI3_FinalReport6906_genomap.png\n",
      "Processing file: ADNI3_FinalReport6907.csv\n"
     ]
    },
    {
     "name": "stderr",
     "output_type": "stream",
     "text": [
      "C:\\Users\\mudiv\\AppData\\Local\\Temp\\ipykernel_11800\\1192419693.py:9: DtypeWarning: Columns (13) have mixed types. Specify dtype option on import or set low_memory=False.\n",
      "  data = pd.read_csv(file_path, skiprows=11)  # Adjust skiprows as needed\n"
     ]
    },
    {
     "name": "stdout",
     "output_type": "stream",
     "text": [
      "Genomap saved: genomaps\\ADNI3_FinalReport6907_genomap.png\n",
      "Processing file: ADNI3_FinalReport6908.csv\n"
     ]
    },
    {
     "name": "stderr",
     "output_type": "stream",
     "text": [
      "C:\\Users\\mudiv\\AppData\\Local\\Temp\\ipykernel_11800\\1192419693.py:9: DtypeWarning: Columns (13) have mixed types. Specify dtype option on import or set low_memory=False.\n",
      "  data = pd.read_csv(file_path, skiprows=11)  # Adjust skiprows as needed\n"
     ]
    },
    {
     "name": "stdout",
     "output_type": "stream",
     "text": [
      "Genomap saved: genomaps\\ADNI3_FinalReport6908_genomap.png\n",
      "Processing file: ADNI3_FinalReport6910.csv\n"
     ]
    },
    {
     "name": "stderr",
     "output_type": "stream",
     "text": [
      "C:\\Users\\mudiv\\AppData\\Local\\Temp\\ipykernel_11800\\1192419693.py:9: DtypeWarning: Columns (13) have mixed types. Specify dtype option on import or set low_memory=False.\n",
      "  data = pd.read_csv(file_path, skiprows=11)  # Adjust skiprows as needed\n"
     ]
    },
    {
     "name": "stdout",
     "output_type": "stream",
     "text": [
      "Genomap saved: genomaps\\ADNI3_FinalReport6910_genomap.png\n",
      "Processing file: ADNI3_FinalReport6911.csv\n"
     ]
    },
    {
     "name": "stderr",
     "output_type": "stream",
     "text": [
      "C:\\Users\\mudiv\\AppData\\Local\\Temp\\ipykernel_11800\\1192419693.py:9: DtypeWarning: Columns (13) have mixed types. Specify dtype option on import or set low_memory=False.\n",
      "  data = pd.read_csv(file_path, skiprows=11)  # Adjust skiprows as needed\n"
     ]
    },
    {
     "name": "stdout",
     "output_type": "stream",
     "text": [
      "Genomap saved: genomaps\\ADNI3_FinalReport6911_genomap.png\n",
      "Processing file: ADNI3_FinalReport6912.csv\n"
     ]
    },
    {
     "name": "stderr",
     "output_type": "stream",
     "text": [
      "C:\\Users\\mudiv\\AppData\\Local\\Temp\\ipykernel_11800\\1192419693.py:9: DtypeWarning: Columns (13) have mixed types. Specify dtype option on import or set low_memory=False.\n",
      "  data = pd.read_csv(file_path, skiprows=11)  # Adjust skiprows as needed\n"
     ]
    },
    {
     "name": "stdout",
     "output_type": "stream",
     "text": [
      "Genomap saved: genomaps\\ADNI3_FinalReport6912_genomap.png\n",
      "Processing file: ADNI3_FinalReport6914.csv\n"
     ]
    },
    {
     "name": "stderr",
     "output_type": "stream",
     "text": [
      "C:\\Users\\mudiv\\AppData\\Local\\Temp\\ipykernel_11800\\1192419693.py:9: DtypeWarning: Columns (13) have mixed types. Specify dtype option on import or set low_memory=False.\n",
      "  data = pd.read_csv(file_path, skiprows=11)  # Adjust skiprows as needed\n"
     ]
    },
    {
     "name": "stdout",
     "output_type": "stream",
     "text": [
      "Genomap saved: genomaps\\ADNI3_FinalReport6914_genomap.png\n",
      "Processing file: ADNI3_FinalReport6915.csv\n"
     ]
    },
    {
     "name": "stderr",
     "output_type": "stream",
     "text": [
      "C:\\Users\\mudiv\\AppData\\Local\\Temp\\ipykernel_11800\\1192419693.py:9: DtypeWarning: Columns (13) have mixed types. Specify dtype option on import or set low_memory=False.\n",
      "  data = pd.read_csv(file_path, skiprows=11)  # Adjust skiprows as needed\n"
     ]
    },
    {
     "name": "stdout",
     "output_type": "stream",
     "text": [
      "Genomap saved: genomaps\\ADNI3_FinalReport6915_genomap.png\n",
      "Processing file: ADNI3_FinalReport6916.csv\n"
     ]
    },
    {
     "name": "stderr",
     "output_type": "stream",
     "text": [
      "C:\\Users\\mudiv\\AppData\\Local\\Temp\\ipykernel_11800\\1192419693.py:9: DtypeWarning: Columns (13) have mixed types. Specify dtype option on import or set low_memory=False.\n",
      "  data = pd.read_csv(file_path, skiprows=11)  # Adjust skiprows as needed\n"
     ]
    },
    {
     "name": "stdout",
     "output_type": "stream",
     "text": [
      "Genomap saved: genomaps\\ADNI3_FinalReport6916_genomap.png\n",
      "Processing file: ADNI3_FinalReport6917.csv\n"
     ]
    },
    {
     "name": "stderr",
     "output_type": "stream",
     "text": [
      "C:\\Users\\mudiv\\AppData\\Local\\Temp\\ipykernel_11800\\1192419693.py:9: DtypeWarning: Columns (13) have mixed types. Specify dtype option on import or set low_memory=False.\n",
      "  data = pd.read_csv(file_path, skiprows=11)  # Adjust skiprows as needed\n"
     ]
    },
    {
     "name": "stdout",
     "output_type": "stream",
     "text": [
      "Genomap saved: genomaps\\ADNI3_FinalReport6917_genomap.png\n",
      "Processing file: ADNI3_FinalReport6918.csv\n"
     ]
    },
    {
     "name": "stderr",
     "output_type": "stream",
     "text": [
      "C:\\Users\\mudiv\\AppData\\Local\\Temp\\ipykernel_11800\\1192419693.py:9: DtypeWarning: Columns (13) have mixed types. Specify dtype option on import or set low_memory=False.\n",
      "  data = pd.read_csv(file_path, skiprows=11)  # Adjust skiprows as needed\n"
     ]
    },
    {
     "name": "stdout",
     "output_type": "stream",
     "text": [
      "Genomap saved: genomaps\\ADNI3_FinalReport6918_genomap.png\n",
      "Processing file: ADNI3_FinalReport6919.csv\n"
     ]
    },
    {
     "name": "stderr",
     "output_type": "stream",
     "text": [
      "C:\\Users\\mudiv\\AppData\\Local\\Temp\\ipykernel_11800\\1192419693.py:9: DtypeWarning: Columns (13) have mixed types. Specify dtype option on import or set low_memory=False.\n",
      "  data = pd.read_csv(file_path, skiprows=11)  # Adjust skiprows as needed\n"
     ]
    },
    {
     "name": "stdout",
     "output_type": "stream",
     "text": [
      "Genomap saved: genomaps\\ADNI3_FinalReport6919_genomap.png\n",
      "Processing file: ADNI3_FinalReport6920.csv\n"
     ]
    },
    {
     "name": "stderr",
     "output_type": "stream",
     "text": [
      "C:\\Users\\mudiv\\AppData\\Local\\Temp\\ipykernel_11800\\1192419693.py:9: DtypeWarning: Columns (13) have mixed types. Specify dtype option on import or set low_memory=False.\n",
      "  data = pd.read_csv(file_path, skiprows=11)  # Adjust skiprows as needed\n"
     ]
    },
    {
     "name": "stdout",
     "output_type": "stream",
     "text": [
      "Genomap saved: genomaps\\ADNI3_FinalReport6920_genomap.png\n",
      "Processing file: ADNI3_FinalReport6921.csv\n"
     ]
    },
    {
     "name": "stderr",
     "output_type": "stream",
     "text": [
      "C:\\Users\\mudiv\\AppData\\Local\\Temp\\ipykernel_11800\\1192419693.py:9: DtypeWarning: Columns (13) have mixed types. Specify dtype option on import or set low_memory=False.\n",
      "  data = pd.read_csv(file_path, skiprows=11)  # Adjust skiprows as needed\n"
     ]
    },
    {
     "name": "stdout",
     "output_type": "stream",
     "text": [
      "Genomap saved: genomaps\\ADNI3_FinalReport6921_genomap.png\n",
      "Processing file: ADNI3_FinalReport6924.csv\n"
     ]
    },
    {
     "name": "stderr",
     "output_type": "stream",
     "text": [
      "C:\\Users\\mudiv\\AppData\\Local\\Temp\\ipykernel_11800\\1192419693.py:9: DtypeWarning: Columns (13) have mixed types. Specify dtype option on import or set low_memory=False.\n",
      "  data = pd.read_csv(file_path, skiprows=11)  # Adjust skiprows as needed\n"
     ]
    },
    {
     "name": "stdout",
     "output_type": "stream",
     "text": [
      "Genomap saved: genomaps\\ADNI3_FinalReport6924_genomap.png\n",
      "Processing file: ADNI3_FinalReport6925.csv\n"
     ]
    },
    {
     "name": "stderr",
     "output_type": "stream",
     "text": [
      "C:\\Users\\mudiv\\AppData\\Local\\Temp\\ipykernel_11800\\1192419693.py:9: DtypeWarning: Columns (13) have mixed types. Specify dtype option on import or set low_memory=False.\n",
      "  data = pd.read_csv(file_path, skiprows=11)  # Adjust skiprows as needed\n"
     ]
    },
    {
     "name": "stdout",
     "output_type": "stream",
     "text": [
      "Genomap saved: genomaps\\ADNI3_FinalReport6925_genomap.png\n",
      "Processing file: ADNI3_FinalReport6926.csv\n"
     ]
    },
    {
     "name": "stderr",
     "output_type": "stream",
     "text": [
      "C:\\Users\\mudiv\\AppData\\Local\\Temp\\ipykernel_11800\\1192419693.py:9: DtypeWarning: Columns (13) have mixed types. Specify dtype option on import or set low_memory=False.\n",
      "  data = pd.read_csv(file_path, skiprows=11)  # Adjust skiprows as needed\n"
     ]
    },
    {
     "name": "stdout",
     "output_type": "stream",
     "text": [
      "Genomap saved: genomaps\\ADNI3_FinalReport6926_genomap.png\n",
      "Processing file: ADNI3_FinalReport6927.csv\n"
     ]
    },
    {
     "name": "stderr",
     "output_type": "stream",
     "text": [
      "C:\\Users\\mudiv\\AppData\\Local\\Temp\\ipykernel_11800\\1192419693.py:9: DtypeWarning: Columns (13) have mixed types. Specify dtype option on import or set low_memory=False.\n",
      "  data = pd.read_csv(file_path, skiprows=11)  # Adjust skiprows as needed\n"
     ]
    },
    {
     "name": "stdout",
     "output_type": "stream",
     "text": [
      "Genomap saved: genomaps\\ADNI3_FinalReport6927_genomap.png\n",
      "Processing file: ADNI3_FinalReport6929.csv\n"
     ]
    },
    {
     "name": "stderr",
     "output_type": "stream",
     "text": [
      "C:\\Users\\mudiv\\AppData\\Local\\Temp\\ipykernel_11800\\1192419693.py:9: DtypeWarning: Columns (13) have mixed types. Specify dtype option on import or set low_memory=False.\n",
      "  data = pd.read_csv(file_path, skiprows=11)  # Adjust skiprows as needed\n"
     ]
    },
    {
     "name": "stdout",
     "output_type": "stream",
     "text": [
      "Genomap saved: genomaps\\ADNI3_FinalReport6929_genomap.png\n",
      "Processing file: ADNI3_FinalReport6931.csv\n"
     ]
    },
    {
     "name": "stderr",
     "output_type": "stream",
     "text": [
      "C:\\Users\\mudiv\\AppData\\Local\\Temp\\ipykernel_11800\\1192419693.py:9: DtypeWarning: Columns (13) have mixed types. Specify dtype option on import or set low_memory=False.\n",
      "  data = pd.read_csv(file_path, skiprows=11)  # Adjust skiprows as needed\n"
     ]
    },
    {
     "name": "stdout",
     "output_type": "stream",
     "text": [
      "Genomap saved: genomaps\\ADNI3_FinalReport6931_genomap.png\n",
      "Processing file: ADNI3_FinalReport6934.csv\n"
     ]
    },
    {
     "name": "stderr",
     "output_type": "stream",
     "text": [
      "C:\\Users\\mudiv\\AppData\\Local\\Temp\\ipykernel_11800\\1192419693.py:9: DtypeWarning: Columns (13) have mixed types. Specify dtype option on import or set low_memory=False.\n",
      "  data = pd.read_csv(file_path, skiprows=11)  # Adjust skiprows as needed\n"
     ]
    },
    {
     "name": "stdout",
     "output_type": "stream",
     "text": [
      "Genomap saved: genomaps\\ADNI3_FinalReport6934_genomap.png\n",
      "Processing file: ADNI3_FinalReport6935.csv\n"
     ]
    },
    {
     "name": "stderr",
     "output_type": "stream",
     "text": [
      "C:\\Users\\mudiv\\AppData\\Local\\Temp\\ipykernel_11800\\1192419693.py:9: DtypeWarning: Columns (13) have mixed types. Specify dtype option on import or set low_memory=False.\n",
      "  data = pd.read_csv(file_path, skiprows=11)  # Adjust skiprows as needed\n"
     ]
    },
    {
     "name": "stdout",
     "output_type": "stream",
     "text": [
      "Genomap saved: genomaps\\ADNI3_FinalReport6935_genomap.png\n",
      "Processing file: ADNI3_FinalReport6939.csv\n"
     ]
    },
    {
     "name": "stderr",
     "output_type": "stream",
     "text": [
      "C:\\Users\\mudiv\\AppData\\Local\\Temp\\ipykernel_11800\\1192419693.py:9: DtypeWarning: Columns (13) have mixed types. Specify dtype option on import or set low_memory=False.\n",
      "  data = pd.read_csv(file_path, skiprows=11)  # Adjust skiprows as needed\n"
     ]
    },
    {
     "name": "stdout",
     "output_type": "stream",
     "text": [
      "Genomap saved: genomaps\\ADNI3_FinalReport6939_genomap.png\n",
      "Processing file: ADNI3_FinalReport6940.csv\n"
     ]
    },
    {
     "name": "stderr",
     "output_type": "stream",
     "text": [
      "C:\\Users\\mudiv\\AppData\\Local\\Temp\\ipykernel_11800\\1192419693.py:9: DtypeWarning: Columns (13) have mixed types. Specify dtype option on import or set low_memory=False.\n",
      "  data = pd.read_csv(file_path, skiprows=11)  # Adjust skiprows as needed\n"
     ]
    },
    {
     "name": "stdout",
     "output_type": "stream",
     "text": [
      "Genomap saved: genomaps\\ADNI3_FinalReport6940_genomap.png\n",
      "Processing file: ADNI3_FinalReport6941.csv\n"
     ]
    },
    {
     "name": "stderr",
     "output_type": "stream",
     "text": [
      "C:\\Users\\mudiv\\AppData\\Local\\Temp\\ipykernel_11800\\1192419693.py:9: DtypeWarning: Columns (13) have mixed types. Specify dtype option on import or set low_memory=False.\n",
      "  data = pd.read_csv(file_path, skiprows=11)  # Adjust skiprows as needed\n"
     ]
    },
    {
     "name": "stdout",
     "output_type": "stream",
     "text": [
      "Genomap saved: genomaps\\ADNI3_FinalReport6941_genomap.png\n",
      "Processing file: ADNI3_FinalReport6942.csv\n"
     ]
    },
    {
     "name": "stderr",
     "output_type": "stream",
     "text": [
      "C:\\Users\\mudiv\\AppData\\Local\\Temp\\ipykernel_11800\\1192419693.py:9: DtypeWarning: Columns (13) have mixed types. Specify dtype option on import or set low_memory=False.\n",
      "  data = pd.read_csv(file_path, skiprows=11)  # Adjust skiprows as needed\n"
     ]
    },
    {
     "name": "stdout",
     "output_type": "stream",
     "text": [
      "Genomap saved: genomaps\\ADNI3_FinalReport6942_genomap.png\n",
      "Processing file: ADNI3_FinalReport6943.csv\n"
     ]
    },
    {
     "name": "stderr",
     "output_type": "stream",
     "text": [
      "C:\\Users\\mudiv\\AppData\\Local\\Temp\\ipykernel_11800\\1192419693.py:9: DtypeWarning: Columns (13) have mixed types. Specify dtype option on import or set low_memory=False.\n",
      "  data = pd.read_csv(file_path, skiprows=11)  # Adjust skiprows as needed\n"
     ]
    },
    {
     "name": "stdout",
     "output_type": "stream",
     "text": [
      "Genomap saved: genomaps\\ADNI3_FinalReport6943_genomap.png\n",
      "Processing file: ADNI3_FinalReport6944.csv\n"
     ]
    },
    {
     "name": "stderr",
     "output_type": "stream",
     "text": [
      "C:\\Users\\mudiv\\AppData\\Local\\Temp\\ipykernel_11800\\1192419693.py:9: DtypeWarning: Columns (13) have mixed types. Specify dtype option on import or set low_memory=False.\n",
      "  data = pd.read_csv(file_path, skiprows=11)  # Adjust skiprows as needed\n"
     ]
    },
    {
     "name": "stdout",
     "output_type": "stream",
     "text": [
      "Genomap saved: genomaps\\ADNI3_FinalReport6944_genomap.png\n",
      "Processing file: ADNI3_FinalReport6947.csv\n"
     ]
    },
    {
     "name": "stderr",
     "output_type": "stream",
     "text": [
      "C:\\Users\\mudiv\\AppData\\Local\\Temp\\ipykernel_11800\\1192419693.py:9: DtypeWarning: Columns (13) have mixed types. Specify dtype option on import or set low_memory=False.\n",
      "  data = pd.read_csv(file_path, skiprows=11)  # Adjust skiprows as needed\n"
     ]
    },
    {
     "name": "stdout",
     "output_type": "stream",
     "text": [
      "Genomap saved: genomaps\\ADNI3_FinalReport6947_genomap.png\n",
      "Processing file: ADNI3_FinalReport6948.csv\n"
     ]
    },
    {
     "name": "stderr",
     "output_type": "stream",
     "text": [
      "C:\\Users\\mudiv\\AppData\\Local\\Temp\\ipykernel_11800\\1192419693.py:9: DtypeWarning: Columns (13) have mixed types. Specify dtype option on import or set low_memory=False.\n",
      "  data = pd.read_csv(file_path, skiprows=11)  # Adjust skiprows as needed\n"
     ]
    },
    {
     "name": "stdout",
     "output_type": "stream",
     "text": [
      "Genomap saved: genomaps\\ADNI3_FinalReport6948_genomap.png\n",
      "Processing file: ADNI3_FinalReport6950.csv\n"
     ]
    },
    {
     "name": "stderr",
     "output_type": "stream",
     "text": [
      "C:\\Users\\mudiv\\AppData\\Local\\Temp\\ipykernel_11800\\1192419693.py:9: DtypeWarning: Columns (13) have mixed types. Specify dtype option on import or set low_memory=False.\n",
      "  data = pd.read_csv(file_path, skiprows=11)  # Adjust skiprows as needed\n"
     ]
    },
    {
     "name": "stdout",
     "output_type": "stream",
     "text": [
      "Genomap saved: genomaps\\ADNI3_FinalReport6950_genomap.png\n",
      "Processing file: ADNI3_FinalReport6951.csv\n"
     ]
    },
    {
     "name": "stderr",
     "output_type": "stream",
     "text": [
      "C:\\Users\\mudiv\\AppData\\Local\\Temp\\ipykernel_11800\\1192419693.py:9: DtypeWarning: Columns (13) have mixed types. Specify dtype option on import or set low_memory=False.\n",
      "  data = pd.read_csv(file_path, skiprows=11)  # Adjust skiprows as needed\n"
     ]
    },
    {
     "name": "stdout",
     "output_type": "stream",
     "text": [
      "Genomap saved: genomaps\\ADNI3_FinalReport6951_genomap.png\n",
      "Processing file: ADNI3_FinalReport6952.csv\n"
     ]
    },
    {
     "name": "stderr",
     "output_type": "stream",
     "text": [
      "C:\\Users\\mudiv\\AppData\\Local\\Temp\\ipykernel_11800\\1192419693.py:9: DtypeWarning: Columns (13) have mixed types. Specify dtype option on import or set low_memory=False.\n",
      "  data = pd.read_csv(file_path, skiprows=11)  # Adjust skiprows as needed\n"
     ]
    },
    {
     "name": "stdout",
     "output_type": "stream",
     "text": [
      "Genomap saved: genomaps\\ADNI3_FinalReport6952_genomap.png\n",
      "Processing file: ADNI3_FinalReport6954.csv\n"
     ]
    },
    {
     "name": "stderr",
     "output_type": "stream",
     "text": [
      "C:\\Users\\mudiv\\AppData\\Local\\Temp\\ipykernel_11800\\1192419693.py:9: DtypeWarning: Columns (13) have mixed types. Specify dtype option on import or set low_memory=False.\n",
      "  data = pd.read_csv(file_path, skiprows=11)  # Adjust skiprows as needed\n"
     ]
    },
    {
     "name": "stdout",
     "output_type": "stream",
     "text": [
      "Genomap saved: genomaps\\ADNI3_FinalReport6954_genomap.png\n",
      "Processing file: ADNI3_FinalReport6956.csv\n"
     ]
    },
    {
     "name": "stderr",
     "output_type": "stream",
     "text": [
      "C:\\Users\\mudiv\\AppData\\Local\\Temp\\ipykernel_11800\\1192419693.py:9: DtypeWarning: Columns (13) have mixed types. Specify dtype option on import or set low_memory=False.\n",
      "  data = pd.read_csv(file_path, skiprows=11)  # Adjust skiprows as needed\n"
     ]
    },
    {
     "name": "stdout",
     "output_type": "stream",
     "text": [
      "Genomap saved: genomaps\\ADNI3_FinalReport6956_genomap.png\n",
      "Processing file: ADNI3_FinalReport6957.csv\n"
     ]
    },
    {
     "name": "stderr",
     "output_type": "stream",
     "text": [
      "C:\\Users\\mudiv\\AppData\\Local\\Temp\\ipykernel_11800\\1192419693.py:9: DtypeWarning: Columns (13) have mixed types. Specify dtype option on import or set low_memory=False.\n",
      "  data = pd.read_csv(file_path, skiprows=11)  # Adjust skiprows as needed\n"
     ]
    },
    {
     "name": "stdout",
     "output_type": "stream",
     "text": [
      "Genomap saved: genomaps\\ADNI3_FinalReport6957_genomap.png\n",
      "Processing file: ADNI3_FinalReport6958.csv\n"
     ]
    },
    {
     "name": "stderr",
     "output_type": "stream",
     "text": [
      "C:\\Users\\mudiv\\AppData\\Local\\Temp\\ipykernel_11800\\1192419693.py:9: DtypeWarning: Columns (13) have mixed types. Specify dtype option on import or set low_memory=False.\n",
      "  data = pd.read_csv(file_path, skiprows=11)  # Adjust skiprows as needed\n"
     ]
    },
    {
     "name": "stdout",
     "output_type": "stream",
     "text": [
      "Genomap saved: genomaps\\ADNI3_FinalReport6958_genomap.png\n",
      "Processing file: ADNI3_FinalReport6959.csv\n"
     ]
    },
    {
     "name": "stderr",
     "output_type": "stream",
     "text": [
      "C:\\Users\\mudiv\\AppData\\Local\\Temp\\ipykernel_11800\\1192419693.py:9: DtypeWarning: Columns (13) have mixed types. Specify dtype option on import or set low_memory=False.\n",
      "  data = pd.read_csv(file_path, skiprows=11)  # Adjust skiprows as needed\n"
     ]
    },
    {
     "name": "stdout",
     "output_type": "stream",
     "text": [
      "Genomap saved: genomaps\\ADNI3_FinalReport6959_genomap.png\n",
      "Processing file: ADNI3_FinalReport6960.csv\n"
     ]
    },
    {
     "name": "stderr",
     "output_type": "stream",
     "text": [
      "C:\\Users\\mudiv\\AppData\\Local\\Temp\\ipykernel_11800\\1192419693.py:9: DtypeWarning: Columns (13) have mixed types. Specify dtype option on import or set low_memory=False.\n",
      "  data = pd.read_csv(file_path, skiprows=11)  # Adjust skiprows as needed\n"
     ]
    },
    {
     "name": "stdout",
     "output_type": "stream",
     "text": [
      "Genomap saved: genomaps\\ADNI3_FinalReport6960_genomap.png\n",
      "Processing file: ADNI3_FinalReport6961.csv\n"
     ]
    },
    {
     "name": "stderr",
     "output_type": "stream",
     "text": [
      "C:\\Users\\mudiv\\AppData\\Local\\Temp\\ipykernel_11800\\1192419693.py:9: DtypeWarning: Columns (13) have mixed types. Specify dtype option on import or set low_memory=False.\n",
      "  data = pd.read_csv(file_path, skiprows=11)  # Adjust skiprows as needed\n"
     ]
    },
    {
     "name": "stdout",
     "output_type": "stream",
     "text": [
      "Genomap saved: genomaps\\ADNI3_FinalReport6961_genomap.png\n",
      "Processing file: ADNI3_FinalReport6962.csv\n"
     ]
    },
    {
     "name": "stderr",
     "output_type": "stream",
     "text": [
      "C:\\Users\\mudiv\\AppData\\Local\\Temp\\ipykernel_11800\\1192419693.py:9: DtypeWarning: Columns (13) have mixed types. Specify dtype option on import or set low_memory=False.\n",
      "  data = pd.read_csv(file_path, skiprows=11)  # Adjust skiprows as needed\n"
     ]
    },
    {
     "name": "stdout",
     "output_type": "stream",
     "text": [
      "Genomap saved: genomaps\\ADNI3_FinalReport6962_genomap.png\n",
      "Processing file: ADNI3_FinalReport6963.csv\n"
     ]
    },
    {
     "name": "stderr",
     "output_type": "stream",
     "text": [
      "C:\\Users\\mudiv\\AppData\\Local\\Temp\\ipykernel_11800\\1192419693.py:9: DtypeWarning: Columns (13) have mixed types. Specify dtype option on import or set low_memory=False.\n",
      "  data = pd.read_csv(file_path, skiprows=11)  # Adjust skiprows as needed\n"
     ]
    },
    {
     "name": "stdout",
     "output_type": "stream",
     "text": [
      "Genomap saved: genomaps\\ADNI3_FinalReport6963_genomap.png\n",
      "Processing file: ADNI3_FinalReport6964.csv\n"
     ]
    },
    {
     "name": "stderr",
     "output_type": "stream",
     "text": [
      "C:\\Users\\mudiv\\AppData\\Local\\Temp\\ipykernel_11800\\1192419693.py:9: DtypeWarning: Columns (13) have mixed types. Specify dtype option on import or set low_memory=False.\n",
      "  data = pd.read_csv(file_path, skiprows=11)  # Adjust skiprows as needed\n"
     ]
    },
    {
     "name": "stdout",
     "output_type": "stream",
     "text": [
      "Genomap saved: genomaps\\ADNI3_FinalReport6964_genomap.png\n",
      "Processing file: ADNI3_FinalReport6965.csv\n"
     ]
    },
    {
     "name": "stderr",
     "output_type": "stream",
     "text": [
      "C:\\Users\\mudiv\\AppData\\Local\\Temp\\ipykernel_11800\\1192419693.py:9: DtypeWarning: Columns (13) have mixed types. Specify dtype option on import or set low_memory=False.\n",
      "  data = pd.read_csv(file_path, skiprows=11)  # Adjust skiprows as needed\n"
     ]
    },
    {
     "name": "stdout",
     "output_type": "stream",
     "text": [
      "Genomap saved: genomaps\\ADNI3_FinalReport6965_genomap.png\n",
      "Processing file: ADNI3_FinalReport6966.csv\n"
     ]
    },
    {
     "name": "stderr",
     "output_type": "stream",
     "text": [
      "C:\\Users\\mudiv\\AppData\\Local\\Temp\\ipykernel_11800\\1192419693.py:9: DtypeWarning: Columns (13) have mixed types. Specify dtype option on import or set low_memory=False.\n",
      "  data = pd.read_csv(file_path, skiprows=11)  # Adjust skiprows as needed\n"
     ]
    },
    {
     "name": "stdout",
     "output_type": "stream",
     "text": [
      "Genomap saved: genomaps\\ADNI3_FinalReport6966_genomap.png\n",
      "Processing file: ADNI3_FinalReport6969.csv\n"
     ]
    },
    {
     "name": "stderr",
     "output_type": "stream",
     "text": [
      "C:\\Users\\mudiv\\AppData\\Local\\Temp\\ipykernel_11800\\1192419693.py:9: DtypeWarning: Columns (13) have mixed types. Specify dtype option on import or set low_memory=False.\n",
      "  data = pd.read_csv(file_path, skiprows=11)  # Adjust skiprows as needed\n"
     ]
    },
    {
     "name": "stdout",
     "output_type": "stream",
     "text": [
      "Genomap saved: genomaps\\ADNI3_FinalReport6969_genomap.png\n",
      "Processing file: ADNI3_FinalReport6970.csv\n"
     ]
    },
    {
     "name": "stderr",
     "output_type": "stream",
     "text": [
      "C:\\Users\\mudiv\\AppData\\Local\\Temp\\ipykernel_11800\\1192419693.py:9: DtypeWarning: Columns (13) have mixed types. Specify dtype option on import or set low_memory=False.\n",
      "  data = pd.read_csv(file_path, skiprows=11)  # Adjust skiprows as needed\n"
     ]
    },
    {
     "name": "stdout",
     "output_type": "stream",
     "text": [
      "Genomap saved: genomaps\\ADNI3_FinalReport6970_genomap.png\n",
      "Processing file: ADNI3_FinalReport6971.csv\n"
     ]
    },
    {
     "name": "stderr",
     "output_type": "stream",
     "text": [
      "C:\\Users\\mudiv\\AppData\\Local\\Temp\\ipykernel_11800\\1192419693.py:9: DtypeWarning: Columns (13) have mixed types. Specify dtype option on import or set low_memory=False.\n",
      "  data = pd.read_csv(file_path, skiprows=11)  # Adjust skiprows as needed\n"
     ]
    },
    {
     "name": "stdout",
     "output_type": "stream",
     "text": [
      "Genomap saved: genomaps\\ADNI3_FinalReport6971_genomap.png\n",
      "Processing file: ADNI3_FinalReport6974.csv\n"
     ]
    },
    {
     "name": "stderr",
     "output_type": "stream",
     "text": [
      "C:\\Users\\mudiv\\AppData\\Local\\Temp\\ipykernel_11800\\1192419693.py:9: DtypeWarning: Columns (13) have mixed types. Specify dtype option on import or set low_memory=False.\n",
      "  data = pd.read_csv(file_path, skiprows=11)  # Adjust skiprows as needed\n"
     ]
    },
    {
     "name": "stdout",
     "output_type": "stream",
     "text": [
      "Genomap saved: genomaps\\ADNI3_FinalReport6974_genomap.png\n",
      "Processing file: ADNI3_FinalReport6976.csv\n"
     ]
    },
    {
     "name": "stderr",
     "output_type": "stream",
     "text": [
      "C:\\Users\\mudiv\\AppData\\Local\\Temp\\ipykernel_11800\\1192419693.py:9: DtypeWarning: Columns (13) have mixed types. Specify dtype option on import or set low_memory=False.\n",
      "  data = pd.read_csv(file_path, skiprows=11)  # Adjust skiprows as needed\n"
     ]
    },
    {
     "name": "stdout",
     "output_type": "stream",
     "text": [
      "Genomap saved: genomaps\\ADNI3_FinalReport6976_genomap.png\n",
      "Processing file: ADNI3_FinalReport6977.csv\n"
     ]
    },
    {
     "name": "stderr",
     "output_type": "stream",
     "text": [
      "C:\\Users\\mudiv\\AppData\\Local\\Temp\\ipykernel_11800\\1192419693.py:9: DtypeWarning: Columns (13) have mixed types. Specify dtype option on import or set low_memory=False.\n",
      "  data = pd.read_csv(file_path, skiprows=11)  # Adjust skiprows as needed\n"
     ]
    },
    {
     "name": "stdout",
     "output_type": "stream",
     "text": [
      "Genomap saved: genomaps\\ADNI3_FinalReport6977_genomap.png\n",
      "Processing file: ADNI3_FinalReport6978.csv\n"
     ]
    },
    {
     "name": "stderr",
     "output_type": "stream",
     "text": [
      "C:\\Users\\mudiv\\AppData\\Local\\Temp\\ipykernel_11800\\1192419693.py:9: DtypeWarning: Columns (13) have mixed types. Specify dtype option on import or set low_memory=False.\n",
      "  data = pd.read_csv(file_path, skiprows=11)  # Adjust skiprows as needed\n"
     ]
    },
    {
     "name": "stdout",
     "output_type": "stream",
     "text": [
      "Genomap saved: genomaps\\ADNI3_FinalReport6978_genomap.png\n",
      "Processing file: ADNI3_FinalReport6981.csv\n"
     ]
    },
    {
     "name": "stderr",
     "output_type": "stream",
     "text": [
      "C:\\Users\\mudiv\\AppData\\Local\\Temp\\ipykernel_11800\\1192419693.py:9: DtypeWarning: Columns (13) have mixed types. Specify dtype option on import or set low_memory=False.\n",
      "  data = pd.read_csv(file_path, skiprows=11)  # Adjust skiprows as needed\n"
     ]
    },
    {
     "name": "stdout",
     "output_type": "stream",
     "text": [
      "Genomap saved: genomaps\\ADNI3_FinalReport6981_genomap.png\n",
      "Processing file: ADNI3_FinalReport6986.csv\n"
     ]
    },
    {
     "name": "stderr",
     "output_type": "stream",
     "text": [
      "C:\\Users\\mudiv\\AppData\\Local\\Temp\\ipykernel_11800\\1192419693.py:9: DtypeWarning: Columns (13) have mixed types. Specify dtype option on import or set low_memory=False.\n",
      "  data = pd.read_csv(file_path, skiprows=11)  # Adjust skiprows as needed\n"
     ]
    },
    {
     "name": "stdout",
     "output_type": "stream",
     "text": [
      "Genomap saved: genomaps\\ADNI3_FinalReport6986_genomap.png\n",
      "Processing file: ADNI3_FinalReport6987.csv\n"
     ]
    },
    {
     "name": "stderr",
     "output_type": "stream",
     "text": [
      "C:\\Users\\mudiv\\AppData\\Local\\Temp\\ipykernel_11800\\1192419693.py:9: DtypeWarning: Columns (13) have mixed types. Specify dtype option on import or set low_memory=False.\n",
      "  data = pd.read_csv(file_path, skiprows=11)  # Adjust skiprows as needed\n"
     ]
    },
    {
     "name": "stdout",
     "output_type": "stream",
     "text": [
      "Genomap saved: genomaps\\ADNI3_FinalReport6987_genomap.png\n",
      "Processing file: ADNI3_FinalReport6988.csv\n"
     ]
    },
    {
     "name": "stderr",
     "output_type": "stream",
     "text": [
      "C:\\Users\\mudiv\\AppData\\Local\\Temp\\ipykernel_11800\\1192419693.py:9: DtypeWarning: Columns (13) have mixed types. Specify dtype option on import or set low_memory=False.\n",
      "  data = pd.read_csv(file_path, skiprows=11)  # Adjust skiprows as needed\n"
     ]
    },
    {
     "name": "stdout",
     "output_type": "stream",
     "text": [
      "Genomap saved: genomaps\\ADNI3_FinalReport6988_genomap.png\n",
      "Processing file: ADNI3_FinalReport6989.csv\n"
     ]
    },
    {
     "name": "stderr",
     "output_type": "stream",
     "text": [
      "C:\\Users\\mudiv\\AppData\\Local\\Temp\\ipykernel_11800\\1192419693.py:9: DtypeWarning: Columns (13) have mixed types. Specify dtype option on import or set low_memory=False.\n",
      "  data = pd.read_csv(file_path, skiprows=11)  # Adjust skiprows as needed\n"
     ]
    },
    {
     "name": "stdout",
     "output_type": "stream",
     "text": [
      "Genomap saved: genomaps\\ADNI3_FinalReport6989_genomap.png\n",
      "Processing file: ADNI3_FinalReport6991.csv\n"
     ]
    },
    {
     "name": "stderr",
     "output_type": "stream",
     "text": [
      "C:\\Users\\mudiv\\AppData\\Local\\Temp\\ipykernel_11800\\1192419693.py:9: DtypeWarning: Columns (13) have mixed types. Specify dtype option on import or set low_memory=False.\n",
      "  data = pd.read_csv(file_path, skiprows=11)  # Adjust skiprows as needed\n"
     ]
    },
    {
     "name": "stdout",
     "output_type": "stream",
     "text": [
      "Genomap saved: genomaps\\ADNI3_FinalReport6991_genomap.png\n",
      "Processing file: ADNI3_FinalReport6992.csv\n"
     ]
    },
    {
     "name": "stderr",
     "output_type": "stream",
     "text": [
      "C:\\Users\\mudiv\\AppData\\Local\\Temp\\ipykernel_11800\\1192419693.py:9: DtypeWarning: Columns (13) have mixed types. Specify dtype option on import or set low_memory=False.\n",
      "  data = pd.read_csv(file_path, skiprows=11)  # Adjust skiprows as needed\n"
     ]
    },
    {
     "name": "stdout",
     "output_type": "stream",
     "text": [
      "Genomap saved: genomaps\\ADNI3_FinalReport6992_genomap.png\n",
      "Processing file: ADNI3_FinalReport6993.csv\n"
     ]
    },
    {
     "name": "stderr",
     "output_type": "stream",
     "text": [
      "C:\\Users\\mudiv\\AppData\\Local\\Temp\\ipykernel_11800\\1192419693.py:9: DtypeWarning: Columns (13) have mixed types. Specify dtype option on import or set low_memory=False.\n",
      "  data = pd.read_csv(file_path, skiprows=11)  # Adjust skiprows as needed\n"
     ]
    },
    {
     "name": "stdout",
     "output_type": "stream",
     "text": [
      "Genomap saved: genomaps\\ADNI3_FinalReport6993_genomap.png\n",
      "Processing file: ADNI3_FinalReport6994.csv\n"
     ]
    },
    {
     "name": "stderr",
     "output_type": "stream",
     "text": [
      "C:\\Users\\mudiv\\AppData\\Local\\Temp\\ipykernel_11800\\1192419693.py:9: DtypeWarning: Columns (13) have mixed types. Specify dtype option on import or set low_memory=False.\n",
      "  data = pd.read_csv(file_path, skiprows=11)  # Adjust skiprows as needed\n"
     ]
    },
    {
     "name": "stdout",
     "output_type": "stream",
     "text": [
      "Genomap saved: genomaps\\ADNI3_FinalReport6994_genomap.png\n",
      "Processing file: ADNI3_FinalReport6996.csv\n"
     ]
    },
    {
     "name": "stderr",
     "output_type": "stream",
     "text": [
      "C:\\Users\\mudiv\\AppData\\Local\\Temp\\ipykernel_11800\\1192419693.py:9: DtypeWarning: Columns (13) have mixed types. Specify dtype option on import or set low_memory=False.\n",
      "  data = pd.read_csv(file_path, skiprows=11)  # Adjust skiprows as needed\n"
     ]
    },
    {
     "name": "stdout",
     "output_type": "stream",
     "text": [
      "Genomap saved: genomaps\\ADNI3_FinalReport6996_genomap.png\n",
      "Processing file: ADNI3_FinalReport6998.csv\n"
     ]
    },
    {
     "name": "stderr",
     "output_type": "stream",
     "text": [
      "C:\\Users\\mudiv\\AppData\\Local\\Temp\\ipykernel_11800\\1192419693.py:9: DtypeWarning: Columns (13) have mixed types. Specify dtype option on import or set low_memory=False.\n",
      "  data = pd.read_csv(file_path, skiprows=11)  # Adjust skiprows as needed\n"
     ]
    },
    {
     "name": "stdout",
     "output_type": "stream",
     "text": [
      "Genomap saved: genomaps\\ADNI3_FinalReport6998_genomap.png\n",
      "Processing file: ADNI3_FinalReport6999.csv\n"
     ]
    },
    {
     "name": "stderr",
     "output_type": "stream",
     "text": [
      "C:\\Users\\mudiv\\AppData\\Local\\Temp\\ipykernel_11800\\1192419693.py:9: DtypeWarning: Columns (13) have mixed types. Specify dtype option on import or set low_memory=False.\n",
      "  data = pd.read_csv(file_path, skiprows=11)  # Adjust skiprows as needed\n"
     ]
    },
    {
     "name": "stdout",
     "output_type": "stream",
     "text": [
      "Genomap saved: genomaps\\ADNI3_FinalReport6999_genomap.png\n",
      "Processing file: ADNI3_FinalReport7000.csv\n"
     ]
    },
    {
     "name": "stderr",
     "output_type": "stream",
     "text": [
      "C:\\Users\\mudiv\\AppData\\Local\\Temp\\ipykernel_11800\\1192419693.py:9: DtypeWarning: Columns (13) have mixed types. Specify dtype option on import or set low_memory=False.\n",
      "  data = pd.read_csv(file_path, skiprows=11)  # Adjust skiprows as needed\n"
     ]
    },
    {
     "name": "stdout",
     "output_type": "stream",
     "text": [
      "Genomap saved: genomaps\\ADNI3_FinalReport7000_genomap.png\n",
      "Processing file: ADNI3_FinalReport7001.csv\n"
     ]
    },
    {
     "name": "stderr",
     "output_type": "stream",
     "text": [
      "C:\\Users\\mudiv\\AppData\\Local\\Temp\\ipykernel_11800\\1192419693.py:9: DtypeWarning: Columns (13) have mixed types. Specify dtype option on import or set low_memory=False.\n",
      "  data = pd.read_csv(file_path, skiprows=11)  # Adjust skiprows as needed\n"
     ]
    },
    {
     "name": "stdout",
     "output_type": "stream",
     "text": [
      "Genomap saved: genomaps\\ADNI3_FinalReport7001_genomap.png\n",
      "Processing file: ADNI3_FinalReport7003.csv\n"
     ]
    },
    {
     "name": "stderr",
     "output_type": "stream",
     "text": [
      "C:\\Users\\mudiv\\AppData\\Local\\Temp\\ipykernel_11800\\1192419693.py:9: DtypeWarning: Columns (13) have mixed types. Specify dtype option on import or set low_memory=False.\n",
      "  data = pd.read_csv(file_path, skiprows=11)  # Adjust skiprows as needed\n"
     ]
    },
    {
     "name": "stdout",
     "output_type": "stream",
     "text": [
      "Genomap saved: genomaps\\ADNI3_FinalReport7003_genomap.png\n",
      "Processing file: ADNI3_FinalReport7004.csv\n"
     ]
    },
    {
     "name": "stderr",
     "output_type": "stream",
     "text": [
      "C:\\Users\\mudiv\\AppData\\Local\\Temp\\ipykernel_11800\\1192419693.py:9: DtypeWarning: Columns (13) have mixed types. Specify dtype option on import or set low_memory=False.\n",
      "  data = pd.read_csv(file_path, skiprows=11)  # Adjust skiprows as needed\n"
     ]
    },
    {
     "name": "stdout",
     "output_type": "stream",
     "text": [
      "Genomap saved: genomaps\\ADNI3_FinalReport7004_genomap.png\n",
      "Processing file: ADNI3_FinalReport7007.csv\n"
     ]
    },
    {
     "name": "stderr",
     "output_type": "stream",
     "text": [
      "C:\\Users\\mudiv\\AppData\\Local\\Temp\\ipykernel_11800\\1192419693.py:9: DtypeWarning: Columns (13) have mixed types. Specify dtype option on import or set low_memory=False.\n",
      "  data = pd.read_csv(file_path, skiprows=11)  # Adjust skiprows as needed\n"
     ]
    },
    {
     "name": "stdout",
     "output_type": "stream",
     "text": [
      "Genomap saved: genomaps\\ADNI3_FinalReport7007_genomap.png\n",
      "Processing file: ADNI3_FinalReport7008.csv\n"
     ]
    },
    {
     "name": "stderr",
     "output_type": "stream",
     "text": [
      "C:\\Users\\mudiv\\AppData\\Local\\Temp\\ipykernel_11800\\1192419693.py:9: DtypeWarning: Columns (13) have mixed types. Specify dtype option on import or set low_memory=False.\n",
      "  data = pd.read_csv(file_path, skiprows=11)  # Adjust skiprows as needed\n"
     ]
    },
    {
     "name": "stdout",
     "output_type": "stream",
     "text": [
      "Genomap saved: genomaps\\ADNI3_FinalReport7008_genomap.png\n",
      "Processing file: ADNI3_FinalReport7010.csv\n"
     ]
    },
    {
     "name": "stderr",
     "output_type": "stream",
     "text": [
      "C:\\Users\\mudiv\\AppData\\Local\\Temp\\ipykernel_11800\\1192419693.py:9: DtypeWarning: Columns (13) have mixed types. Specify dtype option on import or set low_memory=False.\n",
      "  data = pd.read_csv(file_path, skiprows=11)  # Adjust skiprows as needed\n"
     ]
    },
    {
     "name": "stdout",
     "output_type": "stream",
     "text": [
      "Genomap saved: genomaps\\ADNI3_FinalReport7010_genomap.png\n",
      "Processing file: ADNI3_FinalReport7011.csv\n"
     ]
    },
    {
     "name": "stderr",
     "output_type": "stream",
     "text": [
      "C:\\Users\\mudiv\\AppData\\Local\\Temp\\ipykernel_11800\\1192419693.py:9: DtypeWarning: Columns (13) have mixed types. Specify dtype option on import or set low_memory=False.\n",
      "  data = pd.read_csv(file_path, skiprows=11)  # Adjust skiprows as needed\n"
     ]
    },
    {
     "name": "stdout",
     "output_type": "stream",
     "text": [
      "Genomap saved: genomaps\\ADNI3_FinalReport7011_genomap.png\n",
      "Processing file: ADNI3_FinalReport7012.csv\n"
     ]
    },
    {
     "name": "stderr",
     "output_type": "stream",
     "text": [
      "C:\\Users\\mudiv\\AppData\\Local\\Temp\\ipykernel_11800\\1192419693.py:9: DtypeWarning: Columns (13) have mixed types. Specify dtype option on import or set low_memory=False.\n",
      "  data = pd.read_csv(file_path, skiprows=11)  # Adjust skiprows as needed\n"
     ]
    },
    {
     "name": "stdout",
     "output_type": "stream",
     "text": [
      "Genomap saved: genomaps\\ADNI3_FinalReport7012_genomap.png\n",
      "Processing file: ADNI3_FinalReport7013.csv\n"
     ]
    },
    {
     "name": "stderr",
     "output_type": "stream",
     "text": [
      "C:\\Users\\mudiv\\AppData\\Local\\Temp\\ipykernel_11800\\1192419693.py:9: DtypeWarning: Columns (13) have mixed types. Specify dtype option on import or set low_memory=False.\n",
      "  data = pd.read_csv(file_path, skiprows=11)  # Adjust skiprows as needed\n"
     ]
    },
    {
     "name": "stdout",
     "output_type": "stream",
     "text": [
      "Genomap saved: genomaps\\ADNI3_FinalReport7013_genomap.png\n",
      "Processing file: ADNI3_FinalReport7015.csv\n"
     ]
    },
    {
     "name": "stderr",
     "output_type": "stream",
     "text": [
      "C:\\Users\\mudiv\\AppData\\Local\\Temp\\ipykernel_11800\\1192419693.py:9: DtypeWarning: Columns (13) have mixed types. Specify dtype option on import or set low_memory=False.\n",
      "  data = pd.read_csv(file_path, skiprows=11)  # Adjust skiprows as needed\n"
     ]
    },
    {
     "name": "stdout",
     "output_type": "stream",
     "text": [
      "Genomap saved: genomaps\\ADNI3_FinalReport7015_genomap.png\n",
      "Processing file: ADNI3_FinalReport7016.csv\n"
     ]
    },
    {
     "name": "stderr",
     "output_type": "stream",
     "text": [
      "C:\\Users\\mudiv\\AppData\\Local\\Temp\\ipykernel_11800\\1192419693.py:9: DtypeWarning: Columns (13) have mixed types. Specify dtype option on import or set low_memory=False.\n",
      "  data = pd.read_csv(file_path, skiprows=11)  # Adjust skiprows as needed\n"
     ]
    },
    {
     "name": "stdout",
     "output_type": "stream",
     "text": [
      "Genomap saved: genomaps\\ADNI3_FinalReport7016_genomap.png\n",
      "Processing file: ADNI3_FinalReport7018.csv\n"
     ]
    },
    {
     "name": "stderr",
     "output_type": "stream",
     "text": [
      "C:\\Users\\mudiv\\AppData\\Local\\Temp\\ipykernel_11800\\1192419693.py:9: DtypeWarning: Columns (13) have mixed types. Specify dtype option on import or set low_memory=False.\n",
      "  data = pd.read_csv(file_path, skiprows=11)  # Adjust skiprows as needed\n"
     ]
    },
    {
     "name": "stdout",
     "output_type": "stream",
     "text": [
      "Genomap saved: genomaps\\ADNI3_FinalReport7018_genomap.png\n",
      "Processing file: ADNI3_FinalReport7019.csv\n"
     ]
    },
    {
     "name": "stderr",
     "output_type": "stream",
     "text": [
      "C:\\Users\\mudiv\\AppData\\Local\\Temp\\ipykernel_11800\\1192419693.py:9: DtypeWarning: Columns (13) have mixed types. Specify dtype option on import or set low_memory=False.\n",
      "  data = pd.read_csv(file_path, skiprows=11)  # Adjust skiprows as needed\n"
     ]
    },
    {
     "name": "stdout",
     "output_type": "stream",
     "text": [
      "Genomap saved: genomaps\\ADNI3_FinalReport7019_genomap.png\n",
      "Processing file: ADNI3_FinalReport7020.csv\n"
     ]
    },
    {
     "name": "stderr",
     "output_type": "stream",
     "text": [
      "C:\\Users\\mudiv\\AppData\\Local\\Temp\\ipykernel_11800\\1192419693.py:9: DtypeWarning: Columns (13) have mixed types. Specify dtype option on import or set low_memory=False.\n",
      "  data = pd.read_csv(file_path, skiprows=11)  # Adjust skiprows as needed\n"
     ]
    },
    {
     "name": "stdout",
     "output_type": "stream",
     "text": [
      "Genomap saved: genomaps\\ADNI3_FinalReport7020_genomap.png\n",
      "Processing file: ADNI3_FinalReport7021.csv\n"
     ]
    },
    {
     "name": "stderr",
     "output_type": "stream",
     "text": [
      "C:\\Users\\mudiv\\AppData\\Local\\Temp\\ipykernel_11800\\1192419693.py:9: DtypeWarning: Columns (13) have mixed types. Specify dtype option on import or set low_memory=False.\n",
      "  data = pd.read_csv(file_path, skiprows=11)  # Adjust skiprows as needed\n"
     ]
    },
    {
     "name": "stdout",
     "output_type": "stream",
     "text": [
      "Genomap saved: genomaps\\ADNI3_FinalReport7021_genomap.png\n",
      "Processing file: ADNI3_FinalReport7023.csv\n"
     ]
    },
    {
     "name": "stderr",
     "output_type": "stream",
     "text": [
      "C:\\Users\\mudiv\\AppData\\Local\\Temp\\ipykernel_11800\\1192419693.py:9: DtypeWarning: Columns (13) have mixed types. Specify dtype option on import or set low_memory=False.\n",
      "  data = pd.read_csv(file_path, skiprows=11)  # Adjust skiprows as needed\n"
     ]
    },
    {
     "name": "stdout",
     "output_type": "stream",
     "text": [
      "Genomap saved: genomaps\\ADNI3_FinalReport7023_genomap.png\n",
      "Processing file: ADNI3_FinalReport7024.csv\n"
     ]
    },
    {
     "name": "stderr",
     "output_type": "stream",
     "text": [
      "C:\\Users\\mudiv\\AppData\\Local\\Temp\\ipykernel_11800\\1192419693.py:9: DtypeWarning: Columns (13) have mixed types. Specify dtype option on import or set low_memory=False.\n",
      "  data = pd.read_csv(file_path, skiprows=11)  # Adjust skiprows as needed\n"
     ]
    },
    {
     "name": "stdout",
     "output_type": "stream",
     "text": [
      "Genomap saved: genomaps\\ADNI3_FinalReport7024_genomap.png\n",
      "Processing file: ADNI3_FinalReport7025.csv\n"
     ]
    },
    {
     "name": "stderr",
     "output_type": "stream",
     "text": [
      "C:\\Users\\mudiv\\AppData\\Local\\Temp\\ipykernel_11800\\1192419693.py:9: DtypeWarning: Columns (13) have mixed types. Specify dtype option on import or set low_memory=False.\n",
      "  data = pd.read_csv(file_path, skiprows=11)  # Adjust skiprows as needed\n"
     ]
    },
    {
     "name": "stdout",
     "output_type": "stream",
     "text": [
      "Genomap saved: genomaps\\ADNI3_FinalReport7025_genomap.png\n",
      "Processing file: ADNI3_FinalReport7027.csv\n"
     ]
    },
    {
     "name": "stderr",
     "output_type": "stream",
     "text": [
      "C:\\Users\\mudiv\\AppData\\Local\\Temp\\ipykernel_11800\\1192419693.py:9: DtypeWarning: Columns (13) have mixed types. Specify dtype option on import or set low_memory=False.\n",
      "  data = pd.read_csv(file_path, skiprows=11)  # Adjust skiprows as needed\n"
     ]
    },
    {
     "name": "stdout",
     "output_type": "stream",
     "text": [
      "Genomap saved: genomaps\\ADNI3_FinalReport7027_genomap.png\n",
      "Processing file: ADNI3_FinalReport7029.csv\n"
     ]
    },
    {
     "name": "stderr",
     "output_type": "stream",
     "text": [
      "C:\\Users\\mudiv\\AppData\\Local\\Temp\\ipykernel_11800\\1192419693.py:9: DtypeWarning: Columns (13) have mixed types. Specify dtype option on import or set low_memory=False.\n",
      "  data = pd.read_csv(file_path, skiprows=11)  # Adjust skiprows as needed\n"
     ]
    },
    {
     "name": "stdout",
     "output_type": "stream",
     "text": [
      "Genomap saved: genomaps\\ADNI3_FinalReport7029_genomap.png\n",
      "Processing file: ADNI3_FinalReport7031.csv\n"
     ]
    },
    {
     "name": "stderr",
     "output_type": "stream",
     "text": [
      "C:\\Users\\mudiv\\AppData\\Local\\Temp\\ipykernel_11800\\1192419693.py:9: DtypeWarning: Columns (13) have mixed types. Specify dtype option on import or set low_memory=False.\n",
      "  data = pd.read_csv(file_path, skiprows=11)  # Adjust skiprows as needed\n"
     ]
    },
    {
     "name": "stdout",
     "output_type": "stream",
     "text": [
      "Genomap saved: genomaps\\ADNI3_FinalReport7031_genomap.png\n",
      "Processing file: ADNI3_FinalReport7032.csv\n"
     ]
    },
    {
     "name": "stderr",
     "output_type": "stream",
     "text": [
      "C:\\Users\\mudiv\\AppData\\Local\\Temp\\ipykernel_11800\\1192419693.py:9: DtypeWarning: Columns (13) have mixed types. Specify dtype option on import or set low_memory=False.\n",
      "  data = pd.read_csv(file_path, skiprows=11)  # Adjust skiprows as needed\n"
     ]
    },
    {
     "name": "stdout",
     "output_type": "stream",
     "text": [
      "Error processing ADNI3_FinalReport7032.csv: '0.8136'\n",
      "Processing file: ADNI3_FinalReport7033.csv\n"
     ]
    },
    {
     "name": "stderr",
     "output_type": "stream",
     "text": [
      "C:\\Users\\mudiv\\AppData\\Local\\Temp\\ipykernel_11800\\1192419693.py:9: DtypeWarning: Columns (13) have mixed types. Specify dtype option on import or set low_memory=False.\n",
      "  data = pd.read_csv(file_path, skiprows=11)  # Adjust skiprows as needed\n"
     ]
    },
    {
     "name": "stdout",
     "output_type": "stream",
     "text": [
      "Genomap saved: genomaps\\ADNI3_FinalReport7033_genomap.png\n",
      "Processing file: ADNI3_FinalReport7037.csv\n"
     ]
    },
    {
     "name": "stderr",
     "output_type": "stream",
     "text": [
      "C:\\Users\\mudiv\\AppData\\Local\\Temp\\ipykernel_11800\\1192419693.py:9: DtypeWarning: Columns (13) have mixed types. Specify dtype option on import or set low_memory=False.\n",
      "  data = pd.read_csv(file_path, skiprows=11)  # Adjust skiprows as needed\n"
     ]
    },
    {
     "name": "stdout",
     "output_type": "stream",
     "text": [
      "Genomap saved: genomaps\\ADNI3_FinalReport7037_genomap.png\n",
      "Processing file: ADNI3_FinalReport7041.csv\n"
     ]
    },
    {
     "name": "stderr",
     "output_type": "stream",
     "text": [
      "C:\\Users\\mudiv\\AppData\\Local\\Temp\\ipykernel_11800\\1192419693.py:9: DtypeWarning: Columns (13) have mixed types. Specify dtype option on import or set low_memory=False.\n",
      "  data = pd.read_csv(file_path, skiprows=11)  # Adjust skiprows as needed\n"
     ]
    },
    {
     "name": "stdout",
     "output_type": "stream",
     "text": [
      "Genomap saved: genomaps\\ADNI3_FinalReport7041_genomap.png\n",
      "Processing file: ADNI3_FinalReport7042.csv\n"
     ]
    },
    {
     "name": "stderr",
     "output_type": "stream",
     "text": [
      "C:\\Users\\mudiv\\AppData\\Local\\Temp\\ipykernel_11800\\1192419693.py:9: DtypeWarning: Columns (13) have mixed types. Specify dtype option on import or set low_memory=False.\n",
      "  data = pd.read_csv(file_path, skiprows=11)  # Adjust skiprows as needed\n"
     ]
    },
    {
     "name": "stdout",
     "output_type": "stream",
     "text": [
      "Genomap saved: genomaps\\ADNI3_FinalReport7042_genomap.png\n",
      "Processing file: ADNI3_FinalReport7043.csv\n"
     ]
    },
    {
     "name": "stderr",
     "output_type": "stream",
     "text": [
      "C:\\Users\\mudiv\\AppData\\Local\\Temp\\ipykernel_11800\\1192419693.py:9: DtypeWarning: Columns (13) have mixed types. Specify dtype option on import or set low_memory=False.\n",
      "  data = pd.read_csv(file_path, skiprows=11)  # Adjust skiprows as needed\n"
     ]
    },
    {
     "name": "stdout",
     "output_type": "stream",
     "text": [
      "Genomap saved: genomaps\\ADNI3_FinalReport7043_genomap.png\n",
      "Processing file: ADNI3_FinalReport7045.csv\n"
     ]
    },
    {
     "name": "stderr",
     "output_type": "stream",
     "text": [
      "C:\\Users\\mudiv\\AppData\\Local\\Temp\\ipykernel_11800\\1192419693.py:9: DtypeWarning: Columns (13) have mixed types. Specify dtype option on import or set low_memory=False.\n",
      "  data = pd.read_csv(file_path, skiprows=11)  # Adjust skiprows as needed\n"
     ]
    },
    {
     "name": "stdout",
     "output_type": "stream",
     "text": [
      "Genomap saved: genomaps\\ADNI3_FinalReport7045_genomap.png\n",
      "Processing file: ADNI3_FinalReport7046.csv\n"
     ]
    },
    {
     "name": "stderr",
     "output_type": "stream",
     "text": [
      "C:\\Users\\mudiv\\AppData\\Local\\Temp\\ipykernel_11800\\1192419693.py:9: DtypeWarning: Columns (13) have mixed types. Specify dtype option on import or set low_memory=False.\n",
      "  data = pd.read_csv(file_path, skiprows=11)  # Adjust skiprows as needed\n"
     ]
    },
    {
     "name": "stdout",
     "output_type": "stream",
     "text": [
      "Genomap saved: genomaps\\ADNI3_FinalReport7046_genomap.png\n",
      "Processing file: ADNI3_FinalReport7048.csv\n"
     ]
    },
    {
     "name": "stderr",
     "output_type": "stream",
     "text": [
      "C:\\Users\\mudiv\\AppData\\Local\\Temp\\ipykernel_11800\\1192419693.py:9: DtypeWarning: Columns (13) have mixed types. Specify dtype option on import or set low_memory=False.\n",
      "  data = pd.read_csv(file_path, skiprows=11)  # Adjust skiprows as needed\n"
     ]
    },
    {
     "name": "stdout",
     "output_type": "stream",
     "text": [
      "Genomap saved: genomaps\\ADNI3_FinalReport7048_genomap.png\n",
      "Processing file: ADNI3_FinalReport7051.csv\n"
     ]
    },
    {
     "name": "stderr",
     "output_type": "stream",
     "text": [
      "C:\\Users\\mudiv\\AppData\\Local\\Temp\\ipykernel_11800\\1192419693.py:9: DtypeWarning: Columns (13) have mixed types. Specify dtype option on import or set low_memory=False.\n",
      "  data = pd.read_csv(file_path, skiprows=11)  # Adjust skiprows as needed\n"
     ]
    },
    {
     "name": "stdout",
     "output_type": "stream",
     "text": [
      "Genomap saved: genomaps\\ADNI3_FinalReport7051_genomap.png\n",
      "Processing file: ADNI3_FinalReport7054.csv\n"
     ]
    },
    {
     "name": "stderr",
     "output_type": "stream",
     "text": [
      "C:\\Users\\mudiv\\AppData\\Local\\Temp\\ipykernel_11800\\1192419693.py:9: DtypeWarning: Columns (13) have mixed types. Specify dtype option on import or set low_memory=False.\n",
      "  data = pd.read_csv(file_path, skiprows=11)  # Adjust skiprows as needed\n"
     ]
    },
    {
     "name": "stdout",
     "output_type": "stream",
     "text": [
      "Genomap saved: genomaps\\ADNI3_FinalReport7054_genomap.png\n",
      "Processing file: ADNI3_FinalReport7055.csv\n"
     ]
    },
    {
     "name": "stderr",
     "output_type": "stream",
     "text": [
      "C:\\Users\\mudiv\\AppData\\Local\\Temp\\ipykernel_11800\\1192419693.py:9: DtypeWarning: Columns (13) have mixed types. Specify dtype option on import or set low_memory=False.\n",
      "  data = pd.read_csv(file_path, skiprows=11)  # Adjust skiprows as needed\n"
     ]
    },
    {
     "name": "stdout",
     "output_type": "stream",
     "text": [
      "Genomap saved: genomaps\\ADNI3_FinalReport7055_genomap.png\n",
      "Processing file: ADNI3_FinalReport7059.csv\n"
     ]
    },
    {
     "name": "stderr",
     "output_type": "stream",
     "text": [
      "C:\\Users\\mudiv\\AppData\\Local\\Temp\\ipykernel_11800\\1192419693.py:9: DtypeWarning: Columns (13) have mixed types. Specify dtype option on import or set low_memory=False.\n",
      "  data = pd.read_csv(file_path, skiprows=11)  # Adjust skiprows as needed\n"
     ]
    },
    {
     "name": "stdout",
     "output_type": "stream",
     "text": [
      "Genomap saved: genomaps\\ADNI3_FinalReport7059_genomap.png\n",
      "Processing file: ADNI3_FinalReport7062.csv\n"
     ]
    },
    {
     "name": "stderr",
     "output_type": "stream",
     "text": [
      "C:\\Users\\mudiv\\AppData\\Local\\Temp\\ipykernel_11800\\1192419693.py:9: DtypeWarning: Columns (13) have mixed types. Specify dtype option on import or set low_memory=False.\n",
      "  data = pd.read_csv(file_path, skiprows=11)  # Adjust skiprows as needed\n"
     ]
    },
    {
     "name": "stdout",
     "output_type": "stream",
     "text": [
      "Genomap saved: genomaps\\ADNI3_FinalReport7062_genomap.png\n",
      "Processing file: ADNI3_FinalReport7066.csv\n"
     ]
    },
    {
     "name": "stderr",
     "output_type": "stream",
     "text": [
      "C:\\Users\\mudiv\\AppData\\Local\\Temp\\ipykernel_11800\\1192419693.py:9: DtypeWarning: Columns (13) have mixed types. Specify dtype option on import or set low_memory=False.\n",
      "  data = pd.read_csv(file_path, skiprows=11)  # Adjust skiprows as needed\n"
     ]
    },
    {
     "name": "stdout",
     "output_type": "stream",
     "text": [
      "Genomap saved: genomaps\\ADNI3_FinalReport7066_genomap.png\n",
      "Processing file: ADNI3_FinalReport7071.csv\n"
     ]
    },
    {
     "name": "stderr",
     "output_type": "stream",
     "text": [
      "C:\\Users\\mudiv\\AppData\\Local\\Temp\\ipykernel_11800\\1192419693.py:9: DtypeWarning: Columns (13) have mixed types. Specify dtype option on import or set low_memory=False.\n",
      "  data = pd.read_csv(file_path, skiprows=11)  # Adjust skiprows as needed\n"
     ]
    },
    {
     "name": "stdout",
     "output_type": "stream",
     "text": [
      "Genomap saved: genomaps\\ADNI3_FinalReport7071_genomap.png\n",
      "Processing file: ADNI3_FinalReport7074.csv\n"
     ]
    },
    {
     "name": "stderr",
     "output_type": "stream",
     "text": [
      "C:\\Users\\mudiv\\AppData\\Local\\Temp\\ipykernel_11800\\1192419693.py:9: DtypeWarning: Columns (13) have mixed types. Specify dtype option on import or set low_memory=False.\n",
      "  data = pd.read_csv(file_path, skiprows=11)  # Adjust skiprows as needed\n"
     ]
    },
    {
     "name": "stdout",
     "output_type": "stream",
     "text": [
      "Genomap saved: genomaps\\ADNI3_FinalReport7074_genomap.png\n",
      "Processing file: ADNI3_FinalReport909.csv\n"
     ]
    },
    {
     "name": "stderr",
     "output_type": "stream",
     "text": [
      "C:\\Users\\mudiv\\AppData\\Local\\Temp\\ipykernel_11800\\1192419693.py:9: DtypeWarning: Columns (13) have mixed types. Specify dtype option on import or set low_memory=False.\n",
      "  data = pd.read_csv(file_path, skiprows=11)  # Adjust skiprows as needed\n"
     ]
    },
    {
     "name": "stdout",
     "output_type": "stream",
     "text": [
      "Genomap saved: genomaps\\ADNI3_FinalReport909_genomap.png\n",
      "Processing file: ADNI3_FinalReport975.csv\n"
     ]
    },
    {
     "name": "stderr",
     "output_type": "stream",
     "text": [
      "C:\\Users\\mudiv\\AppData\\Local\\Temp\\ipykernel_11800\\1192419693.py:9: DtypeWarning: Columns (13) have mixed types. Specify dtype option on import or set low_memory=False.\n",
      "  data = pd.read_csv(file_path, skiprows=11)  # Adjust skiprows as needed\n"
     ]
    },
    {
     "name": "stdout",
     "output_type": "stream",
     "text": [
      "Genomap saved: genomaps\\ADNI3_FinalReport975_genomap.png\n"
     ]
    },
    {
     "data": {
      "image/png": "[encoded data removed]",
      "text/plain": [
       "<Figure size 640x480 with 1 Axes>"
      ]
     },
     "metadata": {},
     "output_type": "display_data"
    }
   ],
   "source": [
    "# Loop through all files in the input directory\n",
    "for file_name in os.listdir(input_directory):\n",
    "    if file_name.endswith('.csv'):  # Process only CSV files\n",
    "        file_path = os.path.join(input_directory, file_name)\n",
    "        print(f\"Processing file: {file_name}\")\n",
    "\n",
    "        try:\n",
    "            # Load the dataset\n",
    "            data = pd.read_csv(file_path, skiprows=11)  # Adjust skiprows as needed\n",
    "\n",
    "            # Extract relevant columns (adjust column names as per your files)\n",
    "            chromosome_column = data['1.1']  # Chromosome column\n",
    "            position_column = data['103380393']  # Position column\n",
    "            metric_column = data['0.8136']  # Metric column (e.g., GT Score)\n",
    "\n",
    "            # Convert to numeric and drop NaN values\n",
    "            data['chromosome'] = pd.to_numeric(chromosome_column, errors='coerce')\n",
    "            data['position'] = pd.to_numeric(position_column, errors='coerce')\n",
    "            data['metric'] = pd.to_numeric(metric_column, errors='coerce')\n",
    "            data = data.dropna(subset=['chromosome', 'position', 'metric'])\n",
    "\n",
    "\n",
    "            # Create the scatter plot\n",
    "            plt.figure(figsize=(12, 8))\n",
    "            scatter = plt.scatter(\n",
    "                data['position'], data['metric'], c=data['chromosome'], cmap='tab20', alpha=0.7\n",
    "            )\n",
    "            plt.colorbar(scatter, label='Chromosome')\n",
    "            plt.title(f'Genomap: SNP Distribution for {file_name}')\n",
    "            plt.xlabel('Genomic Position (bp)')\n",
    "            plt.ylabel('Metric (e.g., GT Score)')\n",
    "            plt.grid(True)\n",
    "\n",
    "            # Save the plot as an image\n",
    "            output_file_path = os.path.join(output_directory, f\"{os.path.splitext(file_name)[0]}_genomap.png\")\n",
    "            plt.savefig(output_file_path)\n",
    "            plt.close()\n",
    "            print(f\"Genomap saved: {output_file_path}\")\n",
    "\n",
    "        except Exception as e:\n",
    "            print(f\"Error processing {file_name}: {e}\")\n",
    "\n",
    "\n",
    "\n",
    "            # Example annotations for Alzheimer-related SNPs or regions\n",
    "# These should be specific SNPs or positions known to be associated with Alzheimer's\n",
    "annotations = [\n",
    "    (45411941, 1.0, 'APOE SNP'),  # Example: APOE gene region\n",
    "    (45412079, 0.9, 'Another SNP')  # Another SNP in the APOE region\n",
    "]\n",
    "\n",
    "for x, y, label in annotations:\n",
    "    plt.annotate(label, xy=(x, y), xytext=(x + 50000, y + 0.2),\n",
    "                 arrowprops=dict(facecolor='red', arrowstyle='->'), fontsize=10, color='blue')\n",
    "\n",
    "# Show the plot\n",
    "plt.show()"
   ]
  }
 ],
 "metadata": {
  "kernelspec": {
   "display_name": "Python 3",
   "language": "python",
   "name": "python3"
  },
  "language_info": {
   "codemirror_mode": {
    "name": "ipython",
    "version": 3
   },
   "file_extension": ".py",
   "mimetype": "text/x-python",
   "name": "python",
   "nbconvert_exporter": "python",
   "pygments_lexer": "ipython3",
   "version": "3.12.5"
  }
 },
 "nbformat": 4,
 "nbformat_minor": 2
}
